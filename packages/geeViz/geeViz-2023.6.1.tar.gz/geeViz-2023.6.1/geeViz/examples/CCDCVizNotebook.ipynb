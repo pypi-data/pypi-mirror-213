{
 "cells": [
  {
   "cell_type": "markdown",
   "id": "15b5b935",
   "metadata": {},
   "source": [
    "\n",
    "   Copyright 2023 Ian Housman\n",
    "\n",
    "   Licensed under the Apache License, Version 2.0 (the \"License\");\n",
    "   you may not use this file except in compliance with the License.\n",
    "   You may obtain a copy of the License at\n",
    "\n",
    "       http://www.apache.org/licenses/LICENSE-2.0\n",
    "\n",
    "   Unless required by applicable law or agreed to in writing, software\n",
    "   distributed under the License is distributed on an \"AS IS\" BASIS,\n",
    "   WITHOUT WARRANTIES OR CONDITIONS OF ANY KIND, either express or implied.\n",
    "   See the License for the specific language governing permissions and\n",
    "   limitations under the License.\n"
   ]
  },
  {
   "cell_type": "code",
   "execution_count": 4,
   "id": "e57ee268",
   "metadata": {},
   "outputs": [
    {
     "name": "stdout",
     "output_type": "stream",
     "text": [
      "done\n"
     ]
    }
   ],
   "source": [
    "#Example of how to visualize CCDC outputs using the Python visualization tools\n",
    "#Adds change products and fitted harmonics from CCDC output to the viewer\n",
    "#The general workflow for CCDC is to run the CCDCWrapper.py script, and then either utilize the harmonic model for a given date\n",
    "#or to use the breaks for change detection. All of this is demonstrated in this example\n",
    "####################################################################################################\n",
    "import os,sys\n",
    "sys.path.append(os.getcwd())\n",
    "\n",
    "#Module imports\n",
    "import geeViz.getImagesLib as getImagesLib\n",
    "import geeViz.changeDetectionLib as changeDetectionLib\n",
    "ee = getImagesLib.ee\n",
    "Map = getImagesLib.Map\n",
    "Map.clearMap()\n",
    "####################################################################################################\n",
    "#Bring in ccdc image asset\n",
    "#This is assumed to be an image of arrays that is returned from the ee.Algorithms.TemporalSegmentation.Ccdc method\n",
    "ccdcImg = ee.ImageCollection('projects/lcms-292214/assets/CONUS-LCMS/Base-Learners/CCDC-Collection-1984-2022')\\\n",
    "          .select(['tStart','tEnd','tBreak','changeProb','red.*','nir.*','swir1.*','swir2.*','NDVI.*','NBR.*']).mosaic()\n",
    "\n",
    "\n",
    "#Specify which harmonics to use when predicting the CCDC model\n",
    "#CCDC exports the first 3 harmonics (1 cycle/yr, 2 cycles/yr, and 3 cycles/yr)\n",
    "#If you only want to see yearly patterns, specify [1]\n",
    "#If you would like a tighter fit in the predicted value, include the second or third harmonic as well [1,2,3]\n",
    "whichHarmonics = [1,2,3]\n",
    "\n",
    "#Whether to fill gaps between segments' end year and the subsequent start year to the break date\n",
    "fillGaps = False\n",
    "\n",
    "#Specify which band to use for loss and gain. \n",
    "#This is most important for the loss and gain magnitude since the year of change will be the same for all years\n",
    "changeDetectionBandName = 'NDVI'\n",
    "\n",
    "# Choose whether to show the most recent ('mostRecent') or highest magnitude ('highestMag') CCDC break\n",
    "sortingMethod = 'mostRecent'\n",
    "####################################################################################################\n",
    "#Pull out some info about the ccdc image\n",
    "startJulian = 1\n",
    "endJulian = 365\n",
    "startYear = 1984\n",
    "endYear = 2022\n",
    "print('done')"
   ]
  },
  {
   "cell_type": "code",
   "execution_count": 5,
   "id": "26bdb396",
   "metadata": {},
   "outputs": [
    {
     "name": "stdout",
     "output_type": "stream",
     "text": [
      "Adding layer: Raw CCDC Output\n",
      "Starting webmap\n",
      "Using default refresh token for geeView: C:\\Users\\ihousman/.config/earthengine/credentials\n",
      "Local web server at: http://localhost:8001/geeView/ already serving.\n",
      "cwd A:\\GEE\\gee_py_modules_package\\geeViz\\examples\n"
     ]
    },
    {
     "data": {
      "text/html": [
       "\n",
       "        <iframe\n",
       "            width=\"100%\"\n",
       "            height=\"525px\"\n",
       "            src=\"http://localhost:8001/geeView/?accessToken=ya29.a0AVvZVsr3rv32GR_z1YsbWTwjxi5CVK7VeI-Kq_dVA9uBl4-krWFpyGXngylwTz7D-9x27e8hyKOQesZDOF86pBob-dENnVRh5iamicwcdUNV4hGKOAz1558cNUEdKaQv3fPC64ByVzMwM9lWYnw4SntqoEz7MQYidnjsALsaCgYKAZASARASFQGbdwaIX7n6n6CDFbSUqLQeFHdJkQ0174\"\n",
       "            frameborder=\"0\"\n",
       "            allowfullscreen\n",
       "            \n",
       "        ></iframe>\n",
       "        "
      ],
      "text/plain": [
       "<IPython.lib.display.IFrame at 0x228f3242aa0>"
      ]
     },
     "execution_count": 5,
     "metadata": {},
     "output_type": "execute_result"
    }
   ],
   "source": [
    "Map.clearMap()\n",
    "#Add the raw array image\n",
    "Map.addLayer(ccdcImg,{},'Raw CCDC Output',True)\n",
    "Map.centerObject(ccdcImg)\n",
    "Map.turnOnInspector()\n",
    "Map.view(open_browser = False, open_iframe = True)\n",
    "Map.IFrame\n",
    "#Double click on map to see raw CCDC output image array values\n",
    "#Notice it is difficult to interpret these values as a time series since only breaks and their respective harmonic models are stored"
   ]
  },
  {
   "cell_type": "code",
   "execution_count": 6,
   "id": "194029e4",
   "metadata": {},
   "outputs": [
    {
     "name": "stdout",
     "output_type": "stream",
     "text": [
      "Adding layer: Loss Year\n",
      "Adding layer: Loss Mag\n",
      "Adding layer: Gain Year\n",
      "Adding layer: Gain Mag\n",
      "Starting webmap\n",
      "Using default refresh token for geeView: C:\\Users\\ihousman/.config/earthengine/credentials\n",
      "Local web server at: http://localhost:8001/geeView/ already serving.\n",
      "cwd A:\\GEE\\gee_py_modules_package\\geeViz\\examples\n"
     ]
    },
    {
     "data": {
      "text/html": [
       "\n",
       "        <iframe\n",
       "            width=\"100%\"\n",
       "            height=\"525px\"\n",
       "            src=\"http://localhost:8001/geeView/?accessToken=ya29.a0AVvZVsrMif7t4b9j4NMMAWpswOaKLbjn09Re__Dzt7iEKrU_A_GHueOCCdJNssXUbK61RIrvVscQHjzBOzsh-QWIuD1Y7xApRR1vPPWKc0dv-l-WD4M7xm2D4m7abo9W6YqXw_eTFQEOAR2pfmCoxzgnYdC4B6-SrzhylTsaCgYKAUUSARASFQGbdwaITM5-6Hw98XrdwfEdTKlT9A0174\"\n",
       "            frameborder=\"0\"\n",
       "            allowfullscreen\n",
       "            \n",
       "        ></iframe>\n",
       "        "
      ],
      "text/plain": [
       "<IPython.lib.display.IFrame at 0x228f14defe0>"
      ]
     },
     "execution_count": 6,
     "metadata": {},
     "output_type": "execute_result"
    }
   ],
   "source": [
    "Map.clearMap()\n",
    "#We will not look at more useful ways of visualizing CCDC outputs\n",
    "#First, we will extract the change years and magnitude\n",
    "changeObj = changeDetectionLib.ccdcChangeDetection(ccdcImg,changeDetectionBandName);\n",
    "Map.addLayer(changeObj[sortingMethod]['loss']['year'],{'min':startYear,'max':endYear,'palette':changeDetectionLib.lossYearPalette},'Loss Year')\n",
    "Map.addLayer(changeObj[sortingMethod]['loss']['mag'],{'min':-0.5,'max':-0.1,'palette':changeDetectionLib.lossMagPalette},'Loss Mag',False);\n",
    "Map.addLayer(changeObj[sortingMethod]['gain']['year'],{'min':startYear,'max':endYear,'palette':changeDetectionLib.gainYearPalette},'Gain Year');\n",
    "Map.addLayer(changeObj[sortingMethod]['gain']['mag'],{'min':0.05,'max':0.2,'palette':changeDetectionLib.gainMagPalette},'Gain Mag',False);\n",
    "\n",
    "Map.turnOnInspector()\n",
    "Map.view(open_browser = False, open_iframe = True)\n",
    "Map.IFrame\n",
    "#Double click on map to see raw years of loss and gain breaks\n",
    "#Notice as you zoom in the layers change since GEE is processing outputs at a given pyramid level"
   ]
  },
  {
   "cell_type": "code",
   "execution_count": 8,
   "id": "4a8031fe",
   "metadata": {},
   "outputs": [
    {
     "name": "stdout",
     "output_type": "stream",
     "text": [
      "Adding layer: Fitted CCDC\n",
      "Adding layer: Synthetic Composite\n",
      "Starting webmap\n",
      "Using default refresh token for geeView: C:\\Users\\ihousman/.config/earthengine/credentials\n",
      "Local web server at: http://localhost:8001/geeView/ already serving.\n",
      "cwd A:\\GEE\\gee_py_modules_package\\geeViz\\examples\n"
     ]
    },
    {
     "data": {
      "text/html": [
       "\n",
       "        <iframe\n",
       "            width=\"100%\"\n",
       "            height=\"525px\"\n",
       "            src=\"http://localhost:8001/geeView/?accessToken=ya29.a0AVvZVsom3Qh_z__LAqhHurHDz3JmwQFePeXAjRslVNc8VbdfdAlnlO4VDw8svgfGpOyD3YzAYm1zak_lkcwQpyamL0kbR-UaBkPySMGXOg7vwG13YLkpd_6a9pwd2ogXls5HRYjFa6a1_AJ_ZM1BWIkIx1D451OMo5PQ360aCgYKAZ4SARASFQGbdwaI7w_vSJCVMYIGSxUn9FxTrw0174\"\n",
       "            frameborder=\"0\"\n",
       "            allowfullscreen\n",
       "            \n",
       "        ></iframe>\n",
       "        "
      ],
      "text/plain": [
       "<IPython.lib.display.IFrame at 0x228f321ece0>"
      ]
     },
     "execution_count": 8,
     "metadata": {},
     "output_type": "execute_result"
    }
   ],
   "source": [
    "Map.clearMap()\n",
    "#Apply the CCDC harmonic model across a time series\n",
    "#First get a time series of time images \n",
    "yearImages = changeDetectionLib.getTimeImageCollection(startYear,endYear,startJulian,endJulian,0.1);\n",
    "\n",
    "#Then predict the CCDC models\n",
    "fitted = changeDetectionLib.predictCCDC(ccdcImg,yearImages,fillGaps,whichHarmonics)\n",
    "Map.addLayer(fitted.select(['.*_predicted']),{'opacity':0},'Fitted CCDC',True);\n",
    "\n",
    "\n",
    "# Synthetic composites visualizing\n",
    "# Take common false color composite bands and visualize them for the next to the last year\n",
    "\n",
    "# First get the bands of predicted bands and then split off the name\n",
    "fittedBns = fitted.select(['.*_predicted']).first().bandNames()\n",
    "bns = fittedBns.map(lambda bn: ee.String(bn).split('_').get(0))\n",
    "\n",
    "# Filter down to the next to the last year and a summer date range\n",
    "syntheticComposites = fitted.select(fittedBns,bns)\\\n",
    "    .filter(ee.Filter.calendarRange(endYear-1,endYear-1,'year'))\\\n",
    "    .filter(ee.Filter.calendarRange(190,250)).first()\n",
    "\n",
    "# Visualize output as you would a composite\n",
    "Map.addLayer(syntheticComposites,getImagesLib.vizParamsFalse,'Synthetic Composite')\n",
    "\n",
    "Map.turnOnInspector()\n",
    "Map.view(open_browser = False, open_iframe = True)\n",
    "Map.IFrame\n",
    "\n",
    "#No layers will draw, but you can double click on map to see the fitted CCDC time series"
   ]
  },
  {
   "cell_type": "code",
   "execution_count": null,
   "id": "83684512",
   "metadata": {},
   "outputs": [],
   "source": []
  }
 ],
 "metadata": {
  "kernelspec": {
   "display_name": "Python 3 (ipykernel)",
   "language": "python",
   "name": "python3"
  },
  "language_info": {
   "codemirror_mode": {
    "name": "ipython",
    "version": 3
   },
   "file_extension": ".py",
   "mimetype": "text/x-python",
   "name": "python",
   "nbconvert_exporter": "python",
   "pygments_lexer": "ipython3",
   "version": "3.10.0"
  },
  "vscode": {
   "interpreter": {
    "hash": "369f2c481f4da34e4445cda3fffd2e751bd1c4d706f27375911949ba6bb62e1c"
   }
  }
 },
 "nbformat": 4,
 "nbformat_minor": 5
}
