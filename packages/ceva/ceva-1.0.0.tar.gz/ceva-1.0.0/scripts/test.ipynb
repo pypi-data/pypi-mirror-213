{
 "cells": [
  {
   "cell_type": "code",
   "execution_count": 1,
   "metadata": {},
   "outputs": [
    {
     "name": "stdout",
     "output_type": "stream",
     "text": [
      "Added Workspace lib /home/tmn/dev_ws/devel/lib/python3/dist-packages to sys.path: ['/home/tmn/dev_ws/src/ceva/scripts', '', '/home/tmn/ws_caric/devel/lib/python3/dist-packages', '/opt/ros/noetic/lib/python3/dist-packages', '/home/tmn/Libraries/miniconda3/envs/py3810/lib/python38.zip', '/home/tmn/Libraries/miniconda3/envs/py3810/lib/python3.8', '/home/tmn/Libraries/miniconda3/envs/py3810/lib/python3.8/lib-dynload', '/home/tmn/.local/lib/python3.8/site-packages', '/home/tmn/Libraries/miniconda3/envs/py3810/lib/python3.8/site-packages', '/media/tmn/mySataSSD2/DATASETS/MCDVIRAL/pypcd', '/home/tmn/Libraries/miniconda3/envs/py3810/lib/python3.8/site-packages/conteva-0.0.1-py3.8-linux-x86_64.egg', '/home/tmn/dev_ws/devel/lib/python3/dist-packages']\n"
     ]
    }
   ],
   "source": [
    "import sys\n",
    "import os\n",
    "\n",
    "# Add the workspace path in case the workspace has not been source\n",
    "custom_lib = os.path.abspath(os.getcwd()+'/../../../devel/lib/python3/dist-packages')\n",
    "if custom_lib not in sys.path :\n",
    "    sys.path.append(custom_lib)\n",
    "    print(f'Added Workspace lib {custom_lib} to sys.path: {sys.path}')\n",
    "else:\n",
    "    print(f'Workspace lib {custom_lib} is in sys.path: {sys.path}')\n"
   ]
  },
  {
   "cell_type": "code",
   "execution_count": 2,
   "metadata": {},
   "outputs": [],
   "source": [
    "\n",
    "# Import the module built in workspace\n",
    "from ceva import Ceva"
   ]
  },
  {
   "cell_type": "code",
   "execution_count": 3,
   "metadata": {},
   "outputs": [
    {
     "name": "stdout",
     "output_type": "stream",
     "text": [
      "Creating spline of 20016 knots\n",
      "Done\n",
      "Sampled ground truth poses:\n",
      " [[ 2.93767090e+01  8.21671753e+01  9.83081207e+01 -7.72312071e-02\n",
      "   9.96355071e-01  2.20842174e-03  3.61529519e-02]\n",
      " [ 2.93767090e+01  8.21671753e+01  9.83081207e+01 -7.72312071e-02\n",
      "   9.96355071e-01  2.20842174e-03  3.61529519e-02]]\n"
     ]
    }
   ],
   "source": [
    "\n",
    "# Create the object\n",
    "myEva = Ceva(0.025, 1666253052.649376, '/media/tmn/mySataSSD1/MCD_GT_BSPLINE_RFND/TUHHCampus/result_02_day_north_small_refined/spline_log_3.csv')\n",
    "\n",
    "# Sample some poses\n",
    "poses_gndtr = myEva.getPose([1666253052.649376 + 1, 1666253052.649376 + 2])\n",
    "\n",
    "# Print the pose\n",
    "print(\"Sampled ground truth poses:\\n\", poses_gndtr)"
   ]
  }
 ],
 "metadata": {
  "kernelspec": {
   "display_name": "Python 3",
   "language": "python",
   "name": "python3"
  },
  "language_info": {
   "codemirror_mode": {
    "name": "ipython",
    "version": 3
   },
   "file_extension": ".py",
   "mimetype": "text/x-python",
   "name": "python",
   "nbconvert_exporter": "python",
   "pygments_lexer": "ipython3",
   "version": "3.8.10"
  },
  "orig_nbformat": 4
 },
 "nbformat": 4,
 "nbformat_minor": 2
}
