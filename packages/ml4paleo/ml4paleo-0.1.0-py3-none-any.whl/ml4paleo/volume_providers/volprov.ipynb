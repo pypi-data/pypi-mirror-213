{
 "cells": [
  {
   "cell_type": "code",
   "execution_count": 1,
   "metadata": {},
   "outputs": [],
   "source": [
    "import pathlib\n",
    "from ml4paleo.volume_providers.dicomvp import DicomVolumeProvider\n",
    "from ml4paleo.volume_providers.io import export_zarr_array"
   ]
  },
  {
   "cell_type": "code",
   "execution_count": 6,
   "metadata": {},
   "outputs": [],
   "source": [
    "srcs = [\n",
    "    # \"paddie braincase_*.dcm\",\n",
    "    \"paddie cranial cavity_*.dcm\",\n",
    "    \"paddie dermal bones_*.dcm\",\n",
    "    \"paddie hyomandibulae_*.dcm\",\n",
    "]\n",
    "\n",
    "tgts = [\n",
    "    # \"paddlefish-braincase\",\n",
    "    \"paddlefish-cranial-cavity\",\n",
    "    \"paddlefish-dermal-bones\",\n",
    "    \"paddlefish-hyomandibulae\",\n",
    "]\n"
   ]
  },
  {
   "cell_type": "code",
   "execution_count": 7,
   "metadata": {},
   "outputs": [
    {
     "name": "stderr",
     "output_type": "stream",
     "text": [
      "100%|██████████| 13/13 [00:00<00:00, 123.85it/s]\n",
      "100%|██████████| 13/13 [00:00<00:00, 168.84it/s]\n",
      "/Users/mateljk1/.pyenv/versions/3.9.7/envs/scripting/lib/python3.9/site-packages/joblib/externals/loky/process_executor.py:700: UserWarning: A worker stopped while some jobs were given to the executor. This can be caused by a too short worker timeout or by a memory leak.\n",
      "  warnings.warn(\n",
      "100%|██████████| 13/13 [00:00<00:00, 351.61it/s]\n",
      "100%|██████████| 13/13 [00:00<00:00, 461.40it/s]\n",
      "100%|██████████| 13/13 [00:00<00:00, 222.92it/s]\n",
      "100%|██████████| 13/13 [00:00<00:00, 245.91it/s]\n"
     ]
    }
   ],
   "source": [
    "for zarr_glob, zarr_fname in zip(srcs, tgts):\n",
    "    dvp = DicomVolumeProvider(\n",
    "        pathlib.Path(\n",
    "            \"/Users/mateljk1/Documents/projects/ml4paleo/data/raw_stacks/paddlefish dicoms/\"\n",
    "        ),\n",
    "        zarr_glob,\n",
    "    )\n",
    "\n",
    "    export_zarr_array(\n",
    "        dvp,\n",
    "        pathlib.Path(zarr_fname + \".zarr\"),\n",
    "        parallel_jobs=8,\n",
    "        progress=True,\n",
    "        chunk_size=(256, 256, 256),\n",
    "        slice_count=256,  # to avoid collisions\n",
    "    )\n",
    "\n",
    "    export_zarr_array(\n",
    "        dvp,\n",
    "        pathlib.Path(zarr_fname + \".bin.zarr\"),\n",
    "        parallel_jobs=8,\n",
    "        progress=True,\n",
    "        chunk_size=(256, 256, 256),\n",
    "        slice_count=256,\n",
    "        cuboid_transform_fn=lambda x: x > 7000,\n",
    "        dtype=bool,\n",
    "    )\n"
   ]
  },
  {
   "cell_type": "code",
   "execution_count": null,
   "metadata": {},
   "outputs": [],
   "source": []
  }
 ],
 "metadata": {
  "kernelspec": {
   "display_name": "scripting",
   "language": "python",
   "name": "python3"
  },
  "language_info": {
   "codemirror_mode": {
    "name": "ipython",
    "version": 3
   },
   "file_extension": ".py",
   "mimetype": "text/x-python",
   "name": "python",
   "nbconvert_exporter": "python",
   "pygments_lexer": "ipython3",
   "version": "3.9.7"
  },
  "orig_nbformat": 4,
  "vscode": {
   "interpreter": {
    "hash": "410f6db90cc89b666adbd1b755ae7555dd227a2d7c11822f3d377845b87672a4"
   }
  }
 },
 "nbformat": 4,
 "nbformat_minor": 2
}
