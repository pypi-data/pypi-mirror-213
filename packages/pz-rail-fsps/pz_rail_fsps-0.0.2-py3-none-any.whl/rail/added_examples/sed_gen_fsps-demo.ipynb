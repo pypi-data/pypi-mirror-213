{
 "cells": [
  {
   "cell_type": "markdown",
   "metadata": {
    "collapsed": true,
    "pycharm": {
     "name": "#%%\n"
    }
   },
   "source": [
    "# Using rail_fsps to generate galaxy rest-frame spectral energy distributions"
   ]
  },
  {
   "cell_type": "markdown",
   "metadata": {},
   "source": [
    "author: Luca Tortorelli, Eric Charles, Sam Schmidt, Joe Zunzt and others\n",
    "\n",
    "last run successfully: September 19th, 2022\n",
    "\n",
    "This notebook demonstrates how to use RAIL to generate galaxy rest-frame spectral energy distributions (SEDs) with FSPS.\n",
    "\n",
    "In order to generate SEDs, the user needs to provide as input a set of galaxy properties, namely galaxy ages, stellar metallicities, stellar velocity dispersions, gas ionizations, gas metallicities, e-folding times for parametric star-formation histories, fraction of mass formed in instantaneous burst, age at which the instantaneous burst occur, extinction expressed as E(B-V), fraction of galaxy luminosity due to AGN and AGN optical depths.\n",
    "\n",
    "In this notebook, we will learn how to generate rest-frame SED from a RAIL Engine object. We will also show how to use Ceci to do the same, as well as how to run it in parallel using MPI.\n"
   ]
  },
  {
   "cell_type": "code",
   "execution_count": null,
   "metadata": {},
   "outputs": [],
   "source": [
    "import os\n",
    "from rail.core.utils import RAILDIR\n",
    "import tables_io\n",
    "from rail.core.stage import RailStage\n",
    "from rail.creation.sed_generation import FSPSSedGenerator\n",
    "import ceci"
   ]
  },
  {
   "cell_type": "markdown",
   "metadata": {},
   "source": [
    "rail_fsps accepts as input a fits table with columns containing the galaxy properties. The table is read via tables_io. An example table is in the rail/examples_data/testdata directory. "
   ]
  },
  {
   "cell_type": "code",
   "execution_count": null,
   "metadata": {},
   "outputs": [],
   "source": [
    "trainFile = os.path.join(RAILDIR, 'rail', 'examples_data', 'testdata', 'test_fsps_sed.fits')\n",
    "traindata_io = tables_io.read(trainFile)"
   ]
  },
  {
   "cell_type": "markdown",
   "metadata": {},
   "source": [
    "We'll start by setting up the Rail data store. RAIL uses ceci, which is designed for pipelines rather than interactive notebooks, the data store will work around that and enable us to use data interactively. See the rail/examples/goldenspike_examples/goldenspike.ipynb example notebook for more details on the Data Store."
   ]
  },
  {
   "cell_type": "code",
   "execution_count": null,
   "metadata": {},
   "outputs": [],
   "source": [
    "DS = RailStage.data_store\n",
    "DS.__class__.allow_overwrite = True"
   ]
  },
  {
   "cell_type": "markdown",
   "metadata": {},
   "source": [
    "Let's create an FSPS Sed Generator. The latter has a number of configuration parameters to set. All the parameters have default values. Therefore, if the user is not sure about a particular value for a certain parameter, the latter can be left at default. The parameter names are the same as the ones used in the Python bindings of FSPS. A short description of each parameter can be found in rail/creation/sed_generation/sed_generator.py. \n",
    "\n",
    "The parameters that do not have correspondance with FSPS are:\n",
    "- metal_name, which is the column name in the input fits file containing the values of the stellar metallicity in units of $\\log(Z / Z_{\\odot})$. If the parameter sfh_type=3, then a tabulated star-formation history file must be provided, which contains in itself values of the galaxy metallicity as function of time. In this case, the metallicities values in the fits table are ignored.\n",
    "- agename, which is the column name in the input fits file containing the values of the stellar age in units of Gyr at which the rest-frame galaxy spectrum is computed.\n",
    "- veldispname, which is the column name in the input fits file containing the values of the stellar velocity dispersions. The units can be either km/s or Angstrom, depending on the value given to the smooth_velocity parameter.\n",
    "- gasloguname, which is the column name in the input fits file containing the values of the logarithm of the gas ionization parameter.\n",
    "- gaslogzname, which is the column name in the input fits file containing the values of the logarithm of the gas-phase metallicity (see note in https://dfm.io/python-fsps/current/stellarpop_api/ regarding the values of stellar and gas-phase metallicity).\n",
    "- tauname, which is the column name in the input fits file containing the values of the e-folding time of the star-formation history. This column values are ignored if sfh_type=0 or sfh_type=3.\n",
    "- fburstname, which is the column name in the input fits file containing the values of the mass fraction formed in an instantaneous burst of star-formation. This column values are used if sfh_type=0 or sfh_type=4.\n",
    "- tburstname, which is the column name in the input fits file containing the values of the Universe age in Gyr when the burst of star-formation occurred.\n",
    "- ebvname, which is the column name in the input fits file containing the values of attenuation E(B-V).\n",
    "- fagnname, which is the column name in the input fits file containing the values of fraction bolometric luminosity due to AGN.\n",
    "- agntauname, which is the column name in the input fits file containing the values of optical depth of AGN dust torus.\n",
    "- physical_units, which can be either True or False to output the rest-frame spectra in units of $erg\\ s^{-1} \\AA^{-1}$ or $L_{\\odot} \\AA^{-1}$, respectively.\n",
    "- tabulated_sfh_file, which is the path to a text file containing a non-parametric star-formation history. The text file must have two mandatory columns and a third optional one: time since the beginning of the universe in Gyr, star-formation rate in units of $M_{\\odot}\\ yr^{-1}$ and the metallicity at each age, in units of absolute metallicity (e.g. Z=0.019 for Padova isochrones).\n",
    "- tabulated_lsf_file, which is the path to a text file containing a wavelength dependent Gaussian line-spread function that will be applied to the SSPs. Its effect is going to be applied if and only if both smooth_lsf and smooth_velocity are True. The text file must have two mandatory columns and two optional ones: the wavelength in angstroms, the dispersion of the Gaussian LSF at the wavelengths given by the previous column, in km/s, the minimum and the maximum wavelengths (in $\\AA$) for which smoothing will be applied."
   ]
  },
  {
   "cell_type": "code",
   "execution_count": null,
   "metadata": {},
   "outputs": [],
   "source": [
    "sed_generation_test = FSPSSedGenerator.make_stage(name='sed_generator_test', compute_vega_mags=False,\n",
    "                                                  vactoair_flag=False, zcontinuous=1, add_neb_emission=False,\n",
    "                                                  add_neb_continuum=False, add_stellar_remnants=True,\n",
    "                                                  compute_light_ages=False, nebemlineinspec=False,\n",
    "                                                  smooth_velocity=True, smooth_lsf=False, imf_type=1,\n",
    "                                                  min_wavelength=4000, max_wavelength=7000, sfh_type=0,\n",
    "                                                  dust_type=2, metal_name='logzsol', agename='tage', \n",
    "                                                  veldispname='sigma_smooth', gasloguname='gas_logu',\n",
    "                                                  gaslogzname='gas_logz', tauname='tau', fburstname='fburst',\n",
    "                                                  tburstname='tburst', ebvname='dust2', fagnname='fagn',\n",
    "                                                  agntauname='agn_tau', physical_units=False, tabulated_sfh_file=None,\n",
    "                                                  tabulated_lsf_file=None)"
   ]
  },
  {
   "cell_type": "markdown",
   "metadata": {},
   "source": [
    "After setting up the parameters, we add the input fits data to the RAIL stage."
   ]
  },
  {
   "cell_type": "code",
   "execution_count": null,
   "metadata": {},
   "outputs": [],
   "source": [
    "sed_generation_test.add_data('input',traindata_io[0:1])"
   ]
  },
  {
   "cell_type": "markdown",
   "metadata": {},
   "source": [
    "And then we run the FSPSSedGenerator in sequential mode. Note that each galaxy spectrum takes a few seconds to generate, so it is advisable to proceed in this way only for a limited sample of objects or for testing the code."
   ]
  },
  {
   "cell_type": "code",
   "execution_count": null,
   "metadata": {},
   "outputs": [],
   "source": [
    "sed_generation_test.run()"
   ]
  },
  {
   "cell_type": "markdown",
   "metadata": {},
   "source": [
    "The next line shows how to store the output table in a variable. The output table is still in fits format. Besides containing a copy of the input galaxy properties, it also contains two additional columns: wavelength and spectrum, which contains rest-frame wavelengths in $\\AA$ and rest-frame spectrum in specified units (see physical_units parameter)."
   ]
  },
  {
   "cell_type": "code",
   "execution_count": null,
   "metadata": {},
   "outputs": [],
   "source": [
    "out_table = sed_generation_test.get_data('output')"
   ]
  },
  {
   "cell_type": "markdown",
   "metadata": {},
   "source": [
    "The RAIL stages can be chained together conveniently using Ceci. The following is an example of how the FSPSSedGenerator can be run as one of the pipeline Ceci stages. "
   ]
  },
  {
   "cell_type": "code",
   "execution_count": null,
   "metadata": {},
   "outputs": [],
   "source": [
    "DS = RailStage.data_store\n",
    "DS.__class__.allow_overwrite = True"
   ]
  },
  {
   "cell_type": "code",
   "execution_count": null,
   "metadata": {},
   "outputs": [],
   "source": [
    "sed_generation_test = FSPSSedGenerator.make_stage(name='sed_generator_test', compute_vega_mags=False,\n",
    "                                                  vactoair_flag=False, zcontinuous=1, add_neb_emission=False,\n",
    "                                                  add_neb_continuum=False, add_stellar_remnants=True,\n",
    "                                                  compute_light_ages=False, nebemlineinspec=False,\n",
    "                                                  smooth_velocity=True, smooth_lsf=False, imf_type=1,\n",
    "                                                  min_wavelength=4000, max_wavelength=7000, sfh_type=0,\n",
    "                                                  dust_type=2, metal_name='logzsol', agename='tage', \n",
    "                                                  veldispname='sigma_smooth', gasloguname='gas_logu',\n",
    "                                                  gaslogzname='gas_logz', tauname='tau', fburstname='fburst',\n",
    "                                                  tburstname='tburst', ebvname='dust2', fagnname='fagn',\n",
    "                                                  agntauname='agn_tau', physical_units=False, tabulated_sfh_file=None,\n",
    "                                                  tabulated_lsf_file=None)"
   ]
  },
  {
   "cell_type": "code",
   "execution_count": null,
   "metadata": {},
   "outputs": [],
   "source": [
    "pipe = ceci.Pipeline.interactive()\n",
    "stages = [sed_generation_test]\n",
    "for stage in stages:\n",
    "    pipe.add_stage(stage)"
   ]
  },
  {
   "cell_type": "code",
   "execution_count": null,
   "metadata": {},
   "outputs": [],
   "source": [
    "pipe.initialize(dict(input=trainFile), dict(output_dir='./temp_output', log_dir='./logs', resume=False, \n",
    "                                            nprocess=10), None)\n",
    "pipe.save('./temp_output/pipe_saved.yml')\n",
    "pr = ceci.Pipeline.read('./temp_output/pipe_saved.yml')\n",
    "pr.run()"
   ]
  },
  {
   "cell_type": "markdown",
   "metadata": {},
   "source": [
    "The creation of galaxy SEDs is a computationally intensive process. To speed things up, it is convenient to parallelize the process using MPI. To do that, one needs to set the parameters into the configuration file pipe_saved_config.yml. An example command to be run in the command line with n_cores is:\n",
    "\n",
    "mpiexec -n n_cores --mpi python3 -m rail SedGenerator --input=test_fsps_sed.fits --name=sed_generator_test --config=pipe_saved_config.yml --output=output_sed_generator_test.fits\n"
   ]
  }
 ],
 "metadata": {
  "kernelspec": {
   "display_name": "Python 3 (ipykernel)",
   "language": "python",
   "name": "python3"
  },
  "language_info": {
   "codemirror_mode": {
    "name": "ipython",
    "version": 3
   },
   "file_extension": ".py",
   "mimetype": "text/x-python",
   "name": "python",
   "nbconvert_exporter": "python",
   "pygments_lexer": "ipython3",
   "version": "3.9.12"
  }
 },
 "nbformat": 4,
 "nbformat_minor": 1
}
