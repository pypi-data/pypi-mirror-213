{
 "cells": [
  {
   "cell_type": "markdown",
   "metadata": {},
   "source": [
    "# Oqtant Walkthrough 1: Getting Started #\n",
    "\n",
    "### This walkthrough covers authorizing an Oqtant session using the Oqtant client, generating, running and viewing the results of a job. ###\n",
    "\n",
    "For more information about Oqtant refer to our documentation: https://gitlab.com/infleqtion/albert/oqtant/-/blob/main/README.md\n",
    "\n",
    "*Batch job functionality is available for users with a subscription tier of EXPLORER or INNOVATOR.*"
   ]
  },
  {
   "cell_type": "markdown",
   "metadata": {},
   "source": [
    "# Authenticate with Oqtant\n",
    "\n",
    "## Before you can view and submit jobs you must first authenticate with your Oqtant account\n",
    "\n",
    "Run the below cell to be re-directed to our login page and provide your account credentials. Once authenticated you can safely close out that tab and return to this notebook."
   ]
  },
  {
   "cell_type": "code",
   "execution_count": null,
   "metadata": {},
   "outputs": [],
   "source": [
    "from matplotlib import pyplot as plt\n",
    "from lmfit import Model\n",
    "import numpy as np\n",
    "import inspect\n",
    "from oqtant.oqtant_client import get_oqtant_client\n",
    "from oqtant.util.auth import get_user_token\n",
    "from oqtant.schemas.job import (\n",
    "    OqtantJob,\n",
    "    Gaussian_dist_2D,\n",
    "    TF_dist_2D,\n",
    "    bimodal_dist_2D,\n",
    "    round_sig\n",
    ")\n",
    "\n",
    "token = get_user_token()"
   ]
  },
  {
   "cell_type": "markdown",
   "metadata": {},
   "source": [
    "## Creating a Oqtant Client Instance ##\n",
    "\n",
    "### After successful login, create an authorized session with the Oqtant Client ###\n",
    "- the oqtant_client interacts with the albert server to perform remote lab functions.\n",
    "- the oqtant_client object also contains all the jobs which have been submitted, run, or loaded (from database or file) during this python session"
   ]
  },
  {
   "cell_type": "code",
   "execution_count": null,
   "metadata": {},
   "outputs": [],
   "source": [
    "oqtant_client = get_oqtant_client(token)"
   ]
  },
  {
   "cell_type": "markdown",
   "metadata": {},
   "source": [
    "## Generate parameters to create a job ##\n",
    "Every Oqtant job is specified by a **name**, **job_type**, and a dictionary of input parameters. Below is an example with default parameters for a BEC job:"
   ]
  },
  {
   "cell_type": "code",
   "execution_count": null,
   "metadata": {},
   "outputs": [],
   "source": [
    "default_bec_job = {\n",
    "    \"name\": \"Example Ultracold Matter Generator Job\",\n",
    "    \"job_type\": \"BEC\",\n",
    "    \"inputs\": [\n",
    "        {\n",
    "            \"values\": {\n",
    "                \"time_of_flight_ms\": 8.0,\n",
    "                \"image_type\": \"TIME_OF_FLIGHT\",\n",
    "                \"end_time_ms\": 0.0,\n",
    "                \"rf_evaporation\": {\n",
    "                    \"frequencies_mhz\": [17.0, 8.0, 4.0, 1.2, 0.045],\n",
    "                    \"powers_mw\": [500.0, 500.0, 475.0, 360.0, 220.0],\n",
    "                    \"interpolation\": \"LINEAR\",\n",
    "                    \"times_ms\": [-1600, -1200, -800, -400, 0],\n",
    "                },\n",
    "                \"optical_barriers\": None,\n",
    "                \"optical_landscape\": None,\n",
    "                \"lasers\": None,\n",
    "            },\n",
    "        }\n",
    "    ],\n",
    "}\n",
    "\n",
    "example_bec_job = oqtant_client.generate_oqtant_job(job=default_bec_job)\n",
    "print(example_bec_job)"
   ]
  },
  {
   "cell_type": "markdown",
   "metadata": {},
   "source": [
    "## Add notes to your job input (Optional) ##\n",
    "Every Oqtant job input can hold notes up to 500 characters long. These notes can be used to add context and additional information to each input. Notes remain tied to their inputs and can be referenced later. To add a note to a job input simply provide a string value to your desired input object like below:"
   ]
  },
  {
   "cell_type": "code",
   "execution_count": null,
   "metadata": {},
   "outputs": [],
   "source": [
    "# In this example we are only working with a single input\n",
    "# so we will add the note to the first and only input in the array\n",
    "example_bec_job.inputs[0].notes = \"This is an example BEC job created from Oqtant walkthrough #1\""
   ]
  },
  {
   "cell_type": "markdown",
   "metadata": {},
   "source": [
    "## Submit the job to run on the Oqtant hardware ##\n",
    "\n",
    "**run_jobs(job_list=jobs)** takes a list of OqtantJob objects and submits them to the online queue for Oqtant Jobs. For each OqtantJob added to the queue a unique UUID is generated and associated to the job.\n",
    "\n",
    "The output of **run_jobs()** is a list of the unique UUIDs generated during submission. \n",
    "\n",
    "If you are submitting a list of jobs and wish to wait for the results to return, use the flag **track_status=True**.\n",
    "\n",
    "If you would like the resulting unique UUIDs to be written to a file for later reference you can do so by providing the following flags:\n",
    "\n",
    "- **track_status=True**\n",
    "- **filename=\"name_of_file\"**\n",
    "- **write=True**\n",
    "\n",
    "When writing to a file be sure to <span style=\"color:red\">not overwrite it</span>"
   ]
  },
  {
   "cell_type": "code",
   "execution_count": null,
   "metadata": {},
   "outputs": [],
   "source": [
    "[example_bec_job_uuid] = oqtant_client.run_jobs(job_list=[example_bec_job], track_status=True)"
   ]
  },
  {
   "cell_type": "markdown",
   "metadata": {},
   "source": [
    "## Best practices for referencing ##"
   ]
  },
  {
   "cell_type": "code",
   "execution_count": null,
   "metadata": {},
   "outputs": [],
   "source": [
    "with open('example_bec_job-walkthrough0.txt', 'w') as f:\n",
    "    f.write(example_bec_job_uuid)"
   ]
  },
  {
   "cell_type": "markdown",
   "metadata": {},
   "source": [
    "## Check the status of this session's active jobs ##\n",
    "\n",
    "The **oqtant_client** object contains a dictionary (indexed by job_id) of all the active jobs from the current session. \n",
    "\n",
    "**oqtant_client.active jobs** contains jobs that have been submitted with **run_jobs()**, loaded with **load_job_from_id()** or **load_job_from_file()**. \n",
    "\n",
    "<span style=\"color:red\"> Note: oqtant_client.active_jobs does not automatically include jobs which were submitted on the web app or in a different python session, even if those jobs are currently in the queue to run. </span>\n",
    "\n",
    "To keep inputs and results organized, all jobs are handled as objects of the **OqtantJob** class. \n",
    "\n",
    "<span style=\"color:red\"> Note: both BEC and BARRIER job types are represented as OqtantJob objects with different job_type fields </span>\n",
    "\n",
    "### To access information about a OqtantJob object ###\n",
    "\n",
    "**EXAMPLEJOB.DESIRED_INFO**\n",
    "\n",
    "OqtantJob objects have the following relevant fields:\n",
    "\n",
    " - name\n",
    " - job_type\n",
    " - status\n",
    " - time_submit (datetime object)\n",
    " - inputs list (see walkthrough 2 for specifics)\n",
    "\n",
    "To see all the job information, you can print the object. \n",
    "\n",
    "Click [here](https://www.learnpython.org/en/Classes_and_Objects) for an example-based intro to objects and classes in python. "
   ]
  },
  {
   "cell_type": "code",
   "execution_count": null,
   "metadata": {},
   "outputs": [],
   "source": [
    "oqtant_client.see_active_jobs()"
   ]
  },
  {
   "cell_type": "markdown",
   "metadata": {},
   "source": [
    "## Wait for job results ##\n",
    "\n",
    "If your job is in the PENDING or RUNNING state, wait for 1 minute and update/see active jobs again. When the job \"Example Ultracold Matter Generator Job\" shows status COMPLETE, proceed to the next code block\n",
    "\n",
    "\n",
    "## Loading job results ##\n",
    "\n",
    "### From this session ###\n",
    "\n",
    "When a job is COMPLETE and the active jobs dictionary is updated, the OqtantJob object is automatically populated with the job results. Define a variable to access to job object, or access it by job id directly from the active jobs dictionary."
   ]
  },
  {
   "cell_type": "code",
   "execution_count": null,
   "metadata": {},
   "outputs": [],
   "source": [
    "example_bec_job = oqtant_client.active_jobs[example_bec_job_uuid]\n",
    "print(example_bec_job)"
   ]
  },
  {
   "cell_type": "markdown",
   "metadata": {},
   "source": [
    "### Loading job results from a previous session ###\n",
    "\n",
    "When Oqtant is offline or you wish to analyze jobs from a previous run, use the job id to access it from the database and save it to the session's active_jobs."
   ]
  },
  {
   "cell_type": "code",
   "execution_count": null,
   "metadata": {},
   "outputs": [],
   "source": [
    "# for jobs with multiple runs add `run=<int>` where <int> equals the input you wish to view. defaults to the first run\n",
    "oqtant_client.load_job_from_id(example_bec_job_uuid)\n",
    "# access job from active_jobs\n",
    "example_bec_job = oqtant_client.active_jobs[example_bec_job_uuid]"
   ]
  },
  {
   "cell_type": "markdown",
   "metadata": {},
   "source": [
    "## Accessing job results - TOF images ##\n",
    "\n",
    "Job results for jobs run with TOF imaging contain the following fields:"
   ]
  },
  {
   "cell_type": "code",
   "execution_count": null,
   "metadata": {},
   "outputs": [],
   "source": [
    "for key in example_bec_job.inputs[0].output.values.dict().keys():\n",
    "    print(key)"
   ]
  },
  {
   "cell_type": "markdown",
   "metadata": {},
   "source": [
    "## Viewing TOF images and slice plots ##\n",
    "\n",
    "The Oqtant system automatically fits a bimodal distribution to TOF images. The parameters of the fit model are used to calculate statistics about your atom cloud: temperature, number of atoms per phase, and total number of atoms. \n",
    "\n",
    "To view the TOF results in 2D or 1D, use built in functions to plot or access the results directly and plot them yourself."
   ]
  },
  {
   "cell_type": "code",
   "execution_count": null,
   "metadata": {},
   "outputs": [],
   "source": [
    "example_bec_job.atoms_2dplot(figsize=(6,6))\n",
    "\n",
    "example_bec_job.atoms_sliceplot()\n",
    "\n",
    "TOF_data = example_bec_job.get_TOF()\n",
    "\n",
    "plt.figure(figsize=(6,6))\n",
    "plt.title(\"This is a customized plot of the same results\")\n",
    "TOF_plot = plt.imshow(TOF_data,origin=\"lower\",\n",
    "            cmap=\"nipy_spectral\")\n",
    "plt.grid(visible=True)\n",
    "plt.colorbar(TOF_plot, shrink=0.8)\n",
    "\n",
    "plt.show()"
   ]
  },
  {
   "cell_type": "markdown",
   "metadata": {},
   "source": [
    "## Viewing atom cloud statistics ##\n",
    "\n",
    "The Oqtant system performs an automated fit to generate atom cloud statistics. To access the calculated atom number, cloud temperature etc:"
   ]
  },
  {
   "cell_type": "code",
   "execution_count": null,
   "metadata": {},
   "outputs": [],
   "source": [
    "output = example_bec_job.inputs[0].output.values\n",
    "print(\"temperature (nK):\"+ str(output.temperature_uk))\n",
    "print(\"total atoms :\"+ str(output.tof_atom_number))\n",
    "print(\"condensed atoms :\"+ str(output.condensed_atom_number))\n",
    "print(\"thermal atoms :\"+ str(output.thermal_atom_number))"
   ]
  },
  {
   "cell_type": "markdown",
   "metadata": {},
   "source": [
    "## Creating jobs based off previous ones ##\n",
    "\n",
    "There may be times where you would like to create a new OqtantJob based off of a previous one. In these cases the `oqtant_client` provides a method that retrieves an entire job's input structure to allow for editing and submission. The steps to do this can be found below."
   ]
  },
  {
   "cell_type": "code",
   "execution_count": null,
   "metadata": {},
   "outputs": [],
   "source": [
    "# identify the job you wish to copy, this can be any job id you want to use.\n",
    "# the status of the job does not matter\n",
    "already_submitted_job_id = example_bec_job.external_id\n",
    "\n",
    "# for jobs with multiple input runs add `run=<int>` where <int> equals the input you wish to view.\n",
    "# without a targeted input run oqtant will default to the first run\n",
    "new_job_stub = oqtant_client.get_job_inputs_without_output(already_submitted_job_id, include_notes=False)\n",
    "\n",
    "# at this point 'new_job_stub' is a python dict with the following keys\n",
    "print(\"new job stub keys:\")\n",
    "print(new_job_stub.keys())\n",
    "print(\"\\n\")\n",
    "\n",
    "# if you wish to include any job notes associated with the existing job input you can run the\n",
    "# same command above but with the `include_notes` flag set to True\n",
    "# new_job_stub = oqtant_client.get_job_inputs_without_output(already_submitted_job_id, include_notes=True)\n",
    "\n",
    "# from here you can update any of the inputs and the name of the job to your liking\n",
    "new_job_stub[\"name\"] = \"this is a stub of another job\"\n",
    "\n",
    "# at this point 'new_job_stub' can be provided to the 'generate_oqtant_job' function and then submitted with\n",
    "# the 'run_jobs' function as demonstrated in previous steps\n",
    "new_example_bec_job = oqtant_client.generate_oqtant_job(job=new_job_stub)\n",
    "print(\"new job object:\")\n",
    "print(new_example_bec_job)"
   ]
  },
  {
   "cell_type": "markdown",
   "metadata": {},
   "source": [
    "## View your current job limits\n",
    "\n",
    "Your account provides you with a limited number of jobs which you can run in a given period of time. You can check your limits and current status against those limits via the `oqtant_client.get_limits()` method:"
   ]
  },
  {
   "cell_type": "code",
   "execution_count": null,
   "metadata": {},
   "outputs": [],
   "source": [
    "limits = oqtant_client.get_job_limits()\n",
    "print(limits)"
   ]
  },
  {
   "cell_type": "markdown",
   "metadata": {},
   "source": [
    "If you are running batch jobs, each run is counted as a job against your limit (i.e., a batch job with 10 runs counts as 10 against your limits)."
   ]
  }
 ],
 "metadata": {
  "kernelspec": {
   "display_name": "Python 3 (ipykernel)",
   "language": "python",
   "name": "python3"
  },
  "language_info": {
   "codemirror_mode": {
    "name": "ipython",
    "version": 3
   },
   "file_extension": ".py",
   "mimetype": "text/x-python",
   "name": "python",
   "nbconvert_exporter": "python",
   "pygments_lexer": "ipython3",
   "version": "3.11.3"
  }
 },
 "nbformat": 4,
 "nbformat_minor": 4
}
