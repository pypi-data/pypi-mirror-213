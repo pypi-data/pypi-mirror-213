{
 "cells": [
  {
   "cell_type": "markdown",
   "metadata": {},
   "source": [
    "# Introduction\n",
    "\n",
    "This is a quick introduction to the tradebook module. The tradebook is just a log of trades that shows your positions and values based on the trades you have done and provide you a few helper methods. This provides a flexible approach for simulating trades based on an event based system or a system where you iterate through each line as a separate observation.\n",
    "\n",
    "Caveat\n",
    "--------\n",
    "**This is not an orderbook.** All trades are assumed to be executed and its kept as simple as possible."
   ]
  },
  {
   "cell_type": "markdown",
   "metadata": {},
   "source": [
    "## Initialize a tradebook"
   ]
  },
  {
   "cell_type": "code",
   "execution_count": null,
   "metadata": {},
   "outputs": [],
   "source": [
    "import pandas as pd\n",
    "from fastbt.tradebook import TradeBook\n",
    "tb = TradeBook()"
   ]
  },
  {
   "cell_type": "markdown",
   "metadata": {},
   "source": [
    "### Add some trades\n",
    "\n",
    "To add trades to a tradebook, you need 5 mandatory parameters\n",
    "\n",
    " * timestamp - could be a string or an id; but datetime or pandas timestamp preferred\n",
    " * symbol - the security symbol or asset code\n",
    " * price - float/number\n",
    " * qty - float/number\n",
    " * order - **B for BUY and S for SELL**\n",
    " \n",
    " \n",
    "Just use the `add_trade` method to add trades. Its the only method to add trades. You can include any other keyword arguments to add additional information to trades.\n",
    "\n",
    " "
   ]
  },
  {
   "cell_type": "code",
   "execution_count": null,
   "metadata": {},
   "outputs": [],
   "source": [
    "# Let's add a few trades\n",
    "tb.add_trade(pd.to_datetime('2019-02-01'), 'AAA', 100, 100, 'B')\n",
    "tb.add_trade(pd.to_datetime('2019-02-02'), 'AAA', 102, 100, 'B')\n",
    "tb.add_trade(pd.to_datetime('2019-02-02'), 'BBB', 1000, 15, 'S')"
   ]
  },
  {
   "cell_type": "markdown",
   "metadata": {},
   "source": [
    "### Get some information\n",
    "\n",
    "Internally all data is represented as dictionaries\n",
    "\n",
    "Use\n",
    " * `tb.positions` to get the positions for all stocks\n",
    " * `tb.values` to get the values\n",
    " * `tb.trades` for trades\n",
    " \n",
    "To get these details for a single stock use, `tb.positions.get()`\n",
    " "
   ]
  },
  {
   "cell_type": "code",
   "execution_count": null,
   "metadata": {},
   "outputs": [],
   "source": [
    "# Print tradebook summary\n",
    "tb # Shows that you have made 3 trades and 2 of the positions are still open"
   ]
  },
  {
   "cell_type": "code",
   "execution_count": null,
   "metadata": {},
   "outputs": [],
   "source": [
    "# Get positions\n",
    "tb.positions # negative indicates short position"
   ]
  },
  {
   "cell_type": "code",
   "execution_count": null,
   "metadata": {},
   "outputs": [],
   "source": [
    "# Get position for a particular stock\n",
    "print(tb.positions.get('AAA'))"
   ]
  },
  {
   "cell_type": "code",
   "execution_count": null,
   "metadata": {},
   "outputs": [],
   "source": [
    "# Get the current value\n",
    "tb.values # Negative values indicate cash outflow"
   ]
  },
  {
   "cell_type": "code",
   "execution_count": null,
   "metadata": {},
   "outputs": [],
   "source": [
    "# Get the trades\n",
    "tb.trades.get('AAA')"
   ]
  },
  {
   "cell_type": "code",
   "execution_count": null,
   "metadata": {},
   "outputs": [],
   "source": [
    "# Get all your trades\n",
    "tb.all_trades"
   ]
  },
  {
   "cell_type": "code",
   "execution_count": null,
   "metadata": {},
   "outputs": [],
   "source": [
    "# A few helper methods\n",
    "print(tb.o) # Number of open positions\n",
    "print(tb.l) # Number of long positions\n",
    "print(tb.s) # Number of short positions"
   ]
  },
  {
   "cell_type": "markdown",
   "metadata": {},
   "source": [
    "### Something to look out for \n",
    "\n",
    " * A position of zero indicates that all trades are settled\n",
    " * A positive position indicates holdings\n",
    " * A negative position indicates short selling\n",
    " * Conversely, a positive value indicates money received from short selling and a negative value indicates cash outflow for buying holding\n",
    " * If all positions are zero, then the corresponding values indicate profit or loss\n",
    " * Trades are represented as a dictionary with keys being the symbol and values being the list of all trades. So to get the first trade, use `tb.trades[symbol][0]`\n",
    " \n",
    "Let's try out by closing all existing positions"
   ]
  },
  {
   "cell_type": "code",
   "execution_count": null,
   "metadata": {},
   "outputs": [],
   "source": [
    "tb.positions, tb.values"
   ]
  },
  {
   "cell_type": "code",
   "execution_count": null,
   "metadata": {},
   "outputs": [],
   "source": [
    "# Close existing positions\n",
    "tb.add_trade(pd.to_datetime('2019-03-05'), 'AAA', 105, 200, 'S', info='exit')\n",
    "tb.add_trade(pd.to_datetime('2019-03-05'), 'BBB', 1010, 15, 'B', info='exit')\n",
    "tb.positions, tb.values"
   ]
  },
  {
   "cell_type": "markdown",
   "metadata": {},
   "source": [
    "> You could now see that both the positions are closed but you got a profit on AAA and a loss on BBB"
   ]
  },
  {
   "cell_type": "code",
   "execution_count": null,
   "metadata": {},
   "outputs": [],
   "source": [
    "# Summing up total profit\n",
    "print(tb)\n",
    "tb.values.values()"
   ]
  },
  {
   "cell_type": "markdown",
   "metadata": {},
   "source": [
    "> And you could nicely load them up in a dataframe and see your additional info column added"
   ]
  },
  {
   "cell_type": "code",
   "execution_count": null,
   "metadata": {},
   "outputs": [],
   "source": [
    "pd.DataFrame(tb.all_trades).sort_values(by='ts')"
   ]
  },
  {
   "cell_type": "markdown",
   "metadata": {},
   "source": [
    "# Creating a strategy\n",
    "\n",
    "Let's create a simple strategy for bitcoin and let's see how it works. This is a long only strategy\n",
    "\n",
    "> **ENTER** when 7 day simple moving average (SMA) is greater than 30 day SMA and **EXIT** when 7 day SMA is less than 30 day SMA\n",
    "\n",
    "Other info\n",
    "-----------\n",
    "\n",
    "* Invest $10000 for each trade\n",
    "* Hold only one position at a single time (BUY only, no reversals)\n",
    "* If you are already holding a position, check for the exit rule\n",
    "* SMA is calculated on OPEN price and its assumed that you buy and sell at the open price\n",
    "\n",
    "The sample file already has the columns sma7 and sma30"
   ]
  },
  {
   "cell_type": "code",
   "execution_count": null,
   "metadata": {},
   "outputs": [],
   "source": [
    "df = pd.read_csv('data/BTC.csv', parse_dates=['date'])"
   ]
  },
  {
   "cell_type": "code",
   "execution_count": null,
   "metadata": {},
   "outputs": [],
   "source": [
    "# We would be using standard Python csv library\n",
    "\n",
    "import csv\n",
    "filename = 'data/BTC.csv' # File available in data directory\n",
    "btc = TradeBook()\n",
    "capital = 10000 # this is fixed\n",
    "with open(filename) as csvfile:\n",
    "    reader = csv.DictReader(csvfile)\n",
    "    for row in reader:\n",
    "        # Convert to floats since by default csv reads everything as string\n",
    "        sma7 = float(row['sma7']) + 0\n",
    "        sma30 = float(row['sma30']) + 0\n",
    "        price = float(row['open']) + 0\n",
    "        # Check for entry rule and existing position\n",
    "        # Enter only if you have no existing position\n",
    "        if (sma7 > sma30) and (btc.l == 0):            \n",
    "            qty = int(capital/price)\n",
    "            btc.add_trade(row['date'], 'BTC', price, qty, 'B')\n",
    "            \n",
    "        # Check for exit\n",
    "        if btc.positions['BTC'] > 0:\n",
    "            qty = btc.positions['BTC'] # Get the present position\n",
    "            if sma7 < sma30:\n",
    "                btc.add_trade(row['date'], 'BTC', price , qty, 'S')"
   ]
  },
  {
   "cell_type": "code",
   "execution_count": null,
   "metadata": {},
   "outputs": [],
   "source": [
    "btc, btc.values"
   ]
  },
  {
   "cell_type": "markdown",
   "metadata": {},
   "source": [
    "**Hurray!** You have made a profit and still hold a position. But its not surprising since bitcoin has increased twenty fold during this period. Let's do some analytics for fun.\n",
    "\n",
    "Beware, you are not taking commission and transaction costs into account"
   ]
  },
  {
   "cell_type": "code",
   "execution_count": null,
   "metadata": {},
   "outputs": [],
   "source": [
    "trades = pd.DataFrame(btc.all_trades)\n",
    "trades['ts'] = pd.to_datetime(trades['ts'])\n",
    "trades['year'] = trades['ts'].dt.year\n",
    "trades['values'] = trades['qty'] * trades['price']\n",
    "trades.groupby(['year', 'order']).agg({'qty': sum, 'values': sum}).unstack()"
   ]
  },
  {
   "cell_type": "markdown",
   "metadata": {},
   "source": [
    "Looks, 2013 and 2017 seemed to be really good years"
   ]
  }
 ],
 "metadata": {
  "kernelspec": {
   "display_name": "Python 3",
   "language": "python",
   "name": "python3"
  },
  "language_info": {
   "codemirror_mode": {
    "name": "ipython",
    "version": 3
   },
   "file_extension": ".py",
   "mimetype": "text/x-python",
   "name": "python",
   "nbconvert_exporter": "python",
   "pygments_lexer": "ipython3",
   "version": "3.6.8"
  }
 },
 "nbformat": 4,
 "nbformat_minor": 2
}
