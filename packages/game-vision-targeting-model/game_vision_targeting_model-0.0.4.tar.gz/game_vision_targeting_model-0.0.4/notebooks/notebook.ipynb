{
 "cells": [
  {
   "cell_type": "code",
   "execution_count": 2,
   "id": "81556f8a-5faa-4d4b-a1d5-44865a159afb",
   "metadata": {},
   "outputs": [
    {
     "name": "stdout",
     "output_type": "stream",
     "text": [
      "Looking in indexes: https://pypi.org/simple, https://pypi.ngc.nvidia.com\n",
      "Requirement already satisfied: ipykernel in c:\\workspace\\ml-game-targeting\\.venv\\lib\\site-packages (6.23.1)\n",
      "Requirement already satisfied: comm>=0.1.1 in c:\\workspace\\ml-game-targeting\\.venv\\lib\\site-packages (from ipykernel) (0.1.3)\n",
      "Requirement already satisfied: debugpy>=1.6.5 in c:\\workspace\\ml-game-targeting\\.venv\\lib\\site-packages (from ipykernel) (1.6.7)\n",
      "Requirement already satisfied: ipython>=7.23.1 in c:\\workspace\\ml-game-targeting\\.venv\\lib\\site-packages (from ipykernel) (8.13.2)\n",
      "Requirement already satisfied: jupyter-client>=6.1.12 in c:\\workspace\\ml-game-targeting\\.venv\\lib\\site-packages (from ipykernel) (8.2.0)\n",
      "Requirement already satisfied: jupyter-core!=5.0.*,>=4.12 in c:\\workspace\\ml-game-targeting\\.venv\\lib\\site-packages (from ipykernel) (5.3.0)\n",
      "Requirement already satisfied: matplotlib-inline>=0.1 in c:\\workspace\\ml-game-targeting\\.venv\\lib\\site-packages (from ipykernel) (0.1.6)\n",
      "Requirement already satisfied: nest-asyncio in c:\\workspace\\ml-game-targeting\\.venv\\lib\\site-packages (from ipykernel) (1.5.6)\n",
      "Requirement already satisfied: packaging in c:\\workspace\\ml-game-targeting\\.venv\\lib\\site-packages (from ipykernel) (23.1)\n",
      "Requirement already satisfied: psutil in c:\\workspace\\ml-game-targeting\\.venv\\lib\\site-packages (from ipykernel) (5.9.5)\n",
      "Requirement already satisfied: pyzmq>=20 in c:\\workspace\\ml-game-targeting\\.venv\\lib\\site-packages (from ipykernel) (25.0.2)\n",
      "Requirement already satisfied: tornado>=6.1 in c:\\workspace\\ml-game-targeting\\.venv\\lib\\site-packages (from ipykernel) (6.3.2)\n",
      "Requirement already satisfied: traitlets>=5.4.0 in c:\\workspace\\ml-game-targeting\\.venv\\lib\\site-packages (from ipykernel) (5.9.0)\n",
      "Requirement already satisfied: backcall in c:\\workspace\\ml-game-targeting\\.venv\\lib\\site-packages (from ipython>=7.23.1->ipykernel) (0.2.0)\n",
      "Requirement already satisfied: decorator in c:\\workspace\\ml-game-targeting\\.venv\\lib\\site-packages (from ipython>=7.23.1->ipykernel) (5.1.1)\n",
      "Requirement already satisfied: jedi>=0.16 in c:\\workspace\\ml-game-targeting\\.venv\\lib\\site-packages (from ipython>=7.23.1->ipykernel) (0.18.2)\n",
      "Requirement already satisfied: pickleshare in c:\\workspace\\ml-game-targeting\\.venv\\lib\\site-packages (from ipython>=7.23.1->ipykernel) (0.7.5)\n",
      "Requirement already satisfied: prompt-toolkit!=3.0.37,<3.1.0,>=3.0.30 in c:\\workspace\\ml-game-targeting\\.venv\\lib\\site-packages (from ipython>=7.23.1->ipykernel) (3.0.38)\n",
      "Requirement already satisfied: pygments>=2.4.0 in c:\\workspace\\ml-game-targeting\\.venv\\lib\\site-packages (from ipython>=7.23.1->ipykernel) (2.15.1)\n",
      "Requirement already satisfied: stack-data in c:\\workspace\\ml-game-targeting\\.venv\\lib\\site-packages (from ipython>=7.23.1->ipykernel) (0.6.2)\n",
      "Requirement already satisfied: colorama in c:\\workspace\\ml-game-targeting\\.venv\\lib\\site-packages (from ipython>=7.23.1->ipykernel) (0.4.6)\n",
      "Requirement already satisfied: python-dateutil>=2.8.2 in c:\\workspace\\ml-game-targeting\\.venv\\lib\\site-packages (from jupyter-client>=6.1.12->ipykernel) (2.8.2)\n",
      "Requirement already satisfied: platformdirs>=2.5 in c:\\workspace\\ml-game-targeting\\.venv\\lib\\site-packages (from jupyter-core!=5.0.*,>=4.12->ipykernel) (3.5.1)\n",
      "Requirement already satisfied: pywin32>=300 in c:\\workspace\\ml-game-targeting\\.venv\\lib\\site-packages (from jupyter-core!=5.0.*,>=4.12->ipykernel) (306)\n",
      "Requirement already satisfied: parso<0.9.0,>=0.8.0 in c:\\workspace\\ml-game-targeting\\.venv\\lib\\site-packages (from jedi>=0.16->ipython>=7.23.1->ipykernel) (0.8.3)\n",
      "Requirement already satisfied: wcwidth in c:\\workspace\\ml-game-targeting\\.venv\\lib\\site-packages (from prompt-toolkit!=3.0.37,<3.1.0,>=3.0.30->ipython>=7.23.1->ipykernel) (0.2.6)\n",
      "Requirement already satisfied: six>=1.5 in c:\\workspace\\ml-game-targeting\\.venv\\lib\\site-packages (from python-dateutil>=2.8.2->jupyter-client>=6.1.12->ipykernel) (1.16.0)\n",
      "Requirement already satisfied: executing>=1.2.0 in c:\\workspace\\ml-game-targeting\\.venv\\lib\\site-packages (from stack-data->ipython>=7.23.1->ipykernel) (1.2.0)\n",
      "Requirement already satisfied: asttokens>=2.1.0 in c:\\workspace\\ml-game-targeting\\.venv\\lib\\site-packages (from stack-data->ipython>=7.23.1->ipykernel) (2.2.1)\n",
      "Requirement already satisfied: pure-eval in c:\\workspace\\ml-game-targeting\\.venv\\lib\\site-packages (from stack-data->ipython>=7.23.1->ipykernel) (0.2.2)\n",
      "Installed kernelspec notebook_environment in C:\\ProgramData\\jupyter\\kernels\\notebook_environment\n"
     ]
    },
    {
     "name": "stderr",
     "output_type": "stream",
     "text": [
      "0.00s - Debugger warning: It seems that frozen modules are being used, which may\n",
      "0.00s - make the debugger miss breakpoints. Please pass -Xfrozen_modules=off\n",
      "0.00s - to python to disable frozen modules.\n",
      "0.00s - Note: Debugging will proceed. Set PYDEVD_DISABLE_FILE_VALIDATION=1 to disable this validation.\n"
     ]
    },
    {
     "name": "stdout",
     "output_type": "stream",
     "text": [
      "Looking in indexes: https://pypi.org/simple, https://pypi.ngc.nvidia.com\n",
      "Requirement already satisfied: keras in c:\\workspace\\ml-game-targeting\\.venv\\lib\\site-packages (from -r ../requirements.txt (line 1)) (2.12.0)\n"
     ]
    }
   ],
   "source": [
    "!pip install ipykernel\n",
    "!python -m ipykernel install --name=notebook_environment\n",
    "\n",
    "!pip install -r ../requirements.txt"
   ]
  },
  {
   "cell_type": "code",
   "execution_count": 21,
   "id": "192ee9d2",
   "metadata": {},
   "outputs": [
    {
     "name": "stdout",
     "output_type": "stream",
     "text": [
      "c:\\Workspace\\ml-game-targeting\\src\n"
     ]
    }
   ],
   "source": [
    "%cd ../src\n",
    "%pwd"
   ]
  },
  {
   "cell_type": "code",
   "execution_count": 29,
   "id": "922558da",
   "metadata": {},
   "outputs": [],
   "source": [
    "from GameVisionTargetingModel.models.map_classifier_v1 \\\n",
    "    import MapClassifier"
   ]
  },
  {
   "cell_type": "code",
   "execution_count": 30,
   "id": "918e806c",
   "metadata": {},
   "outputs": [
    {
     "name": "stdout",
     "output_type": "stream",
     "text": [
      "Model: \"map_classifier\"\n",
      "_________________________________________________________________\n",
      " Layer (type)                Output Shape              Param #   \n",
      "=================================================================\n",
      " rescaling (Rescaling)       (None, 512, 512, 3)       0         \n",
      "                                                                 \n",
      " conv2d (Conv2D)             (None, 512, 512, 512)     14336     \n",
      "                                                                 \n",
      " conv2d_1 (Conv2D)           (None, 512, 512, 512)     2359808   \n",
      "                                                                 \n",
      " max_pooling2d (MaxPooling2D  (None, 256, 256, 512)    0         \n",
      " )                                                               \n",
      "                                                                 \n",
      " conv2d_2 (Conv2D)           (None, 256, 256, 256)     1179904   \n",
      "                                                                 \n",
      " conv2d_3 (Conv2D)           (None, 256, 256, 256)     590080    \n",
      "                                                                 \n",
      " conv2d_4 (Conv2D)           (None, 256, 256, 256)     590080    \n",
      "                                                                 \n",
      " conv2d_5 (Conv2D)           (None, 256, 256, 256)     590080    \n",
      "                                                                 \n",
      " max_pooling2d_1 (MaxPooling  (None, 128, 128, 256)    0         \n",
      " 2D)                                                             \n",
      "                                                                 \n",
      " conv2d_6 (Conv2D)           (None, 128, 128, 128)     295040    \n",
      "                                                                 \n",
      " conv2d_7 (Conv2D)           (None, 128, 128, 128)     147584    \n",
      "                                                                 \n",
      " conv2d_8 (Conv2D)           (None, 128, 128, 128)     147584    \n",
      "                                                                 \n",
      " conv2d_9 (Conv2D)           (None, 128, 128, 128)     147584    \n",
      "                                                                 \n",
      " conv2d_10 (Conv2D)          (None, 128, 128, 128)     147584    \n",
      "                                                                 \n",
      " max_pooling2d_2 (MaxPooling  (None, 64, 64, 128)      0         \n",
      " 2D)                                                             \n",
      "                                                                 \n",
      " conv2d_11 (Conv2D)          (None, 64, 64, 64)        73792     \n",
      "                                                                 \n",
      " conv2d_12 (Conv2D)          (None, 64, 64, 64)        36928     \n",
      "                                                                 \n",
      " conv2d_13 (Conv2D)          (None, 64, 64, 64)        36928     \n",
      "                                                                 \n",
      " conv2d_14 (Conv2D)          (None, 64, 64, 64)        36928     \n",
      "                                                                 \n",
      " global_average_pooling2d (G  (None, 64)               0         \n",
      " lobalAveragePooling2D)                                          \n",
      "                                                                 \n",
      " flatten (Flatten)           (None, 64)                0         \n",
      "                                                                 \n",
      " dense (Dense)               (None, 32)                2080      \n",
      "                                                                 \n",
      " dense_1 (Dense)             (None, 4)                 132       \n",
      "                                                                 \n",
      "=================================================================\n",
      "Total params: 6,396,452\n",
      "Trainable params: 6,396,452\n",
      "Non-trainable params: 0\n",
      "_________________________________________________________________\n"
     ]
    }
   ],
   "source": [
    "model = MapClassifier()\n",
    "\n",
    "model.compile()\n",
    "\n",
    "model.summary()"
   ]
  }
 ],
 "metadata": {
  "kernelspec": {
   "display_name": "notebook_environment",
   "language": "python",
   "name": "notebook_environment"
  },
  "language_info": {
   "codemirror_mode": {
    "name": "ipython",
    "version": 3
   },
   "file_extension": ".py",
   "mimetype": "text/x-python",
   "name": "python",
   "nbconvert_exporter": "python",
   "pygments_lexer": "ipython3",
   "version": "3.11.3"
  }
 },
 "nbformat": 4,
 "nbformat_minor": 5
}
