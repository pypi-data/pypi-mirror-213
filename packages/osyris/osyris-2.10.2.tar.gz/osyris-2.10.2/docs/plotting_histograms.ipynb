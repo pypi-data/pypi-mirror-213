{
 "cells": [
  {
   "cell_type": "markdown",
   "metadata": {},
   "source": [
    "# Plotting: histograms\n",
    "\n",
    "In this notebook, we illustrate the possibilities of plotting 1D and 2D histograms.\n",
    "\n",
    "Note that Osyris's plotting functions are wrapping Matplotlib's plotting functions,\n",
    "and forwards most Matplotlib arguments to the underlying function."
   ]
  },
  {
   "cell_type": "code",
   "execution_count": null,
   "metadata": {},
   "outputs": [],
   "source": [
    "import osyris\n",
    "import numpy as np\n",
    "import matplotlib.pyplot as plt\n",
    "\n",
    "path = \"osyrisdata/starformation\"\n",
    "data = osyris.Dataset(8, path=path).load()"
   ]
  },
  {
   "cell_type": "markdown",
   "metadata": {},
   "source": [
    "## 1D histograms\n",
    "\n",
    "The `histogram1d` function provides a simple way to make 1D histogram plots.\n",
    "When a vector quantity is supplied, by default `histogram1d` will use the norm of the vectors.\n",
    "\n",
    "### A 1D histogram of gas density\n",
    "\n",
    "For example, to plot a histogram of the gas density, simply do"
   ]
  },
  {
   "cell_type": "code",
   "execution_count": null,
   "metadata": {},
   "outputs": [],
   "source": [
    "osyris.histogram1d(data[\"hydro\"][\"density\"], logx=True)"
   ]
  },
  {
   "cell_type": "markdown",
   "metadata": {},
   "source": [
    "### Specifying the bins\n",
    "\n",
    "The bin edges can be specified using the `bins` parameter,\n",
    "which can either be an integer number or an array (similarly to Numpy's `bins` argument):"
   ]
  },
  {
   "cell_type": "code",
   "execution_count": null,
   "metadata": {},
   "outputs": [],
   "source": [
    "osyris.histogram1d(data[\"hydro\"][\"density\"], logx=True,\n",
    "                   bins=np.logspace(-18., -13., 10))"
   ]
  },
  {
   "cell_type": "markdown",
   "metadata": {},
   "source": [
    "### Weighted histogram\n",
    "\n",
    "By default, `histogram1d` will show a binned count of cells, but it does also support weights.\n",
    "For example, creating a mass-weighted histogram of the gas density can be achieved via"
   ]
  },
  {
   "cell_type": "code",
   "execution_count": null,
   "metadata": {},
   "outputs": [],
   "source": [
    "data[\"hydro\"][\"mass\"] = (data[\"hydro\"][\"density\"] * (data[\"amr\"][\"dx\"]**3)).to(\"M_sun\")\n",
    "osyris.histogram1d(data[\"hydro\"][\"density\"],\n",
    "                   weights=data[\"hydro\"][\"mass\"],\n",
    "                   logx=True)"
   ]
  },
  {
   "cell_type": "markdown",
   "metadata": {},
   "source": [
    "### Multiple 1D histograms\n",
    "\n",
    "Multiple histograms can be over-plotted on the same axes by using multiple layers:"
   ]
  },
  {
   "cell_type": "code",
   "execution_count": null,
   "metadata": {
    "tags": []
   },
   "outputs": [],
   "source": [
    "bins = np.linspace(-0.15, 0.15, 40)\n",
    "osyris.histogram1d({\"data\": data[\"hydro\"][\"B_field\"].x, \"alpha\": 0.5},\n",
    "                   {\"data\": data[\"hydro\"][\"B_field\"].y, \"alpha\": 0.5},\n",
    "                   {\"data\": data[\"hydro\"][\"B_field\"].z, \"alpha\": 0.5},\n",
    "                   logy=True, bins=bins)"
   ]
  },
  {
   "cell_type": "markdown",
   "metadata": {},
   "source": [
    "It is also possible to specify different bins for different layers:"
   ]
  },
  {
   "cell_type": "code",
   "execution_count": null,
   "metadata": {},
   "outputs": [],
   "source": [
    "osyris.histogram1d({\"data\": data[\"hydro\"][\"B_field\"].x, \"alpha\": 0.5, \"bins\": 40},\n",
    "                   {\"data\": data[\"hydro\"][\"B_field\"].y, \"alpha\": 0.5, \"bins\": 10},\n",
    "                   logy=True)"
   ]
  },
  {
   "cell_type": "markdown",
   "metadata": {},
   "source": [
    "## 2D histograms\n",
    "\n",
    "The `histogram2d` function can be used to make 2D histograms with two different quantities as input.\n",
    "When a vector quantity is supplied, by default `histogram2d` will use the norm of the vectors\n",
    "\n",
    "### A 2D histogram of gas density vs magnetic field magnitude\n",
    "\n",
    "To create a 2D histogram of gas density vs magnetic field magnitude, use"
   ]
  },
  {
   "cell_type": "code",
   "execution_count": null,
   "metadata": {},
   "outputs": [],
   "source": [
    "osyris.histogram2d(data[\"hydro\"][\"density\"], data[\"hydro\"][\"B_field\"],\n",
    "                   norm=\"log\", loglog=True)"
   ]
  },
  {
   "cell_type": "markdown",
   "metadata": {},
   "source": [
    "### Changing the colorscale\n",
    "\n",
    "The colormap and the range of values can be changed as follows. "
   ]
  },
  {
   "cell_type": "code",
   "execution_count": null,
   "metadata": {},
   "outputs": [],
   "source": [
    "osyris.histogram2d(data[\"hydro\"][\"density\"], data[\"hydro\"][\"B_field\"],\n",
    "                   norm=\"log\", loglog=True,\n",
    "                   cmap=\"magma\", vmin=10., vmax=1000.)"
   ]
  },
  {
   "cell_type": "markdown",
   "metadata": {},
   "source": [
    "### Controlling the horizontal and vertical range\n",
    "\n",
    "To control the range covered by the horizontal and vertical binning,\n",
    "the `xmin`, `xmax`, `ymin`, `ymax` arguments are provided."
   ]
  },
  {
   "cell_type": "code",
   "execution_count": null,
   "metadata": {},
   "outputs": [],
   "source": [
    "osyris.histogram2d(data[\"hydro\"][\"density\"], data[\"hydro\"][\"B_field\"],\n",
    "                   norm=\"log\", loglog=True, xmax=1.0e-16, ymax=1.0e-3)"
   ]
  },
  {
   "cell_type": "markdown",
   "metadata": {},
   "source": [
    "### Using a layer for the colormap instead of counting cells\n",
    "\n",
    "By default, `histogram2d` will show a binned count of cells.\n",
    "However, the colors can represent the histogram of a supplied `Array` instead."
   ]
  },
  {
   "cell_type": "code",
   "execution_count": null,
   "metadata": {},
   "outputs": [],
   "source": [
    "osyris.histogram2d(\n",
    "    data[\"hydro\"][\"density\"], data[\"hydro\"][\"B_field\"],\n",
    "    {\"data\": data[\"hydro\"][\"mass\"], \"norm\": \"log\"},\n",
    "    loglog=True)"
   ]
  },
  {
   "cell_type": "markdown",
   "metadata": {},
   "source": [
    "### Applying a mean operation inside each bin\n",
    "\n",
    "By default, the sum of the layer values in computed inside each bin.\n",
    "It can sometimes be useful to compute the mean inside each bin instead,\n",
    "and this can be done by setting `operation='mean'`.\n",
    "\n",
    "For example, we can get a feel for the resolution distribution in our histogram by histogramming the AMR `level` of the cells,\n",
    "and applying a `'mean'` operation inside the pixels."
   ]
  },
  {
   "cell_type": "code",
   "execution_count": null,
   "metadata": {},
   "outputs": [],
   "source": [
    "osyris.histogram2d(\n",
    "    data[\"hydro\"][\"density\"], data[\"hydro\"][\"B_field\"],\n",
    "    {\"data\": data[\"amr\"][\"level\"], \"operation\": \"mean\"},\n",
    "    loglog=True)"
   ]
  },
  {
   "cell_type": "markdown",
   "metadata": {},
   "source": [
    "### Multiple layers\n",
    "\n",
    "One can use any number of layers to overlay, although anything being two layers is probably not very useful."
   ]
  },
  {
   "cell_type": "code",
   "execution_count": null,
   "metadata": {},
   "outputs": [],
   "source": [
    "osyris.histogram2d(\n",
    "    data[\"hydro\"][\"density\"], data[\"hydro\"][\"B_field\"],\n",
    "    {\"data\": data[\"hydro\"][\"mass\"], \"norm\": \"log\"}, # layer 1\n",
    "    {\"data\": data[\"amr\"][\"level\"], \"operation\": \"mean\", \"fmt\": \"%i\",\n",
    "     \"mode\": \"contour\", \"colors\": \"k\", \"levels\": [5, 6, 7, 8, 9]}, # layer 2\n",
    "    loglog=True)"
   ]
  },
  {
   "cell_type": "markdown",
   "metadata": {},
   "source": [
    "### Controlling the resolution\n",
    "\n",
    "By default, the histograms have a resolution of 256x256 pixels.\n",
    "This can be changed via the keyword argument `resolution`,\n",
    "which can either be an integer (in which case the same resolution is applied to both the x and y dimension)\n",
    "or a dict with the syntax `resolution={'x': nx, 'y': ny}`."
   ]
  },
  {
   "cell_type": "code",
   "execution_count": null,
   "metadata": {},
   "outputs": [],
   "source": [
    "osyris.histogram2d(data[\"hydro\"][\"density\"], data[\"hydro\"][\"B_field\"],\n",
    "                   norm=\"log\", loglog=True,\n",
    "                   resolution=64)"
   ]
  },
  {
   "cell_type": "markdown",
   "metadata": {},
   "source": [
    "## Subplots / tiled plots\n",
    "\n",
    "Osyris has no built-in support for subplots (also known as tiled plots).\n",
    "Instead, we leverage Matplotlib's ability to create such layouts.\n",
    "Osyris plots are then inserted into the Matplotlib axes, using the `ax` argument.\n",
    "\n",
    "In the example below, we create four panels and insert various histograms."
   ]
  },
  {
   "cell_type": "code",
   "execution_count": null,
   "metadata": {},
   "outputs": [],
   "source": [
    "# Create figure\n",
    "import matplotlib.pyplot as plt\n",
    "fig, ax = plt.subplots(2, 2, figsize=(12, 9))\n",
    "\n",
    "osyris.histogram1d(data[\"hydro\"][\"density\"], logx=True, ax=ax[0, 0])\n",
    "osyris.histogram2d(data[\"hydro\"][\"density\"], data[\"hydro\"][\"B_field\"],\n",
    "                   norm=\"log\", loglog=True, ax=ax[0, 1])\n",
    "osyris.histogram1d({\"data\": data[\"hydro\"][\"B_field\"].x, \"alpha\": 0.5},\n",
    "                   {\"data\": data[\"hydro\"][\"B_field\"].y, \"alpha\": 0.5},\n",
    "                   {\"data\": data[\"hydro\"][\"B_field\"].z, \"alpha\": 0.5},\n",
    "                   logy=True, bins=np.linspace(-0.15, 0.15, 40), ax=ax[1, 0])\n",
    "osyris.histogram2d(data[\"hydro\"][\"density\"], data[\"hydro\"][\"velocity\"],\n",
    "                   {\"data\": data[\"hydro\"][\"mass\"], \"norm\": \"log\"},\n",
    "                   loglog=True, cmap=\"magma\", ax=ax[1, 1])"
   ]
  }
 ],
 "metadata": {
  "kernelspec": {
   "display_name": "Python 3 (ipykernel)",
   "language": "python",
   "name": "python3"
  },
  "language_info": {
   "codemirror_mode": {
    "name": "ipython",
    "version": 3
   },
   "file_extension": ".py",
   "mimetype": "text/x-python",
   "name": "python",
   "nbconvert_exporter": "python",
   "pygments_lexer": "ipython3",
   "version": "3.9.5"
  }
 },
 "nbformat": 4,
 "nbformat_minor": 4
}
