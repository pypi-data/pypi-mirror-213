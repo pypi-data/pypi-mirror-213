{
 "cells": [
  {
   "cell_type": "code",
   "execution_count": 1,
   "id": "da57d0d3-6775-457c-b778-a4de5803449b",
   "metadata": {},
   "outputs": [
    {
     "name": "stdout",
     "output_type": "stream",
     "text": [
      "Intel MKL WARNING: Support of Intel(R) Streaming SIMD Extensions 4.2 (Intel(R) SSE4.2) enabled only processors has been deprecated. Intel oneAPI Math Kernel Library 2025.0 will require Intel(R) Advanced Vector Extensions (Intel(R) AVX) instructions.\n",
      "Intel MKL WARNING: Support of Intel(R) Streaming SIMD Extensions 4.2 (Intel(R) SSE4.2) enabled only processors has been deprecated. Intel oneAPI Math Kernel Library 2025.0 will require Intel(R) Advanced Vector Extensions (Intel(R) AVX) instructions.\n"
     ]
    }
   ],
   "source": [
    "import pandas as pd\n",
    "import numpy as np\n",
    "import json\n",
    "from buckaroo.buckaroo_widget import BuckarooWidget, disable, enable, df_to_obj\n",
    "import matplotlib"
   ]
  },
  {
   "cell_type": "code",
   "execution_count": 2,
   "id": "63bfa689-4fbe-4ce0-bef2-5ba40f1333ab",
   "metadata": {},
   "outputs": [
    {
     "name": "stderr",
     "output_type": "stream",
     "text": [
      "/var/folders/th/jfr8ccjx09g2j_18ty_t3xnh0000gn/T/ipykernel_11949/3496868452.py:2: DtypeWarning: Columns (2) have mixed types. Specify dtype option on import or set low_memory=False.\n",
      "  df4 = pd.read_csv('WPP2022_Demographic_Indicators_Medium.csv')\n"
     ]
    }
   ],
   "source": [
    "from buckaroo import  summary_stats \n",
    "df4 = pd.read_csv('WPP2022_Demographic_Indicators_Medium.csv')"
   ]
  },
  {
   "cell_type": "code",
   "execution_count": 3,
   "id": "8725bd10-df55-4f45-bebc-93fbb2f051d2",
   "metadata": {},
   "outputs": [
    {
     "data": {
      "text/plain": [
       "5070501"
      ]
     },
     "execution_count": 3,
     "metadata": {},
     "output_type": "execute_result"
    }
   ],
   "source": [
    "df6 =  pd.read_parquet('1993-flights.gzip.parquet')\n",
    "len(df6)"
   ]
  },
  {
   "cell_type": "code",
   "execution_count": 4,
   "id": "9162e3e8-7e00-498b-8b64-df11eba416c8",
   "metadata": {},
   "outputs": [
    {
     "data": {
      "application/vnd.jupyter.widget-view+json": {
       "model_id": "9610993098c5485e988828bff02e33f1",
       "version_major": 2,
       "version_minor": 0
      },
      "text/plain": [
       "BuckarooWidget(commandConfig={'argspecs': {'dropcol': [None], 'to_datetime': [None], 'safeint': [None], 'filln…"
      ]
     },
     "metadata": {},
     "output_type": "display_data"
    }
   ],
   "source": [
    "df6"
   ]
  },
  {
   "cell_type": "code",
   "execution_count": null,
   "id": "e71f6601-263e-4c6b-b977-286f5449704a",
   "metadata": {},
   "outputs": [],
   "source": [
    "%timeit summary_stats.DfStats(summary_stats.sample(df6, 5000))"
   ]
  },
  {
   "cell_type": "code",
   "execution_count": null,
   "id": "64511a1d-c2c1-4561-a763-454275035fc9",
   "metadata": {},
   "outputs": [],
   "source": [
    "len(df6)"
   ]
  },
  {
   "cell_type": "code",
   "execution_count": null,
   "id": "07b8c820-55dd-4313-86c7-607f6034ee1d",
   "metadata": {},
   "outputs": [],
   "source": [
    "len(df6.columns)"
   ]
  },
  {
   "cell_type": "code",
   "execution_count": null,
   "id": "f0c1151c-9a80-4b8a-9b19-8266d1f12e6b",
   "metadata": {},
   "outputs": [],
   "source": [
    "%timeit summary_stats.DfStats(df6.sample(50000))"
   ]
  },
  {
   "cell_type": "code",
   "execution_count": null,
   "id": "27acb42e-d1e4-4186-b2ab-62415608c2cd",
   "metadata": {},
   "outputs": [],
   "source": [
    "NUM = 50_000\n",
    "print(NUM * len(df6.columns) // 1_000_000)\n",
    "print(NUM * len(df6.columns) )\n",
    "\n",
    "%timeit summary_stats.DfStats(df6.sample(NUM))"
   ]
  },
  {
   "cell_type": "code",
   "execution_count": null,
   "id": "b9dd4fc8-33d4-41fb-93e3-620ce7780b30",
   "metadata": {},
   "outputs": [],
   "source": []
  },
  {
   "cell_type": "code",
   "execution_count": null,
   "id": "65e9f66a-7b80-4485-92fa-f57cbf432179",
   "metadata": {},
   "outputs": [],
   "source": [
    "%prun df6.sample(100000)"
   ]
  },
  {
   "cell_type": "code",
   "execution_count": null,
   "id": "eeb3f100-8336-4b6e-bf51-256da8259ef9",
   "metadata": {},
   "outputs": [],
   "source": [
    "%timeit summary_stats.DfStats(df6[:500_000])"
   ]
  },
  {
   "cell_type": "code",
   "execution_count": null,
   "id": "15dd3e64-5619-40db-aa55-9d5af35978d0",
   "metadata": {},
   "outputs": [],
   "source": [
    "%prun -s cumtime -l 100 summary_stats.DfStats(df6[:500_000])"
   ]
  },
  {
   "cell_type": "code",
   "execution_count": null,
   "id": "e198ad39-95fc-4a28-8dce-e467ec6d416d",
   "metadata": {},
   "outputs": [],
   "source": [
    "%timeit summary_stats.DfStats(df6[:1000_000])"
   ]
  },
  {
   "cell_type": "code",
   "execution_count": null,
   "id": "6656290c-6443-46ad-85a7-f929fc941dbf",
   "metadata": {},
   "outputs": [],
   "source": [
    "df4"
   ]
  },
  {
   "cell_type": "code",
   "execution_count": null,
   "id": "e75f7bf1-fbfb-4619-a1c4-cfea23fc44f0",
   "metadata": {},
   "outputs": [],
   "source": [
    "df3 = pd.read_parquet('Covid-data.gzip.parquet')\n",
    "df3"
   ]
  },
  {
   "cell_type": "code",
   "execution_count": null,
   "id": "1d53c6bc-5352-4d2a-b5ac-5d34c8a19c47",
   "metadata": {},
   "outputs": [],
   "source": [
    "df3[:5000]"
   ]
  },
  {
   "cell_type": "code",
   "execution_count": null,
   "id": "bba87c64-5d2b-4aa0-956f-3aacca6cf529",
   "metadata": {},
   "outputs": [],
   "source": []
  },
  {
   "cell_type": "code",
   "execution_count": null,
   "id": "18f36a4e-6fc1-4049-8c01-b24a3ff763e6",
   "metadata": {},
   "outputs": [],
   "source": [
    "table_sumarize(df3[:500_00])"
   ]
  },
  {
   "cell_type": "code",
   "execution_count": null,
   "id": "51390623-b0e9-4b38-a73c-b8e2c71137c9",
   "metadata": {},
   "outputs": [],
   "source": [
    "df = df3[:2]"
   ]
  },
  {
   "cell_type": "code",
   "execution_count": null,
   "id": "43e265c3-9c7d-4513-bf1c-353c795ab483",
   "metadata": {},
   "outputs": [],
   "source": [
    "json.loads(df.to_json(orient='table', indent=2, default_handler=str))"
   ]
  },
  {
   "cell_type": "code",
   "execution_count": null,
   "id": "1b8388ee-e8e7-4531-96a8-6e628f0fbeb0",
   "metadata": {},
   "outputs": [],
   "source": [
    "df.to_dict('records')"
   ]
  },
  {
   "cell_type": "code",
   "execution_count": null,
   "id": "fbe724a9-3a4f-498e-bb82-e0bed3a8c97f",
   "metadata": {},
   "outputs": [],
   "source": [
    "help(df.to_dict)"
   ]
  },
  {
   "cell_type": "code",
   "execution_count": null,
   "id": "b902f028-565a-409d-a81b-c1b08103a4f9",
   "metadata": {},
   "outputs": [],
   "source": [
    "from buckaroo.buckaroo_widget import df_to_obj as df_to_obj_orig"
   ]
  },
  {
   "cell_type": "code",
   "execution_count": null,
   "id": "2daa3049-870b-4e38-ac2d-84c9515b9a1b",
   "metadata": {},
   "outputs": [],
   "source": [
    "%timeit  len(summary_stats.sample(df3, 5000))"
   ]
  },
  {
   "cell_type": "code",
   "execution_count": null,
   "id": "9053d95c-182b-4f9e-9809-004409a7780e",
   "metadata": {},
   "outputs": [],
   "source": [
    "def get_outlier_idxs(ser):\n",
    "    if not pd.api.types.is_numeric_dtype(ser.dtype):\n",
    "        return []\n",
    "    outlier_idxs = []\n",
    "    outlier_idxs.extend(ser.nlargest(5).index)\n",
    "    outlier_idxs.extend(ser.nsmallest(5).index)\n",
    "    return outlier_idxs\n",
    "\n",
    "def sample(df, sample_size=500, include_outliers=True):\n",
    "    if len(df) <= sample_size:\n",
    "        return df\n",
    "    sdf = df.sample(np.min([sample_size, len(df)]))\n",
    "    if include_outliers:\n",
    "        outlier_idxs = []\n",
    "        for col in df.columns:\n",
    "            outlier_idxs.extend(get_outlier_idxs(df[col]) )\n",
    "        outlier_idxs.extend(sdf.index)\n",
    "        uniq_idx = np.unique(outlier_idxs)\n",
    "        return df.iloc[uniq_idx]\n",
    "    return sdf\n",
    "%timeit len(sample(df3, 5000))"
   ]
  },
  {
   "cell_type": "code",
   "execution_count": null,
   "id": "340907c9-1141-4727-806c-01c76454e4fa",
   "metadata": {},
   "outputs": [],
   "source": [
    "df_s = sample(df3, 5000)\n",
    "df_s"
   ]
  },
  {
   "cell_type": "code",
   "execution_count": null,
   "id": "3588dc30-e7e4-44f6-acd6-a2ae62128358",
   "metadata": {},
   "outputs": [],
   "source": [
    "%prun -s cumtime -l 100 len(sample(df3, 5000))"
   ]
  },
  {
   "cell_type": "code",
   "execution_count": null,
   "id": "f7b3016c-df5f-4b98-a9b0-b7b5d02dcd62",
   "metadata": {},
   "outputs": [],
   "source": [
    "%prun -s cumtime -l 100 len(summary_stats.sample(df3, 5000))"
   ]
  },
  {
   "cell_type": "code",
   "execution_count": null,
   "id": "eeed9524-4b1b-4165-8d95-6e23835df940",
   "metadata": {},
   "outputs": [],
   "source": [
    "%prun -s cumtime -l 100 len(df_to_obj_orig( df3[:100_000]))"
   ]
  },
  {
   "cell_type": "code",
   "execution_count": null,
   "id": "52fb81e9-9e9b-422b-ba12-b91439fa2914",
   "metadata": {},
   "outputs": [],
   "source": [
    "from pandas.io.json import dumps as pdumps\n",
    "from buckaroo.summary_stats import table_sumarize\n",
    "def df_to_obj(df, order = None):\n",
    "    if order is None:\n",
    "        order = df.columns\n",
    "    #obj = json.loads(df.to_json(orient='table', indent=2, default_handler=str))\n",
    "    fields=[{'name':'index'}]\n",
    "    for c in order:\n",
    "        fields.append({'name':c})\n",
    "    obj = {}\n",
    "    obj['data'] = df.to_dict('records')\n",
    "    #obj['table_hints'] = json.loads(pdumps(table_sumarize(df)))\n",
    "\n",
    "    obj['schema'] = dict(fields=fields)\n",
    "    return obj\n",
    "%prun -s cumtime -l 100 len(df_to_obj(  df3[:500_000]))"
   ]
  },
  {
   "cell_type": "code",
   "execution_count": null,
   "id": "cdb4c0a9-695b-4401-8e39-51a24830d5aa",
   "metadata": {},
   "outputs": [],
   "source": [
    "%prun -l 100 -s cumtime bw = BuckarooWidget(df3)"
   ]
  },
  {
   "cell_type": "code",
   "execution_count": null,
   "id": "d0b744cd-68ad-4bf0-a14d-97b705abf99a",
   "metadata": {},
   "outputs": [],
   "source": [
    "%timeit bw = BuckarooWidget(df3[:50000])"
   ]
  },
  {
   "cell_type": "code",
   "execution_count": null,
   "id": "dc6c6e9e-cd9a-4748-8491-3df2e420828e",
   "metadata": {},
   "outputs": [],
   "source": [
    "df3 = pd.read_parquet('Covid-data.gzip.parquet')\n",
    "%timeit bw = BuckarooWidget(df3)"
   ]
  },
  {
   "cell_type": "code",
   "execution_count": null,
   "id": "15537068-1649-4201-901f-5def772532d5",
   "metadata": {},
   "outputs": [],
   "source": [
    "%timeit bw = BuckarooWidget(df3[:], really_reorder_columns=True )"
   ]
  },
  {
   "cell_type": "code",
   "execution_count": null,
   "id": "3ee49000-b248-4844-8ebf-4f78a228a896",
   "metadata": {},
   "outputs": [],
   "source": [
    "%"
   ]
  },
  {
   "cell_type": "code",
   "execution_count": null,
   "id": "a73fab90-c9c5-4fa5-be34-755e8af56921",
   "metadata": {},
   "outputs": [],
   "source": [
    "df4"
   ]
  },
  {
   "cell_type": "code",
   "execution_count": null,
   "id": "93746049-7ea1-433b-979f-e04639b57488",
   "metadata": {},
   "outputs": [],
   "source": [
    "dfs = summary_stats.DfStats(df4)\n",
    "sdf = dfs.sdf"
   ]
  },
  {
   "cell_type": "code",
   "execution_count": null,
   "id": "4d8a43fa-1e22-4a82-9707-734124072d26",
   "metadata": {},
   "outputs": [],
   "source": [
    "disable()"
   ]
  },
  {
   "cell_type": "code",
   "execution_count": null,
   "id": "2e4a1489-cb76-4b9f-9be8-b36ec079bb79",
   "metadata": {},
   "outputs": [],
   "source": [
    "sdf[sdf.columns[(sdf.loc['distinct_per'] < .3) | (sdf.loc['distinct_count'] < 50)]]"
   ]
  },
  {
   "cell_type": "code",
   "execution_count": null,
   "id": "3cc0fdf8-d863-4123-90e1-3fc5188b1c01",
   "metadata": {},
   "outputs": [],
   "source": [
    "sdf.columns[sdf.loc['distinct_per'] < .3 | sdf.loc['distinct_count'] < 50]"
   ]
  },
  {
   "cell_type": "code",
   "execution_count": null,
   "id": "de07d178-db03-4110-a289-c6d5cac3e426",
   "metadata": {},
   "outputs": [],
   "source": [
    "sdf.columns[sdf.loc['unique_per'] < .3]"
   ]
  },
  {
   "cell_type": "code",
   "execution_count": null,
   "id": "5f23bb73-6e67-4114-86a8-272e41bf2b05",
   "metadata": {},
   "outputs": [],
   "source": [
    "ab = sdf.loc['distinct_count'] > 1\n",
    "len(sdf.columns), len(sdf.columns[ab])"
   ]
  },
  {
   "cell_type": "code",
   "execution_count": null,
   "id": "15c15a74-dc5c-40b6-b676-1b225a411441",
   "metadata": {},
   "outputs": [],
   "source": [
    "%timeit summary_stats.DfStats(df4)"
   ]
  },
  {
   "cell_type": "code",
   "execution_count": null,
   "id": "425435f1-75b3-468d-96d1-0a718b39dbf4",
   "metadata": {},
   "outputs": [],
   "source": [
    "is3 = df4['ISO3_code']\n",
    "is3"
   ]
  },
  {
   "cell_type": "code",
   "execution_count": null,
   "id": "b9251abd-81ec-4df0-a754-f480f8b6e467",
   "metadata": {},
   "outputs": [],
   "source": [
    "make_num_categorical(is3)"
   ]
  },
  {
   "cell_type": "code",
   "execution_count": null,
   "id": "c60d1163-a206-435b-8171-263da29c2ca9",
   "metadata": {},
   "outputs": [],
   "source": [
    "make_num_categorical(is3.drop_duplicates())"
   ]
  },
  {
   "cell_type": "code",
   "execution_count": null,
   "id": "069f6ce5-7fcb-4690-bb11-148fa5d4e053",
   "metadata": {},
   "outputs": [],
   "source": []
  },
  {
   "cell_type": "code",
   "execution_count": null,
   "id": "65dd7315-02b7-40ec-8728-fa40accbee6f",
   "metadata": {},
   "outputs": [],
   "source": []
  },
  {
   "cell_type": "code",
   "execution_count": null,
   "id": "dfb95eaf-be22-4f53-89b2-0cc3a62dab2e",
   "metadata": {},
   "outputs": [],
   "source": [
    "def make_num_categorical(ser):\n",
    "    ser_uniq = ser.dropna().unique()\n",
    "    name_to_idx = {name:idx for idx, name in enumerate(ser_uniq)}\n",
    "    #needs to be vectorized\n",
    "    num_categorical = ser.dropna().apply(lambda x:name_to_idx[x])\n",
    "    return num_categorical\n"
   ]
  },
  {
   "cell_type": "code",
   "execution_count": null,
   "id": "c0ffc72a-9fcd-4827-85c6-5df1db5da8e3",
   "metadata": {},
   "outputs": [],
   "source": [
    "ab = is3.astype('category')\n",
    "ab.cat.codes"
   ]
  },
  {
   "cell_type": "code",
   "execution_count": null,
   "id": "e4555d4a-8cc2-4229-9b90-527ea3ce0d61",
   "metadata": {},
   "outputs": [],
   "source": [
    "print(summary_stats.get_cor_pair_dict(df4, summary_stats.summarize_df(df4)))"
   ]
  },
  {
   "cell_type": "code",
   "execution_count": null,
   "id": "c7488220-c819-4522-999a-a2dc0fa31df4",
   "metadata": {},
   "outputs": [],
   "source": [
    "get_cor_pair_dict(df4, summary_stats.summarize_df(df4))"
   ]
  },
  {
   "cell_type": "code",
   "execution_count": null,
   "id": "ab7d5a25-0224-4f24-87dc-05fa7ab7b196",
   "metadata": {},
   "outputs": [],
   "source": [
    "cols = [make_num_categorical(df4['Births']), make_num_categorical(df4['ISO2_code']), \n",
    "                        make_num_categorical(df4['ISO3_code']), make_num_categorical(df4['LBsurvivingAge1'])]"
   ]
  },
  {
   "cell_type": "code",
   "execution_count": null,
   "id": "c65fb12f-10cf-4c39-8a4e-bd1b3a27beb2",
   "metadata": {},
   "outputs": [],
   "source": [
    "disable()"
   ]
  },
  {
   "cell_type": "code",
   "execution_count": null,
   "id": "e702660b-5e1f-4789-9c04-5a28d19cb883",
   "metadata": {},
   "outputs": [],
   "source": [
    "pd.DataFrame([make_num_categorical(df4['Births']), make_num_categorical(df4['ISO2_code']), \n",
    "                        make_num_categorical(df4['ISO3_code']), make_num_categorical(df4['LBsurvivingAge1'])])"
   ]
  },
  {
   "cell_type": "code",
   "execution_count": null,
   "id": "95bf078c-947c-4e51-8ea8-8f7694f1f075",
   "metadata": {},
   "outputs": [],
   "source": [
    "corr_df = pd.DataFrame(\n",
    "    {'Births':make_num_categorical(df4['Births']), 'ISO2_code':make_num_categorical(df4['ISO2_code']), \n",
    "      'ISO3_code':make_num_categorical(df4['ISO3_code']), 'LBsurvivingAge1': make_num_categorical(df4['LBsurvivingAge1'])})\n",
    "corr_df.corr()"
   ]
  },
  {
   "cell_type": "code",
   "execution_count": null,
   "id": "68f33176-c3d1-4776-95eb-f2344001044a",
   "metadata": {},
   "outputs": [],
   "source": [
    "corr_df = pd.DataFrame(\n",
    "    {'Births':summary_stats.make_num_categorical(df4['Births']), 'ISO2_code': summary_stats.make_num_categorical(df4['ISO2_code']), \n",
    "      'ISO3_code':summary_stats.make_num_categorical(df4['ISO3_code']), 'LBsurvivingAge1': summary_stats.make_num_categorical(df4['LBsurvivingAge1'])})\n",
    "corr_df.corr()"
   ]
  },
  {
   "cell_type": "code",
   "execution_count": null,
   "id": "2b5db670-005c-402e-b62c-bc572d580638",
   "metadata": {},
   "outputs": [],
   "source": [
    "corr_df"
   ]
  },
  {
   "cell_type": "code",
   "execution_count": null,
   "id": "141d8c1c-4d99-484c-8687-7c75b1484008",
   "metadata": {},
   "outputs": [],
   "source": [
    "enable()"
   ]
  },
  {
   "cell_type": "code",
   "execution_count": null,
   "id": "e43462c1-33b1-4743-9592-65960f00c553",
   "metadata": {},
   "outputs": [],
   "source": [
    "pd.DataFrame({'raw':df4['ISO3_code'], 'old_cat': summary_stats.make_num_categorical(df4['ISO3_code']), \n",
    "              #'cat':df4['ISO3_code'].astype('category').cat, \n",
    "              'num': df4['ISO3_code'].astype('category').cat.codes}).dropna().drop_duplicates()"
   ]
  },
  {
   "cell_type": "code",
   "execution_count": null,
   "id": "6757f663-7ef1-4ee0-a75b-2c10295a63da",
   "metadata": {},
   "outputs": [],
   "source": [
    "def make_num_categorical(ser):\n",
    "    return ser.dropna().astype('category').cat.codes\n",
    "\n",
    "def get_cor_pair_dict(df, sdf):\n",
    "    #we need to remove columns with only nans or a single value, they mess up corr()\n",
    "\n",
    "    #this needs to be vectorized\n",
    "    corrable_cols = sdf.columns[\n",
    "        (sdf.loc['distinct_count'] > 1) &\n",
    "        ((sdf.loc['distinct_per'] < .3) |\n",
    "         (sdf.loc['distinct_count'] < 50))]\n",
    "    #corrable_cols = sdf.columns[sdf.loc['distinct_count'] > 1]\n",
    "    num_df =  pd.DataFrame({col:make_num_categorical(df[col]) for col in corrable_cols})\n",
    "\n",
    "    corr_df = num_df.corr()\n",
    "    high_corr_df = corr_df[corr_df > 0.6]\n",
    "    \n",
    "    print(high_corr_df)\n",
    "\n",
    "    cor_dict = {}\n",
    "    for col in high_corr_df.columns:\n",
    "        #columns with high correlation that aren't the column itself\n",
    "        other_cor_cols = high_corr_df[col].dropna().drop(col)\n",
    "        cor_cols = other_cor_cols.index.values\n",
    "        if len(cor_cols) > 0:\n",
    "            cor_dict[col] = cor_cols.tolist()\n",
    "    return cor_dict\n",
    "\n",
    "%prun -s cumtime print(get_cor_pair_dict(df4, summary_stats.summarize_df(df4)))"
   ]
  },
  {
   "cell_type": "code",
   "execution_count": null,
   "id": "d641364f-2a31-4d4b-9852-d7e23a5e3428",
   "metadata": {},
   "outputs": [],
   "source": []
  },
  {
   "cell_type": "code",
   "execution_count": null,
   "id": "402a63ff-9c67-4580-b072-d0835202f5e4",
   "metadata": {},
   "outputs": [],
   "source": [
    "%prun -s cumtime get_cor_pair_dict(df4, summary_stats.summarize_df(df4))"
   ]
  },
  {
   "cell_type": "code",
   "execution_count": null,
   "id": "425b05cd-965b-4125-a3a4-f42948a41f73",
   "metadata": {},
   "outputs": [],
   "source": [
    "%prun -s cumtime summary_stats.DfStats(df4)"
   ]
  },
  {
   "cell_type": "code",
   "execution_count": null,
   "id": "47846ec9-4076-4897-afe6-c4d0f03d7985",
   "metadata": {},
   "outputs": [],
   "source": [
    "bw = BuckarooWidget(df4[:5000])\n",
    "bw"
   ]
  },
  {
   "cell_type": "code",
   "execution_count": null,
   "id": "2eb22294-2395-431e-bd08-5a9770a9fa2d",
   "metadata": {},
   "outputs": [],
   "source": [
    "from buckaroo.summary_stats import order_groupings, find_groupings\n",
    "def order_columns(sdf, corr_pair_dict):\n",
    "    grouping_col_scores = sdf.loc[['grouping_score_integer', 'grouping_score_numeric']].sum()\n",
    "    duplicate_col_rankings = grouping_col_scores.sort_values().index[::-1].values\n",
    "\n",
    "    groupings = find_groupings(corr_pair_dict)\n",
    "    #print(\"groupings\", groupings)\n",
    "    first_cols, duplicate_cols = order_groupings(groupings, duplicate_col_rankings)\n",
    "    \n",
    "    #print(\"duplicate_cols\", duplicate_cols)\n",
    "    print(\"first_cols\", first_cols)\n",
    "    sdf.loc['first_col':, list(set(first_cols))] = 5\n",
    "    print(type(sdf['ISO3_code']))\n",
    "\n",
    "    sdf.loc['is_duplicate':, duplicate_cols] = -5\n",
    "    print(sdf.index)\n",
    "    col_scores = sdf.loc[['one_distinct', 'first_col', 'datetime_score', 'is_duplicate']].sum()\n",
    "    return col_scores.sort_values().index.values[::-1]\n",
    "stats = summary_stats.DfStats(df4[:5000], order_col_func=order_columns)\n",
    "type(stats.sdf['ISO3_code'])"
   ]
  },
  {
   "cell_type": "code",
   "execution_count": null,
   "id": "c5faf8a7-3b6f-4831-8ab9-26aa79e2677a",
   "metadata": {},
   "outputs": [],
   "source": [
    "from buckaroo.summary_stats import set_when\n",
    "def add_col_rankings(df, sdf):\n",
    "    sdf.loc['one_distinct'] = 0\n",
    "\n",
    "    only_ones = (sdf.loc['distinct_count'] <= 1)\n",
    "    sdf.loc['one_distinct', only_ones[only_ones==True].index.values] = -20\n",
    "    \n",
    "    sdf.loc['first_col'] = 0\n",
    "    sdf.loc['is_duplicate'] = 0\n",
    "    set_when(sdf, 'is_datetime', 'datetime_score', 11, 0)\n",
    "    \n",
    "    set_when(sdf, 'is_integer', 'grouping_score_integer', -3, 0)\n",
    "    set_when(sdf, 'is_numeric', 'grouping_score_numeric', -3, 5)\n",
    "stats = summary_stats.DfStats(df4[:5000], [add_col_rankings])\n",
    "type(stats.sdf['ISO3_code'])"
   ]
  },
  {
   "cell_type": "code",
   "execution_count": null,
   "id": "c62ca956-ad69-42ef-890d-d4e344140eba",
   "metadata": {},
   "outputs": [],
   "source": []
  },
  {
   "cell_type": "code",
   "execution_count": null,
   "id": "01c9c085-01e1-4582-90e3-bdd7c0dd139d",
   "metadata": {},
   "outputs": [],
   "source": [
    "BuckarooWidget.summary_df_cols"
   ]
  },
  {
   "cell_type": "code",
   "execution_count": null,
   "id": "5037d2cb-ea5d-4408-8df4-3f48ac97c35e",
   "metadata": {},
   "outputs": [],
   "source": [
    "ab = summary_stats.summarize_df(df4)"
   ]
  },
  {
   "cell_type": "code",
   "execution_count": null,
   "id": "3e2b1133-0985-41d2-82eb-d4d497bd3cd1",
   "metadata": {},
   "outputs": [],
   "source": [
    "ab['ISO3_code']"
   ]
  },
  {
   "cell_type": "code",
   "execution_count": null,
   "id": "dbe841e5-a0cb-47c3-b3d4-3591c48fa87d",
   "metadata": {},
   "outputs": [],
   "source": [
    "df4['ISO3_code']"
   ]
  },
  {
   "cell_type": "code",
   "execution_count": null,
   "id": "0ba086b9-37e5-4fc2-9860-f93d65fed277",
   "metadata": {},
   "outputs": [],
   "source": [
    "stats.sdf.loc[BuckarooWidget.summary_df_cols]['ISO3_code'].dtype"
   ]
  },
  {
   "cell_type": "code",
   "execution_count": null,
   "id": "b4c17735-4e6d-41b0-be75-1663efda11e0",
   "metadata": {},
   "outputs": [],
   "source": [
    "disable()"
   ]
  },
  {
   "cell_type": "code",
   "execution_count": null,
   "id": "6ee8e715-f173-4bf2-bc37-aa628ef29e27",
   "metadata": {},
   "outputs": [],
   "source": [
    "ssdf['ISO3_code']"
   ]
  },
  {
   "cell_type": "code",
   "execution_count": null,
   "id": "6841fd74-1d9e-45b8-afdc-3a5fa78e0748",
   "metadata": {},
   "outputs": [],
   "source": [
    "stats.sdf['ISO3_code']"
   ]
  },
  {
   "cell_type": "code",
   "execution_count": null,
   "id": "94b24788-8632-421d-979c-bcf0655e5610",
   "metadata": {},
   "outputs": [],
   "source": [
    "for col in ssdf.columns:\n",
    "    print(col)\n",
    "    summary_stats.table_sumarize_ser(ssdf[col])\n",
    "#summary_stats.table_sumarize(ssdf)"
   ]
  },
  {
   "cell_type": "code",
   "execution_count": null,
   "id": "3bca7a37-e3ec-4104-a3ba-d3e5f1a3ee35",
   "metadata": {},
   "outputs": [],
   "source": [
    "#summary_stats.table_sumarize(df4)"
   ]
  },
  {
   "cell_type": "code",
   "execution_count": null,
   "id": "b7c4c3f0-e3d1-4b9a-8156-7d21132cd302",
   "metadata": {},
   "outputs": [],
   "source": [
    "stats = summary_stats.DfStats(ssdf)"
   ]
  },
  {
   "cell_type": "code",
   "execution_count": null,
   "id": "1351d679-7ee0-444e-8d8e-d78e3f12f2de",
   "metadata": {},
   "outputs": [],
   "source": [
    "disable()\n",
    "stats.sdf"
   ]
  },
  {
   "cell_type": "code",
   "execution_count": null,
   "id": "32f915e1-03b4-4816-b481-10c885995fa8",
   "metadata": {},
   "outputs": [],
   "source": [
    "BuckarooWidget.summary_df_cols"
   ]
  },
  {
   "cell_type": "code",
   "execution_count": null,
   "id": "8d2cfa76-1cfa-4b10-a83b-db06931fa3a8",
   "metadata": {},
   "outputs": [],
   "source": [
    "ssdf = stats.sdf.loc[BuckarooWidget.summary_df_cols]\n"
   ]
  },
  {
   "cell_type": "code",
   "execution_count": null,
   "id": "62e6fcb5-ee2b-4b2d-9720-fb42a6f5d242",
   "metadata": {},
   "outputs": [],
   "source": [
    "ssdf.dtypes.tail(50)"
   ]
  },
  {
   "cell_type": "code",
   "execution_count": null,
   "id": "7e0c02de-f92e-48b7-a7f3-5d8f6808582c",
   "metadata": {},
   "outputs": [],
   "source": [
    "#df9 = pd.read_csv('scorecard.csv')\n",
    "bw = BuckarooWidget(df4[:5000])\n",
    "bw"
   ]
  },
  {
   "cell_type": "code",
   "execution_count": null,
   "id": "63c057ac-1585-4fbb-8fb9-dee6eb321d5c",
   "metadata": {},
   "outputs": [],
   "source": [
    "bw"
   ]
  },
  {
   "cell_type": "code",
   "execution_count": null,
   "id": "edcf95a7-e2e7-4cbb-ae94-d2d6bbaaf5eb",
   "metadata": {},
   "outputs": [],
   "source": [
    "BuckarooWidget.summary_df_cols"
   ]
  },
  {
   "cell_type": "code",
   "execution_count": null,
   "id": "1baf27ca-f32d-4a72-b0c1-11dc033ad956",
   "metadata": {},
   "outputs": [],
   "source": [
    "summary_stats.DfStats(df4)"
   ]
  },
  {
   "cell_type": "code",
   "execution_count": null,
   "id": "714dedf2-09bb-49c3-8679-8609d9d8533e",
   "metadata": {},
   "outputs": [],
   "source": [
    "\n",
    "class DfStats(object):\n",
    "    def __init__(self,\n",
    "            df,\n",
    "            annotate_funcs=[],\n",
    "            summary_func=summary_stats.summarize_df,\n",
    "            order_col_func=summary_stats.order_columns):\n",
    "            #summary_func=summarize_df,\n",
    "            #order_col_func=order_columns):\n",
    "\n",
    "        self.df = df\n",
    "        self.sdf = summary_func(df)\n",
    "        for func in annotate_funcs:\n",
    "            func(df, self.sdf)\n",
    "        self.cpd = summary_stats.get_cor_pair_dict(self.df, self.sdf)\n",
    "        self.col_order = order_col_func(self.sdf, self.cpd)"
   ]
  },
  {
   "cell_type": "code",
   "execution_count": null,
   "id": "60c7a030-d26c-4feb-843a-501d4edd1f7d",
   "metadata": {},
   "outputs": [],
   "source": [
    "def add_col_rankings(df, sdf):\n",
    "    sdf.loc['one_distinct'] = 0\n",
    "\n",
    "    only_ones = (sdf.loc['distinct_count'] <= 1)\n",
    "    sdf.loc['one_distinct', only_ones[only_ones==True].index.values] = -20\n",
    "    \n",
    "    sdf.loc['first_col'] = 0\n",
    "    sdf.loc['is_duplicate'] = 0\n",
    "    set_when(sdf, 'is_datetime', 'datetime_score', 11, 0)\n",
    "    \n",
    "    set_when(sdf, 'is_integer', 'grouping_score_integer', -3, 0)\n",
    "    set_when(sdf, 'is_numeric', 'grouping_score_numeric', -3, 5)\n"
   ]
  },
  {
   "cell_type": "code",
   "execution_count": null,
   "id": "30d5ac1a-ed2c-49b6-b10d-bd7905cbdef2",
   "metadata": {},
   "outputs": [],
   "source": [
    "from buckaroo.summary_stats import set_when, find_groupings, order_groupings\n",
    "\n",
    "def find_groupings(corr_pairs):\n",
    "    all_groupings = []\n",
    "    for key, other_key_list in corr_pairs.items():\n",
    "        ab = other_key_list.copy()\n",
    "        ab.append(key)\n",
    "        all_groupings.append(set(ab))\n",
    "    return np.unique(all_groupings)\n",
    "\n",
    "def order_groupings(grps, ranked_cols):\n",
    "    first_cols, rest_cols = [], []\n",
    "    for col in ranked_cols:\n",
    "        for grp in grps:\n",
    "            if col in grp:\n",
    "                first_cols.append(col)\n",
    "                rest_cols.extend(list(summary_stats.without(grp, [col])))\n",
    "                grps = summary_stats.without(grps, [grp])\n",
    "    return first_cols, list(set(rest_cols))\n",
    "\n",
    "def order_columns(sdf, corr_pair_dict):\n",
    "    grouping_col_scores = sdf.loc[['grouping_score_integer', 'grouping_score_numeric']].sum()\n",
    "    duplicate_col_rankings = grouping_col_scores.sort_values().index[::-1].values\n",
    "\n",
    "    groupings = find_groupings(corr_pair_dict)\n",
    "    print(\"groupings\", groupings)\n",
    "    first_cols, duplicate_cols = order_groupings(groupings, duplicate_col_rankings)\n",
    "    \n",
    "    print(\"duplicate_cols\", duplicate_cols)\n",
    "    sdf.loc['first_col':, first_cols] = 5\n",
    "    sdf.loc['is_duplicate':, duplicate_cols] = -5\n",
    "    print(sdf.index)\n",
    "    col_scores = sdf.loc[['one_distinct', 'first_col', 'datetime_score', 'is_duplicate']].sum()\n",
    "    return col_scores.sort_values().index.values[::-1]"
   ]
  },
  {
   "cell_type": "code",
   "execution_count": null,
   "id": "2e9bbd05-9c61-40b0-8ac5-11879c46844d",
   "metadata": {},
   "outputs": [],
   "source": [
    "df4.columns[:25]"
   ]
  },
  {
   "cell_type": "code",
   "execution_count": null,
   "id": "c8af6d9d-d1af-4aca-9adf-fc8f85db6613",
   "metadata": {},
   "outputs": [],
   "source": [
    "df_prob = df4[['SortOrder',\n",
    "               'LocID', 'Notes', 'ISO3_code', 'ISO2_code', 'SDMX_code',\n",
    "       'LocTypeID', 'LocTypeName', 'ParentID', \n",
    "               'Location', 'VarID', 'Variant',\n",
    "       'Time', 'TPopulation1Jan',\n",
    "               'TPopulation1July', 'TPopulationMale1July',\n",
    "       'TPopulationFemale1July', \n",
    "               'PopDensity', 'PopSexRatio', \n",
    "               'MedianAgePop',\n",
    "       'NatChange', 'NatChangeRT', 'PopChange',# 'PopGrowthRate',\n",
    "       #'DoublingTime'\n",
    "              ]][:300]\n",
    "DfStats(df_prob, [add_col_rankings], order_col_func=order_columns)"
   ]
  },
  {
   "cell_type": "code",
   "execution_count": null,
   "id": "c1368b98-788c-4ca3-9971-42eab22aa2de",
   "metadata": {},
   "outputs": [],
   "source": [
    "DfStats(df4[df4.columns[:]][:300], [add_col_rankings], order_col_func=order_columns)"
   ]
  },
  {
   "cell_type": "code",
   "execution_count": null,
   "id": "a5cc5d5d-da4d-4942-8c98-b3858c82eac5",
   "metadata": {},
   "outputs": [],
   "source": [
    "#bw = BuckarooWidget(df9, sampled=False)\n",
    "#bw"
   ]
  },
  {
   "cell_type": "code",
   "execution_count": null,
   "id": "77f02723-a541-4ac4-bba9-4e2632b05848",
   "metadata": {},
   "outputs": [],
   "source": [
    "disable()"
   ]
  },
  {
   "cell_type": "code",
   "execution_count": null,
   "id": "c9915782-c16d-406e-83bd-5d041a6c0c64",
   "metadata": {},
   "outputs": [],
   "source": [
    "df_to_obj(bw.df)['schema']"
   ]
  },
  {
   "cell_type": "code",
   "execution_count": null,
   "id": "fbe2d780-593a-4886-afdb-43b057827cb6",
   "metadata": {},
   "outputs": [],
   "source": [
    "df_to_obj(bw.df, bw.stats.col_order)['schema']"
   ]
  },
  {
   "cell_type": "code",
   "execution_count": null,
   "id": "9c851ac2-bdcc-41f2-9563-d88caa83e39a",
   "metadata": {},
   "outputs": [],
   "source": [
    "bw.df"
   ]
  },
  {
   "cell_type": "code",
   "execution_count": null,
   "id": "0f396112-8a96-4bb9-af98-f20ffd421517",
   "metadata": {},
   "outputs": [],
   "source": [
    "bw.stats.col_order"
   ]
  },
  {
   "cell_type": "code",
   "execution_count": null,
   "id": "d6bbfdd3-6a32-4d1e-b4b9-487fe237a85b",
   "metadata": {},
   "outputs": [],
   "source": []
  },
  {
   "cell_type": "code",
   "execution_count": null,
   "id": "cff6e9cd-dda5-4223-ad09-207ffbbc8d12",
   "metadata": {},
   "outputs": [],
   "source": [
    "from pandas.io.json import dumps as pdumps\n",
    "from buckaroo.summary_stats import table_sumarize\n",
    "def df_to_obj(df, order = None):\n",
    "    if order is None:\n",
    "        order = df.columns\n",
    "    obj = json.loads(df.to_json(orient='table', indent=2, default_handler=str))\n",
    "    obj['table_hints'] = json.loads(pdumps(table_sumarize(df)))\n",
    "    obj['schema'] = dict(\n",
    "            fields=[{'name':c} for c in order])\n",
    "    return obj\n",
    "df_to_obj(df9[:3], ['year', 'inst_name'])"
   ]
  },
  {
   "cell_type": "code",
   "execution_count": null,
   "id": "a0c28d15-dc3c-4dff-80a0-67737ba24a9d",
   "metadata": {},
   "outputs": [],
   "source": [
    "class DfStats(object):\n",
    "    def __init__(self,\n",
    "            df,\n",
    "            summary_func=summary_stats.summarize_df,\n",
    "            order_col_func=summary_stats.order_columns):\n",
    "        self.df = df\n",
    "        self.sdf = summary_func(df)\n",
    "        self.cpd = summary_stats.get_cor_pair_dict(self.df, self.sdf)\n",
    "        self.col_order = order_col_func(self.sdf, self.cpd)"
   ]
  },
  {
   "cell_type": "code",
   "execution_count": null,
   "id": "4c72af0c-898f-4f43-9a16-83d2dc51b3ad",
   "metadata": {},
   "outputs": [],
   "source": [
    "ab = df9['count_not_working']\n",
    "ab.nlargest(5).index"
   ]
  },
  {
   "cell_type": "code",
   "execution_count": null,
   "id": "876a0e2f-4f53-43a9-ba03-419f51f3bb40",
   "metadata": {},
   "outputs": [],
   "source": [
    "df9['count_not_working']"
   ]
  },
  {
   "cell_type": "code",
   "execution_count": null,
   "id": "1fcb3774-6a4e-4e74-b077-baca142c0d3d",
   "metadata": {},
   "outputs": [],
   "source": [
    "from buckaroo.summary_stats import set_when, find_groupings, order_groupings\n",
    "def order_columns(summary_stats_df, corr_pair_dict):\n",
    "    sdf = summary_stats_df.copy()\n",
    "    sdf.loc['one_distinct'] = 0\n",
    "\n",
    "    only_ones = (sdf.loc['distinct_count'] <= 1)\n",
    "    sdf.loc['one_distinct', only_ones[only_ones==True].index.values] = -20\n",
    "    \n",
    "    sdf.loc['first_col'] = 0\n",
    "    sdf.loc['is_duplicate'] = 0\n",
    "    set_when(sdf, 'is_datetime', 'datetime_score', 11, 0)\n",
    "    \n",
    "    set_when(sdf, 'is_integer', 'grouping_score_integer', -3, 0)\n",
    "    set_when(sdf, 'is_numeric', 'grouping_score_numeric', -3, 5)\n",
    "    grouping_col_scores = sdf.loc[['grouping_score_integer', 'grouping_score_numeric']].sum()\n",
    "    duplicate_col_rankings = grouping_col_scores.sort_values().index[::-1].values\n",
    "\n",
    "    groupings = find_groupings(corr_pair_dict)\n",
    "    first_cols, duplicate_cols = order_groupings(groupings, duplicate_col_rankings)\n",
    "    \n",
    "    sdf.loc['first_col':, first_cols] = 5\n",
    "    sdf.loc['is_duplicate':, duplicate_cols] = -5\n",
    "    print(sdf.index)\n",
    "    col_scores = sdf.loc[['one_distinct', 'first_col', 'datetime_score', 'is_duplicate']].sum()\n",
    "    return col_scores.sort_values().index.values[::-1]\n"
   ]
  },
  {
   "cell_type": "code",
   "execution_count": null,
   "id": "0f82a8b8-f7cb-408e-aa33-5e5b0112cfc1",
   "metadata": {},
   "outputs": [],
   "source": [
    "\n",
    "def reorder_columns(df):\n",
    "    tdf_stats = summary_stats.summarize_df(df)\n",
    "    cpd = summary_stats.get_cor_pair_dict(df, tdf_stats)\n",
    "    col_order = order_columns(tdf_stats, cpd)\n",
    "    #return 5\n",
    "    return df[col_order]\n",
    "    #except Exception as e:\n",
    "    #    print(\"error reordering columns\", e)\n",
    "    #    return df\n",
    "bc = reorder_columns(df9)"
   ]
  },
  {
   "cell_type": "code",
   "execution_count": null,
   "id": "c6232328-ef12-4519-8a7d-36c9dd220bda",
   "metadata": {},
   "outputs": [],
   "source": []
  },
  {
   "cell_type": "code",
   "execution_count": null,
   "id": "9dee401f-ea09-43b7-9137-8b1a3a7e89b4",
   "metadata": {},
   "outputs": [],
   "source": [
    "dfs = DfStats(df9, order_col_func=order_columns)\n",
    "dfs.col_order"
   ]
  },
  {
   "cell_type": "code",
   "execution_count": null,
   "id": "e490388b-a3b4-4fdd-a031-c3eb16c7df9f",
   "metadata": {},
   "outputs": [],
   "source": [
    "len(np.unique(dfs.col_order)), len(dfs.col_order)"
   ]
  },
  {
   "cell_type": "code",
   "execution_count": null,
   "id": "10b6a4e3-d265-4b98-9e9f-94ca7243b1c6",
   "metadata": {},
   "outputs": [],
   "source": [
    "df9[dfs.col_order]"
   ]
  },
  {
   "cell_type": "code",
   "execution_count": null,
   "id": "d0f6301b-bf92-4ac5-8296-a7822f892e97",
   "metadata": {},
   "outputs": [],
   "source": [
    "ab = BuckarooWidget(df9)\n",
    "ab.dfConfig"
   ]
  },
  {
   "cell_type": "code",
   "execution_count": null,
   "id": "be81c491-aaab-42cf-af71-6f3ee6d5fcb9",
   "metadata": {},
   "outputs": [],
   "source": [
    "ab.summary_df"
   ]
  },
  {
   "cell_type": "code",
   "execution_count": null,
   "id": "1dd18ade-6a70-4b1e-80ac-6a72cdac43bc",
   "metadata": {},
   "outputs": [],
   "source": [
    "from buckaroo.summary_stats import summarize_column"
   ]
  },
  {
   "cell_type": "code",
   "execution_count": null,
   "id": "4cedb0ed-a664-4dab-a4f5-2bc2351784b0",
   "metadata": {},
   "outputs": [],
   "source": [
    "df6.columns"
   ]
  },
  {
   "cell_type": "code",
   "execution_count": null,
   "id": "21ac9bb7-42aa-4a2f-b413-8b21e7410faa",
   "metadata": {},
   "outputs": [],
   "source": [
    "from buckaroo import summary_stats\n",
    "def summarize_numeric2(ser):\n",
    "\n",
    "    num_stats = dict(\n",
    "        min=ser.min(),\n",
    "        max=ser.max(),\n",
    "        mean=ser.mean())\n",
    "    #num_stats.update(summary_stats.summarize_string(ser))\n",
    "    return num_stats\n"
   ]
  },
  {
   "cell_type": "code",
   "execution_count": null,
   "id": "b6f2b2b3-f307-48c8-b1ce-96e516f52a77",
   "metadata": {},
   "outputs": [],
   "source": [
    "ab = df6['DepTime']\n",
    "%timeit ab.describe()"
   ]
  },
  {
   "cell_type": "code",
   "execution_count": null,
   "id": "7934de08-69c9-4c41-bfbb-2bc48b45400c",
   "metadata": {},
   "outputs": [],
   "source": [
    "%timeit summarize_numeric2(df6['DepTime'])"
   ]
  },
  {
   "cell_type": "code",
   "execution_count": null,
   "id": "5619b16e-5267-43fd-b954-9c381620d78d",
   "metadata": {},
   "outputs": [],
   "source": [
    "%timeit summarize_column(df6['DepTime'])"
   ]
  },
  {
   "cell_type": "code",
   "execution_count": null,
   "id": "6d12b752-53cc-452c-b193-90ebad9b1f77",
   "metadata": {},
   "outputs": [],
   "source": [
    "ab.nsmallest(5)"
   ]
  },
  {
   "cell_type": "code",
   "execution_count": null,
   "id": "c965cdbc-2947-4dd5-9fd8-af0966d8c1ed",
   "metadata": {},
   "outputs": [],
   "source": [
    "def get_outlier_idxs(ser):\n",
    "    outlier_idxs = []\n",
    "    try:\n",
    "        highest = ser.nlargest(5)\n",
    "        smallest = ser.nlargest(5)\n",
    "    except Exception as e:\n",
    "        return []\n",
    "        #print(e)\n",
    "        #idxs = ser.index\n",
    "    outlier_idxs.extend(smallest.index)\n",
    "    outlier_idxs.extend(highest.index)\n",
    "    return outlier_idxs\n",
    "\n",
    "def sample2(df, sample_size=500, include_outliers=True):\n",
    "    if len(df) <= sample_size:\n",
    "        return df\n",
    "    sdf = df.sample(np.min([sample_size, len(df)]))\n",
    "    if include_outliers:\n",
    "        outlier_idxs = []\n",
    "        for col in df.columns:\n",
    "            outlier_idxs.extend(get_outlier_idxs(df[col]) )\n",
    "        outlier_idxs.extend(sdf.index)\n",
    "        uniq_idx = np.unique(outlier_idxs)\n",
    "        return df.iloc[uniq_idx]\n",
    "    return sdf\n"
   ]
  },
  {
   "cell_type": "code",
   "execution_count": null,
   "id": "e65bcd94-c329-4bb0-bcce-0bc3f07e5aee",
   "metadata": {},
   "outputs": [],
   "source": [
    "%timeit sample2(df6[['DepTime']])"
   ]
  },
  {
   "cell_type": "code",
   "execution_count": null,
   "id": "a9e545d6-331c-4819-b4f4-ecdf7a6f7dcc",
   "metadata": {},
   "outputs": [],
   "source": [
    "%timeit buckaroo_widget.sample(df6[['DepTime']])"
   ]
  },
  {
   "cell_type": "code",
   "execution_count": null,
   "id": "6cf6c31a-c4c7-4cb8-98b6-542d793bcb04",
   "metadata": {},
   "outputs": [],
   "source": [
    "from buckaroo import buckaroo_widget"
   ]
  },
  {
   "cell_type": "code",
   "execution_count": null,
   "id": "ba052339-26d3-4eb6-96ef-3b58352619cf",
   "metadata": {},
   "outputs": [],
   "source": []
  },
  {
   "cell_type": "code",
   "execution_count": null,
   "id": "3e58f710-b470-4d21-8164-a6de737fb756",
   "metadata": {},
   "outputs": [],
   "source": [
    "df6 =  pd.read_parquet('1993-flights.gzip.parquet')\n",
    "df6"
   ]
  },
  {
   "cell_type": "code",
   "execution_count": null,
   "id": "1d14c093-936b-4e8e-a248-73d67473bafd",
   "metadata": {},
   "outputs": [],
   "source": []
  }
 ],
 "metadata": {
  "kernelspec": {
   "display_name": "Python 3 (ipykernel)",
   "language": "python",
   "name": "python3"
  },
  "language_info": {
   "codemirror_mode": {
    "name": "ipython",
    "version": 3
   },
   "file_extension": ".py",
   "mimetype": "text/x-python",
   "name": "python",
   "nbconvert_exporter": "python",
   "pygments_lexer": "ipython3",
   "version": "3.11.3"
  }
 },
 "nbformat": 4,
 "nbformat_minor": 5
}
