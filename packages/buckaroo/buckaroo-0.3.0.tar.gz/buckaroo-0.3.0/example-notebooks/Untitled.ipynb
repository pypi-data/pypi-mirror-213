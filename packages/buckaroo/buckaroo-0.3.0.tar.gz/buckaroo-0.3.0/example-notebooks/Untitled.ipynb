{
 "cells": [
  {
   "cell_type": "code",
   "execution_count": null,
   "id": "51091834-6d31-4e0e-b13c-a7be0a02ddb4",
   "metadata": {},
   "outputs": [
    {
     "name": "stdout",
     "output_type": "stream",
     "text": [
      "Intel MKL WARNING: Support of Intel(R) Streaming SIMD Extensions 4.2 (Intel(R) SSE4.2) enabled only processors has been deprecated. Intel oneAPI Math Kernel Library 2025.0 will require Intel(R) Advanced Vector Extensions (Intel(R) AVX) instructions.\n",
      "Intel MKL WARNING: Support of Intel(R) Streaming SIMD Extensions 4.2 (Intel(R) SSE4.2) enabled only processors has been deprecated. Intel oneAPI Math Kernel Library 2025.0 will require Intel(R) Advanced Vector Extensions (Intel(R) AVX) instructions.\n"
     ]
    }
   ],
   "source": [
    "import pandas as pd\n",
    "import numpy as np\n",
    "import json\n",
    "from buckaroo.buckaroo_widget import BuckarooWidget, disable, enable\n",
    "import matplotlib"
   ]
  },
  {
   "cell_type": "code",
   "execution_count": null,
   "id": "49db4869-dc04-4a68-9cf1-34e08aebb419",
   "metadata": {},
   "outputs": [],
   "source": [
    "df = pd.read_csv('/Users/paddy/Downloads/banklist.csv', encoding_errors='replace')\n",
    "bw = BuckarooWidget(df)"
   ]
  },
  {
   "cell_type": "code",
   "execution_count": null,
   "id": "dd8b3a75-a615-402d-9c6c-fc57c2759fe4",
   "metadata": {},
   "outputs": [],
   "source": [
    "df2 = pd.read_csv('death-by-suicide-hispanic.csv')\n",
    "bw = BuckarooWidget(df2)"
   ]
  },
  {
   "cell_type": "code",
   "execution_count": null,
   "id": "c223dcb4-a354-4f3a-b492-e6ae33c99188",
   "metadata": {},
   "outputs": [],
   "source": [
    "df = pd.read_csv('Covid Data.csv')\n",
    "bw = BuckarooWidget(df)"
   ]
  },
  {
   "cell_type": "code",
   "execution_count": null,
   "id": "342db029-2766-46c8-a43f-94e894ca99dd",
   "metadata": {},
   "outputs": [],
   "source": [
    "df =  pd.read_csv('1993.csv')\n",
    "bw = BuckarooWidget(df)"
   ]
  }
 ],
 "metadata": {
  "kernelspec": {
   "display_name": "Python 3 (ipykernel)",
   "language": "python",
   "name": "python3"
  },
  "language_info": {
   "codemirror_mode": {
    "name": "ipython",
    "version": 3
   },
   "file_extension": ".py",
   "mimetype": "text/x-python",
   "name": "python",
   "nbconvert_exporter": "python",
   "pygments_lexer": "ipython3",
   "version": "3.11.3"
  }
 },
 "nbformat": 4,
 "nbformat_minor": 5
}
