{
 "cells": [
  {
   "cell_type": "code",
   "execution_count": null,
   "id": "51091834-6d31-4e0e-b13c-a7be0a02ddb4",
   "metadata": {},
   "outputs": [
    {
     "name": "stdout",
     "output_type": "stream",
     "text": [
      "Intel MKL WARNING: Support of Intel(R) Streaming SIMD Extensions 4.2 (Intel(R) SSE4.2) enabled only processors has been deprecated. Intel oneAPI Math Kernel Library 2025.0 will require Intel(R) Advanced Vector Extensions (Intel(R) AVX) instructions.\n",
      "Intel MKL WARNING: Support of Intel(R) Streaming SIMD Extensions 4.2 (Intel(R) SSE4.2) enabled only processors has been deprecated. Intel oneAPI Math Kernel Library 2025.0 will require Intel(R) Advanced Vector Extensions (Intel(R) AVX) instructions.\n"
     ]
    }
   ],
   "source": [
    "import pandas as pd\n",
    "import numpy as np\n",
    "import json\n",
    "from buckaroo.buckaroo_widget import BuckarooWidget, disable, enable\n",
    "import matplotlib"
   ]
  },
  {
   "cell_type": "code",
   "execution_count": 6,
   "id": "49db4869-dc04-4a68-9cf1-34e08aebb419",
   "metadata": {},
   "outputs": [],
   "source": [
    "df = pd.read_csv('/Users/paddy/Downloads/banklist.csv', encoding_errors='replace')\n",
    "bw = BuckarooWidget(df)"
   ]
  },
  {
   "cell_type": "code",
   "execution_count": 7,
   "id": "dd8b3a75-a615-402d-9c6c-fc57c2759fe4",
   "metadata": {},
   "outputs": [],
   "source": [
    "df2 = pd.read_csv('death-by-suicide-hispanic.csv')\n",
    "bw = BuckarooWidget(df2)"
   ]
  },
  {
   "cell_type": "code",
   "execution_count": 8,
   "id": "c223dcb4-a354-4f3a-b492-e6ae33c99188",
   "metadata": {},
   "outputs": [],
   "source": [
    "df3 = pd.read_csv('Covid Data.csv')\n",
    "bw = BuckarooWidget(df3)"
   ]
  },
  {
   "cell_type": "code",
   "execution_count": 9,
   "id": "c1c73c91-0343-417a-a45f-ef5f8c39e884",
   "metadata": {},
   "outputs": [
    {
     "name": "stderr",
     "output_type": "stream",
     "text": [
      "/var/folders/th/jfr8ccjx09g2j_18ty_t3xnh0000gn/T/ipykernel_93151/1813779222.py:1: DtypeWarning: Columns (2) have mixed types. Specify dtype option on import or set low_memory=False.\n",
      "  df4 = pd.read_csv('WPP2022_Demographic_Indicators_Medium.csv')\n"
     ]
    },
    {
     "name": "stdout",
     "output_type": "stream",
     "text": [
      "'<' not supported between instances of 'float' and 'str'\n"
     ]
    }
   ],
   "source": [
    "df4 = pd.read_csv('WPP2022_Demographic_Indicators_Medium.csv')\n",
    "bw = BuckarooWidget(df4)"
   ]
  },
  {
   "cell_type": "code",
   "execution_count": 11,
   "id": "97851149-49b4-41e2-a14f-ee9fbfcf7848",
   "metadata": {},
   "outputs": [],
   "source": [
    "df5 = pd.read_csv('2014-01-citibike-trip-data.csv')\n",
    "bw = BuckarooWidget(df5)"
   ]
  },
  {
   "cell_type": "code",
   "execution_count": 12,
   "id": "415dc2c0-dd8f-457b-a4f2-e067003ccb4b",
   "metadata": {},
   "outputs": [],
   "source": [
    "df6 =  pd.read_csv('1993-short.csv')\n",
    "bw = BuckarooWidget(df6)"
   ]
  },
  {
   "cell_type": "code",
   "execution_count": 13,
   "id": "342db029-2766-46c8-a43f-94e894ca99dd",
   "metadata": {},
   "outputs": [],
   "source": [
    "df7 =  pd.read_csv('1993.csv')\n",
    "bw = BuckarooWidget(df7)"
   ]
  },
  {
   "cell_type": "code",
   "execution_count": null,
   "id": "e7be6f67-e90d-4bf4-9ad7-83c90407d03c",
   "metadata": {},
   "outputs": [],
   "source": []
  }
 ],
 "metadata": {
  "kernelspec": {
   "display_name": "Python 3 (ipykernel)",
   "language": "python",
   "name": "python3"
  },
  "language_info": {
   "codemirror_mode": {
    "name": "ipython",
    "version": 3
   },
   "file_extension": ".py",
   "mimetype": "text/x-python",
   "name": "python",
   "nbconvert_exporter": "python",
   "pygments_lexer": "ipython3",
   "version": "3.11.3"
  }
 },
 "nbformat": 4,
 "nbformat_minor": 5
}
