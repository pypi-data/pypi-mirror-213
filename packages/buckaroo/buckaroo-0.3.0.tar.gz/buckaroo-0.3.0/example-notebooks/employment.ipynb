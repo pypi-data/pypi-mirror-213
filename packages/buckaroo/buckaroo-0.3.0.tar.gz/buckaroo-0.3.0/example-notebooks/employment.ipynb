{
 "cells": [
  {
   "cell_type": "code",
   "execution_count": null,
   "id": "f90c1732-2e44-4961-b74d-c0165ac142ed",
   "metadata": {},
   "outputs": [],
   "source": [
    "#playing with https://www.bambooweekly.com/p/bw-18-world-population"
   ]
  },
  {
   "cell_type": "code",
   "execution_count": 1,
   "id": "0ad1ad18-02b7-49aa-8a2f-7cb1cc0cf613",
   "metadata": {},
   "outputs": [
    {
     "name": "stdout",
     "output_type": "stream",
     "text": [
      "Intel MKL WARNING: Support of Intel(R) Streaming SIMD Extensions 4.2 (Intel(R) SSE4.2) enabled only processors has been deprecated. Intel oneAPI Math Kernel Library 2025.0 will require Intel(R) Advanced Vector Extensions (Intel(R) AVX) instructions.\n",
      "Intel MKL WARNING: Support of Intel(R) Streaming SIMD Extensions 4.2 (Intel(R) SSE4.2) enabled only processors has been deprecated. Intel oneAPI Math Kernel Library 2025.0 will require Intel(R) Advanced Vector Extensions (Intel(R) AVX) instructions.\n"
     ]
    }
   ],
   "source": [
    "import pandas as pd\n",
    "import numpy as np\n",
    "import json\n",
    "from buckaroo.buckaroo_widget import BuckarooWidget, disable, enable\n",
    "import matplotlib"
   ]
  },
  {
   "cell_type": "code",
   "execution_count": null,
   "id": "e2686520-dc21-47d4-b948-b08bd020eb22",
   "metadata": {},
   "outputs": [],
   "source": [
    "len(df)"
   ]
  },
  {
   "cell_type": "code",
   "execution_count": null,
   "id": "3f636b05-b817-41d0-b190-a851eb9590ba",
   "metadata": {},
   "outputs": [],
   "source": [
    "df.columns[:15]"
   ]
  },
  {
   "cell_type": "code",
   "execution_count": null,
   "id": "3ae051ad-bf6d-45bd-b5c9-b51ee3b1b6bb",
   "metadata": {},
   "outputs": [],
   "source": [
    "np.sign(-3), np.sign(-30), np.sign(3), np.sign(442)"
   ]
  },
  {
   "cell_type": "code",
   "execution_count": null,
   "id": "d64b6980-9ad3-4827-afe2-3e15555d580d",
   "metadata": {},
   "outputs": [],
   "source": [
    "np.log10(np.abs(df['ArrDelay'].dropna().min()))"
   ]
  },
  {
   "cell_type": "code",
   "execution_count": null,
   "id": "014e93ee-a07b-4b49-8a07-00b8a0b5fef9",
   "metadata": {},
   "outputs": [],
   "source": [
    "int_digits(df['ArrDelay'].dropna().min())"
   ]
  },
  {
   "cell_type": "code",
   "execution_count": null,
   "id": "4701f463-3d12-47ec-9ab7-c4e6691afcb4",
   "metadata": {},
   "outputs": [],
   "source": [
    "df[df.columns[:14]][:100_000]"
   ]
  },
  {
   "cell_type": "code",
   "execution_count": null,
   "id": "4f39629b-4280-41ad-a4d5-7e7e41a91754",
   "metadata": {},
   "outputs": [],
   "source": [
    "#df = pd.read_csv('scorecard.csv')\n",
    "#df"
   ]
  },
  {
   "cell_type": "code",
   "execution_count": null,
   "id": "34ba5147-777e-4d45-9fe6-89bfab4c3386",
   "metadata": {},
   "outputs": [],
   "source": [
    "from buckaroo.summary_stats import table_sumarize"
   ]
  },
  {
   "cell_type": "code",
   "execution_count": null,
   "id": "0cd50ade-d380-45f2-892a-187fc156c820",
   "metadata": {},
   "outputs": [],
   "source": [
    "ab = df['ArrDelay'].dropna().min()\n",
    "ab, np.abs(ab), np.log10(np.abs(ab))"
   ]
  },
  {
   "cell_type": "code",
   "execution_count": null,
   "id": "5ce3523d-f1eb-43a0-a581-d60247323811",
   "metadata": {},
   "outputs": [],
   "source": [
    "def int_digits(n):\n",
    "    if n == 0:\n",
    "        return 1\n",
    "    if np.sign(n) == -1:\n",
    "        return int(np.floor(np.log10(np.abs(n)))) + 2\n",
    "    return int(np.floor(np.log10(n)+1))\n",
    "\n",
    "#int_digits(df['ArrDelay'].dropna().min())"
   ]
  },
  {
   "cell_type": "code",
   "execution_count": null,
   "id": "c93e21e7-fe54-4c0a-95a7-ddd36e04202a",
   "metadata": {},
   "outputs": [],
   "source": [
    "\n",
    "\n",
    "def histogram(ser):\n",
    "    raw_counts, bins = np.histogram(ser, 10)\n",
    "    scaled_counts = np.round(raw_counts/raw_counts.sum(),2)\n",
    "    return [scaled_counts, bins]\n",
    "\n",
    "def table_sumarize_num_ser(ser):\n",
    "    if len(ser) == 0:\n",
    "        return dict(is_numeric=False)\n",
    "    return dict(\n",
    "        is_numeric=True,\n",
    "        is_integer=pd.api.types.is_integer_dtype(ser),\n",
    "        min_digits=int_digits(ser.min()),\n",
    "        max_digits=int_digits(ser.max()),\n",
    "        histogram=histogram(ser))\n",
    "\n",
    "def table_sumarize_obj_ser(ser):\n",
    "    return dict(\n",
    "        is_numeric=False)\n",
    "def table_sumarize_ser(ser):\n",
    "    if pd.api.types.is_numeric_dtype(ser.dtype):\n",
    "        return table_sumarize_num_ser(ser.dropna())\n",
    "    else:\n",
    "        return table_sumarize_obj_ser(ser)\n",
    "    \n",
    "def table_sumarize(df):\n",
    "    return {col:table_sumarize_ser(df[col]) for col in df}"
   ]
  },
  {
   "cell_type": "code",
   "execution_count": null,
   "id": "90ed8a86-e7a9-4bfa-8141-77a96d07be52",
   "metadata": {},
   "outputs": [],
   "source": [
    "table_sumarize(df)"
   ]
  },
  {
   "cell_type": "code",
   "execution_count": null,
   "id": "7c0d3355-7fc4-4714-919b-22d3d110a252",
   "metadata": {},
   "outputs": [],
   "source": [
    "len(df['TailNum'].dropna())"
   ]
  },
  {
   "cell_type": "code",
   "execution_count": null,
   "id": "d01f72f0-bf4f-443b-826e-18a7bdfcb859",
   "metadata": {},
   "outputs": [],
   "source": [
    "table_sumarize_num_ser(df['TailNum'].dropna())"
   ]
  },
  {
   "cell_type": "code",
   "execution_count": null,
   "id": "6e438dd1-329c-427b-8d61-3f26c767b875",
   "metadata": {},
   "outputs": [],
   "source": [
    "disable()"
   ]
  },
  {
   "cell_type": "code",
   "execution_count": null,
   "id": "4e9713c5-29e5-490b-add0-21c1fea34825",
   "metadata": {},
   "outputs": [],
   "source": [
    "pd.DataFrame(table_sumarize(df))"
   ]
  },
  {
   "cell_type": "code",
   "execution_count": null,
   "id": "c3705595-1388-4213-b2b6-79201a79473e",
   "metadata": {},
   "outputs": [],
   "source": [
    "tsum = table_sumarize(df[['count_working', 'count_not_working', 'inst_name', 'earnings_med']])\n",
    "tsum"
   ]
  },
  {
   "cell_type": "code",
   "execution_count": null,
   "id": "6066e785-5d81-4551-b68a-6230c58d9860",
   "metadata": {},
   "outputs": [],
   "source": [
    "from pandas.io.json import dumps as pdumps"
   ]
  },
  {
   "cell_type": "code",
   "execution_count": null,
   "id": "9c8c6845-d052-43d1-83a0-c402a4b32427",
   "metadata": {},
   "outputs": [],
   "source": [
    "pdumps(tsum)"
   ]
  },
  {
   "cell_type": "code",
   "execution_count": null,
   "id": "4820e20c-a8b7-4741-9a4c-3f22aaa237f4",
   "metadata": {},
   "outputs": [],
   "source": [
    "df2 = df.copy()"
   ]
  },
  {
   "cell_type": "code",
   "execution_count": null,
   "id": "80cd774b-5519-4430-952f-88fdf4b88b78",
   "metadata": {},
   "outputs": [],
   "source": [
    "from fractions import Fraction"
   ]
  },
  {
   "cell_type": "code",
   "execution_count": null,
   "id": "ba2a0e7c-76fd-44b7-bf7a-03aec735afa2",
   "metadata": {},
   "outputs": [],
   "source": [
    "df2['work_per'] = df2['count_working'] / (df2['count_not_working'] + df2['count_working'])\n",
    "df2"
   ]
  },
  {
   "cell_type": "code",
   "execution_count": null,
   "id": "7cd3d588-6128-433a-b6b8-1c39440c1643",
   "metadata": {},
   "outputs": [],
   "source": [
    "from buckaroo.summary_stats import summarize_df\n",
    "from json import loads"
   ]
  },
  {
   "cell_type": "code",
   "execution_count": null,
   "id": "f0a369ff-62bf-459e-8edf-f45c585b84a1",
   "metadata": {},
   "outputs": [],
   "source": [
    "sdf = summarize_df(df)"
   ]
  },
  {
   "cell_type": "code",
   "execution_count": null,
   "id": "5139798f-cacd-4214-b2b5-99b5ea464142",
   "metadata": {},
   "outputs": [],
   "source": [
    "len(sdf.to_json(orient='index', default_handler=str))"
   ]
  },
  {
   "cell_type": "code",
   "execution_count": null,
   "id": "8e3099f9-ade0-4131-9eeb-6126125cfd3d",
   "metadata": {},
   "outputs": [],
   "source": [
    "def int_digits(n):\n",
    "    return int(np.floor(np.log10(n)+1))\n",
    "def histogram(ser):\n",
    "    raw_counts, bins = np.histogram(ser, 10)\n",
    "    scaled_counts = np.round(counts/counts.sum(),2)\n",
    "    return [scaled_counts, bins]"
   ]
  },
  {
   "cell_type": "code",
   "execution_count": null,
   "id": "628fff41-fe75-4025-b9ef-57df0692f6a5",
   "metadata": {},
   "outputs": [],
   "source": [
    "int_digits(1), int_digits(10), int_digits(19), int_digits(12345)"
   ]
  },
  {
   "cell_type": "code",
   "execution_count": null,
   "id": "a86a6d91-e342-4501-a56b-ecb315803bcf",
   "metadata": {},
   "outputs": [],
   "source": [
    "er = df['earnings_med'].dropna()"
   ]
  },
  {
   "cell_type": "code",
   "execution_count": null,
   "id": "e22d5a9a-01e4-47bf-a894-668bf61ecde2",
   "metadata": {},
   "outputs": [],
   "source": [
    "def histogram(ser):\n",
    "    raw_counts, bins = np.histogram(ser, 10)\n",
    "    scaled_counts = np.round(counts/counts.sum(),2)\n",
    "    return [scaled_counts, bins]"
   ]
  },
  {
   "cell_type": "code",
   "execution_count": null,
   "id": "026cd25c-2a14-49df-8414-69acb5852d1b",
   "metadata": {},
   "outputs": [],
   "source": [
    "help(np.histogram)"
   ]
  },
  {
   "cell_type": "code",
   "execution_count": null,
   "id": "a4967bea-e173-46aa-a127-db06509debc7",
   "metadata": {},
   "outputs": [],
   "source": [
    "bc = np.histogram(er, 10)\n",
    "bc"
   ]
  },
  {
   "cell_type": "code",
   "execution_count": null,
   "id": "eb389216-bb6d-4cc2-b523-404ea73b0e15",
   "metadata": {},
   "outputs": [],
   "source": [
    "counts = bc[0]\n",
    "counts.sum()"
   ]
  },
  {
   "cell_type": "code",
   "execution_count": null,
   "id": "107aa195-10ad-4c47-8310-de96ea1c2386",
   "metadata": {},
   "outputs": [],
   "source": [
    "9781/32739"
   ]
  },
  {
   "cell_type": "code",
   "execution_count": null,
   "id": "e11c92d6-2e39-497e-8953-3069b403c8d6",
   "metadata": {},
   "outputs": [],
   "source": [
    "np.round_(counts/counts.sum(), 2)"
   ]
  },
  {
   "cell_type": "code",
   "execution_count": null,
   "id": "cb63a57b-d8ae-4cfc-8bc5-11b18c511041",
   "metadata": {},
   "outputs": [],
   "source": [
    "er.min()+ ((er.max() - er.min())/2)"
   ]
  },
  {
   "cell_type": "code",
   "execution_count": null,
   "id": "ecaff13d-3dd5-4bd3-b8e2-c1feb7dfc13b",
   "metadata": {},
   "outputs": [],
   "source": [
    "ab = df['earnings_med'].dropna()\n",
    "ab.hist(4)"
   ]
  },
  {
   "cell_type": "code",
   "execution_count": null,
   "id": "d275966b-f850-49ee-96c5-642a072d5fff",
   "metadata": {},
   "outputs": [],
   "source": [
    "json.loads(sdf.to_json(orient='index', default_handler=str))"
   ]
  },
  {
   "cell_type": "code",
   "execution_count": null,
   "id": "bf89d084-7593-464a-9a41-4c73a287dc95",
   "metadata": {},
   "outputs": [],
   "source": [
    "sdf.to_json() #orient='index')"
   ]
  },
  {
   "cell_type": "code",
   "execution_count": null,
   "id": "64757d2f-21dd-418f-a336-d26fcaa8c4cb",
   "metadata": {},
   "outputs": [],
   "source": [
    "help(sdf.to_json)"
   ]
  },
  {
   "cell_type": "code",
   "execution_count": null,
   "id": "ce503b8b-29ae-4f6d-8e3f-6570cacdecea",
   "metadata": {},
   "outputs": [],
   "source": [
    "ser = df2['work_per'].dropna().sort_values()\n",
    "len(ser)"
   ]
  },
  {
   "cell_type": "code",
   "execution_count": null,
   "id": "5fc117fd-8b74-4547-8de8-32c0def0691a",
   "metadata": {},
   "outputs": [],
   "source": [
    "bc = ser.value_counts()\n",
    "bc"
   ]
  },
  {
   "cell_type": "code",
   "execution_count": null,
   "id": "22b786ce-ff75-41f3-b0eb-6a519776bbd7",
   "metadata": {},
   "outputs": [],
   "source": [
    "print(Fraction(0.867611 ).limit_denominator(max_denominator=1000))"
   ]
  },
  {
   "cell_type": "code",
   "execution_count": null,
   "id": "508bb8a4-236c-4885-a79d-33453c6a72fa",
   "metadata": {},
   "outputs": [],
   "source": [
    "ab = Fraction(0.33334 ).limit_denominator(max_denominator=1000)\n",
    "ab.numerator"
   ]
  },
  {
   "cell_type": "code",
   "execution_count": null,
   "id": "a84a0a5b-5247-4179-8acf-f89737a2de21",
   "metadata": {},
   "outputs": [],
   "source": [
    "max_d = 100\n",
    "nums = ser.apply(lambda x: Fraction(x).limit_denominator(max_d).numerator)\n",
    "dens = ser.apply(lambda x: Fraction(x).limit_denominator(max_d).denominator)\n",
    "len(nums.value_counts()), len(dens.value_counts()), len(nums.value_counts())/ len(dens.value_counts())"
   ]
  },
  {
   "cell_type": "code",
   "execution_count": null,
   "id": "cd2a26db-5356-45c9-8f7f-9f6c5710414b",
   "metadata": {},
   "outputs": [],
   "source": [
    "max_d = 1_000\n",
    "nums = ser.apply(lambda x: Fraction(x).limit_denominator(max_d).numerator)\n",
    "dens = ser.apply(lambda x: Fraction(x).limit_denominator(max_d).denominator)\n",
    "len(nums.value_counts()), len(dens.value_counts()), len(nums.value_counts())/ len(dens.value_counts())"
   ]
  },
  {
   "cell_type": "code",
   "execution_count": null,
   "id": "01b1687b-c9fd-4e2e-ade7-985981ead658",
   "metadata": {},
   "outputs": [],
   "source": [
    "max_d = 10_000\n",
    "nums = ser.apply(lambda x: Fraction(x).limit_denominator(max_d).numerator)\n",
    "dens = ser.apply(lambda x: Fraction(x).limit_denominator(max_d).denominator)\n",
    "len(nums.value_counts()), len(dens.value_counts()), len(nums.value_counts())/ len(dens.value_counts())"
   ]
  },
  {
   "cell_type": "code",
   "execution_count": null,
   "id": "33402eee-5291-4f76-b385-f0f6d1828f49",
   "metadata": {},
   "outputs": [],
   "source": [
    "max_d = 100_000\n",
    "nums = ser.apply(lambda x: Fraction(x).limit_denominator(max_d).numerator)\n",
    "dens = ser.apply(lambda x: Fraction(x).limit_denominator(max_d).denominator)\n",
    "len(nums.value_counts()), len(dens.value_counts()), len(nums.value_counts())/ len(dens.value_counts())"
   ]
  },
  {
   "cell_type": "code",
   "execution_count": null,
   "id": "1f72a8d2-8f15-4f53-9a07-1a27918ecf8a",
   "metadata": {},
   "outputs": [],
   "source": [
    "bc =(ser // .00001).value_counts()\n",
    "len(bc[bc==1])"
   ]
  },
  {
   "cell_type": "code",
   "execution_count": null,
   "id": "0ed514bf-3725-4bac-9e4c-e2c5448da0c7",
   "metadata": {},
   "outputs": [],
   "source": [
    "bc = (ser // .0001).value_counts()\n",
    "len(bc[bc == 1])"
   ]
  },
  {
   "cell_type": "code",
   "execution_count": null,
   "id": "32995669-48f0-4c85-9cd6-216e2b3ba562",
   "metadata": {},
   "outputs": [],
   "source": [
    "bc = (ser // .001).value_counts()\n",
    "len(bc[bc == 1])"
   ]
  },
  {
   "cell_type": "code",
   "execution_count": null,
   "id": "5d3b404a-c8d9-4564-8703-93f9ec6ff536",
   "metadata": {},
   "outputs": [],
   "source": [
    "df = pd.read_csv('/Users/paddy/Downloads/Death_rates_for_suicide__by_sex__race__Hispanic_origin__and_age__United_States.csv')\n",
    "bw = BuckarooWidget(df)\n",
    "df2 = pd.read_csv('/Users/paddy/Downloads/banklist.csv', encoding_errors='replace')\n",
    "bw = BuckarooWidget(df)"
   ]
  },
  {
   "cell_type": "code",
   "execution_count": 3,
   "id": "fac82c38-832f-494e-8052-dfb22012da4b",
   "metadata": {},
   "outputs": [],
   "source": [
    "df = pd.read_csv('/Users/paddy/Downloads/Death_rates_for_suicide__by_sex__race__Hispanic_origin__and_age__United_States.csv')\n",
    "bw = BuckarooWidget(df)"
   ]
  },
  {
   "cell_type": "code",
   "execution_count": 4,
   "id": "d3751731-41c7-44d6-8d83-34fe76647346",
   "metadata": {},
   "outputs": [],
   "source": [
    "pd.read_csv('/Users/paddy/Downloads/banklist.csv', encoding_errors='replace')\n",
    "bw = BuckarooWidget(df)"
   ]
  },
  {
   "cell_type": "code",
   "execution_count": 5,
   "id": "26b232a5-34ca-493d-895c-8efd0238c9e0",
   "metadata": {},
   "outputs": [],
   "source": [
    "df =  pd.read_csv('1993.csv')\n",
    "bw = BuckarooWidget(df)"
   ]
  },
  {
   "cell_type": "code",
   "execution_count": null,
   "id": "dcf2ecbc-b562-4874-bdce-dff6604ece0d",
   "metadata": {},
   "outputs": [],
   "source": [
    "df = pd.read_csv('Covid Data.csv')\n",
    "bw = BuckarooWidget(df)"
   ]
  },
  {
   "cell_type": "code",
   "execution_count": null,
   "id": "a05c38fb-3f4b-4fa5-8b98-584eb0922864",
   "metadata": {},
   "outputs": [],
   "source": [
    "df = pd.read_csv('WPP2022_Demographic_Indicators_Medium.csv')\n",
    "bw = BuckarooWidget(df)"
   ]
  },
  {
   "cell_type": "code",
   "execution_count": null,
   "id": "7db6bc4a-bdf7-4b28-b6ba-752b81832ac9",
   "metadata": {},
   "outputs": [],
   "source": [
    "df2 = pd.read_json(json.dumps(bw.origDf))"
   ]
  },
  {
   "cell_type": "code",
   "execution_count": null,
   "id": "819947ff-7284-4b03-a6b5-490e83dbc46b",
   "metadata": {},
   "outputs": [],
   "source": [
    "#json.loads(otdf.to_json(orient='table', indent=2, default_handler=str))"
   ]
  },
  {
   "cell_type": "code",
   "execution_count": null,
   "id": "9e324b1c-a052-472a-b4b6-23c4458aba1b",
   "metadata": {},
   "outputs": [],
   "source": [
    "df2 = df[:1_000_000]\n",
    "df3 = df[:10]"
   ]
  },
  {
   "cell_type": "code",
   "execution_count": null,
   "id": "2e5f325c-474c-4433-8369-ee24eec1042b",
   "metadata": {},
   "outputs": [],
   "source": [
    "from pandas.io.json._json import JSONTableWriter"
   ]
  },
  {
   "cell_type": "code",
   "execution_count": null,
   "id": "deb195e4-b29d-4eea-8313-ada3609ab6ce",
   "metadata": {},
   "outputs": [],
   "source": []
  },
  {
   "cell_type": "code",
   "execution_count": null,
   "id": "e2caf51a-d86d-4269-94a8-6e5412ed57ad",
   "metadata": {},
   "outputs": [],
   "source": [
    "jst = JSONTableWriter(df3, orient='table', date_format=\"iso\", double_precision=10,  ensure_ascii=True, date_unit=\"ms\", index=None, default_handler=str)"
   ]
  },
  {
   "cell_type": "code",
   "execution_count": null,
   "id": "07cc743f-7073-4360-aab0-c971ad5ee7cf",
   "metadata": {},
   "outputs": [],
   "source": [
    "#df3.to_records()"
   ]
  },
  {
   "cell_type": "code",
   "execution_count": null,
   "id": "04990223-995c-423a-a422-356600d5d6a8",
   "metadata": {},
   "outputs": [],
   "source": [
    "jst.obj_to_write.keys()"
   ]
  },
  {
   "cell_type": "code",
   "execution_count": null,
   "id": "3d4dd700-883d-4467-a4d7-146f078889b0",
   "metadata": {},
   "outputs": [],
   "source": [
    "json.dumps(dict(schema=jst.obj_to_write['schema'], data=df3.to_records()))"
   ]
  },
  {
   "cell_type": "code",
   "execution_count": null,
   "id": "63927429-f4ca-4b64-81cc-4108c63fa276",
   "metadata": {},
   "outputs": [],
   "source": [
    "jst.obj_to_write"
   ]
  },
  {
   "cell_type": "code",
   "execution_count": null,
   "id": "61aac739-299c-46ea-8c3d-7928cc4c6bc2",
   "metadata": {},
   "outputs": [],
   "source": [
    "json.loads(df2[:10].to_json(orient='table', indent=2, default_handler=str))"
   ]
  },
  {
   "cell_type": "code",
   "execution_count": null,
   "id": "96d79cb7-4376-4b0c-8ebb-f049db652c3d",
   "metadata": {},
   "outputs": [],
   "source": [
    "%timeit json.loads(df2.to_json(orient='table', indent=2, default_handler=str))"
   ]
  },
  {
   "cell_type": "code",
   "execution_count": null,
   "id": "ceaac05c-08c7-46a7-82cf-3fd4e2e0a380",
   "metadata": {},
   "outputs": [],
   "source": [
    "%timeit df2.to_json(orient='table', indent=2, default_handler=str)"
   ]
  },
  {
   "cell_type": "code",
   "execution_count": null,
   "id": "fba2d577-200b-4e29-a7c9-474edfca3ec2",
   "metadata": {},
   "outputs": [],
   "source": [
    "def get_outlier_idxs(ser):\n",
    "    outlier_idxs = []\n",
    "    try:\n",
    "        idxs = ser.sort_values().index\n",
    "    except Exception as e:\n",
    "        print(e)\n",
    "        idxs = ser.index\n",
    "    outlier_idxs.extend(idxs[:5])\n",
    "    outlier_idxs.extend(idxs[-5:])\n",
    "    return outlier_idxs\n",
    "\n",
    "def sample(df, sample_size=500, include_outliers=True):\n",
    "    if len(df) <= sample_size:\n",
    "        return df\n",
    "    sdf = df.sample(np.min([sample_size, len(df)]))\n",
    "    if include_outliers:\n",
    "        outlier_idxs = []\n",
    "        for col in df.columns:\n",
    "            outlier_idxs.extend(get_outlier_idxs(df[col]) )\n",
    "        outlier_idxs.extend(sdf.index)\n",
    "        uniq_idx = np.unique(outlier_idxs)\n",
    "        return df.iloc[uniq_idx]\n",
    "    return sdf\n"
   ]
  },
  {
   "cell_type": "code",
   "execution_count": null,
   "id": "c2449575-c084-4ed2-a9bc-a848106443c5",
   "metadata": {},
   "outputs": [],
   "source": []
  },
  {
   "cell_type": "code",
   "execution_count": 7,
   "id": "4ee947db-1c8f-49ff-bcde-da02034e4365",
   "metadata": {},
   "outputs": [
    {
     "name": "stderr",
     "output_type": "stream",
     "text": [
      "/var/folders/th/jfr8ccjx09g2j_18ty_t3xnh0000gn/T/ipykernel_93064/2986544436.py:1: DtypeWarning: Columns (2) have mixed types. Specify dtype option on import or set low_memory=False.\n",
      "  df = pd.read_csv('WPP2022_Demographic_Indicators_Medium.csv')\n"
     ]
    },
    {
     "name": "stdout",
     "output_type": "stream",
     "text": [
      "'<' not supported between instances of 'float' and 'str'\n"
     ]
    }
   ],
   "source": []
  },
  {
   "cell_type": "code",
   "execution_count": null,
   "id": "d8a05d2c-5728-407d-bed0-349673049056",
   "metadata": {},
   "outputs": [],
   "source": [
    "from buckaroo.summary_stats import reorder_columns"
   ]
  },
  {
   "cell_type": "code",
   "execution_count": null,
   "id": "7d0f882d-15d7-48ac-8f50-e3e51e0e07e7",
   "metadata": {},
   "outputs": [],
   "source": [
    "reorder_columns(df)"
   ]
  },
  {
   "cell_type": "code",
   "execution_count": null,
   "id": "cd2762b2-d0a5-4009-8fb9-dafc70f68398",
   "metadata": {},
   "outputs": [],
   "source": [
    "def probable_datetime(ser):\n",
    "    s_ser = ser.sample(np.min([len(ser), 500]))\n",
    "    try:\n",
    "        dt_ser = pd.to_datetime(s_ser)\n",
    "        #pd.to_datetime(1_00_000_000_000_000_000) == pd.to_datetime('1973-01-01') \n",
    "        if dt_ser.max() < pd.to_datetime('1973-01-01'):\n",
    "            return False\n",
    "        return True\n",
    "        \n",
    "    except Exception as e:\n",
    "        return False\n",
    "#probable_datetime(df['start station name'])\n",
    "\n",
    "\n",
    "def summarize_string(ser):\n",
    "    l = len(ser)\n",
    "    val_counts = ser.value_counts()\n",
    "    distinct_count= len(val_counts)\n",
    "    nan_count = l - len(ser.dropna())\n",
    "    unique_count = len(val_counts[val_counts==1])\n",
    "    empty_count = val_counts.get('', 0)\n",
    "\n",
    "    #[pd.api.types.is_integer_dtype(df2[col]) for col in df2.columns]\n",
    "    #[pd.api.types.is_numeric_dtype(df2[col]) for col in df2.columns]\n",
    "    mode_raw = ser.mode()\n",
    "    if len(mode_raw) == 0:\n",
    "        mode = np.nan\n",
    "    else:\n",
    "        mode = mode_raw.values[0]\n",
    "    return dict(\n",
    "        dtype=ser.dtype,\n",
    "        length=l,\n",
    "        nan_count = nan_count,\n",
    "        distinct_count= distinct_count,\n",
    "        empty_count = empty_count,\n",
    "        empty_per = empty_count/l,\n",
    "        unique_per = unique_count/l,\n",
    "        nan_per = nan_count/l,\n",
    "        is_numeric=pd.api.types.is_numeric_dtype(ser),\n",
    "        is_integer=pd.api.types.is_integer_dtype(ser),\n",
    "        is_datetime=probable_datetime(ser),\n",
    "        mode=mode)\n",
    "\n",
    "def summarize_numeric(ser):\n",
    "\n",
    "    num_stats = dict(\n",
    "        min=ser.min(),\n",
    "        max=ser.max(),\n",
    "        mean=ser.mean())\n",
    "    num_stats.update(summarize_string(ser))\n",
    "    return num_stats\n",
    "\n",
    "def summarize_column(ser):\n",
    "    if pd.api.types.is_numeric_dtype(ser.dtype):\n",
    "        return summarize_numeric(ser)\n",
    "    else:\n",
    "        return summarize_string(ser)\n",
    "\n",
    "def summarize_df(df):\n",
    "    for col in df.columns:\n",
    "        print(col)\n",
    "        summarize_column(df[col])\n",
    "    summary_df = pd.DataFrame({col:summarize_column(df[col]) for col in df})\n",
    "    return summary_df\n",
    "\n",
    "\n",
    "\n",
    "def set_when(df, cond_row_name, target_row_name, true_val, false_val):\n",
    "    true_row = df.loc[cond_row_name]\n",
    "    df.loc[target_row_name] = false_val\n",
    "    df.loc[target_row_name, true_row[true_row==True].index.values] = true_val\n",
    "    return df\n",
    "\n",
    "\n",
    "def without(arr, search_keys):\n",
    "    new_arr = []\n",
    "    for v in arr:\n",
    "        if v not in search_keys:\n",
    "            new_arr.append(v)\n",
    "    return new_arr\n",
    "\n",
    "\n",
    "def find_groupings(corr_pairs):\n",
    "    all_groupings = []\n",
    "    for key, other_key_list in corr_pairs.items():\n",
    "        ab = other_key_list.copy()\n",
    "        ab.append(key)\n",
    "        all_groupings.append(set(ab))\n",
    "    return np.unique(all_groupings)\n",
    "\n",
    "def reorder_columns(df):\n",
    "    tdf_stats = summarize_df(df)\n",
    "    cpd = get_cor_pair_dict(df, tdf_stats)\n",
    "    col_order = order_columns(tdf_stats, cpd)\n",
    "    return df[col_order]"
   ]
  },
  {
   "cell_type": "code",
   "execution_count": null,
   "id": "25a8c3cb-4cb9-4a4b-b1fc-5cd691f9aeb3",
   "metadata": {},
   "outputs": [],
   "source": [
    "df['TailNum'].mode()[0]"
   ]
  },
  {
   "cell_type": "code",
   "execution_count": null,
   "id": "c5ded640-84cb-4ddc-975a-ad5302006543",
   "metadata": {},
   "outputs": [],
   "source": [
    "len(df['TailNum']), len(df['TailNum'].dropna())"
   ]
  },
  {
   "cell_type": "code",
   "execution_count": null,
   "id": "533f4dd8-ec1d-40de-82c5-d3d65b019620",
   "metadata": {},
   "outputs": [],
   "source": [
    "summarize_df(df)"
   ]
  },
  {
   "cell_type": "code",
   "execution_count": null,
   "id": "a67d057a-2cfb-4655-82c1-28012fe02477",
   "metadata": {},
   "outputs": [],
   "source": [
    "def make_num_categorical(ser):\n",
    "    ser_uniq = ser.dropna().unique()\n",
    "    name_to_idx = {name:idx for idx, name in enumerate(ser_uniq)}\n",
    "    #needs to be vectorized\n",
    "    num_categorical = ser.dropna().apply(lambda x:name_to_idx[x])\n",
    "    return num_categorical\n",
    "#make_num_categorical(df['Notes'])"
   ]
  },
  {
   "cell_type": "code",
   "execution_count": null,
   "id": "24875ac9-bb33-4a1b-a015-f1ab1221f928",
   "metadata": {},
   "outputs": [],
   "source": [
    "\n",
    "def get_cor_pair_dict(df, summary_stats):\n",
    "    #we need to remove columns with only nans or a single value, they mess up corr()\n",
    "\n",
    "    #this needs to be vectorized\n",
    "    corrable_cols = [col for col in df if summary_stats[col]['distinct_count'] > 1]\n",
    "    #print(\"corrable_cols\", corrable_cols)\n",
    "    #num_df =  pd.DataFrame({col:numerize_column(df[col]) for col in corrable_cols})\n",
    "\n",
    "    for col in df.columns:\n",
    "        make_num_categorical(df[col])\n",
    "    num_df =  pd.DataFrame({col:make_num_categorical(df[col]) for col in corrable_cols})\n",
    "\n",
    "    corr_df = num_df.corr()\n",
    "    high_corr_df = corr_df[corr_df > 0.99]\n",
    "    cor_dict = {}\n",
    "    for col in high_corr_df.columns:\n",
    "        #columns with high correlation that aren't the column itself\n",
    "        other_cor_cols = high_corr_df[col].dropna().drop(col)\n",
    "        cor_cols = other_cor_cols.index.values\n",
    "        if len(cor_cols) > 0:\n",
    "            cor_dict[col] = cor_cols.tolist()\n",
    "    return cor_dict\n",
    "\n",
    "\n",
    "def order_groupings(grps, ranked_cols):\n",
    "    first_cols, rest_cols = [], []\n",
    "    for col in ranked_cols:\n",
    "        for grp in grps:\n",
    "            if col in grp:\n",
    "                first_cols.append(col)\n",
    "                rest_cols.extend(list(without(grp, [col])))\n",
    "                grps = without(grps, [grp])\n",
    "    return first_cols, rest_cols\n",
    "\n",
    "def order_columns(summary_stats_df, corr_pair_dict):\n",
    "    sdf = summary_stats_df.copy()\n",
    "    sdf.loc['one_distinct'] = 0\n",
    "\n",
    "    only_ones = (sdf.loc['distinct_count'] <= 1)\n",
    "    sdf.loc['one_distinct', only_ones[only_ones==True].index.values] = -20\n",
    "    \n",
    "    sdf.loc['first_col'] = 0\n",
    "    sdf.loc['is_duplicate'] = 0\n",
    "    set_when(sdf, 'is_datetime', 'datetime_score', 11, 0)\n",
    "    \n",
    "    set_when(sdf, 'is_integer', 'grouping_score_integer', -3, 0)\n",
    "    set_when(sdf, 'is_numeric', 'grouping_score_numeric', -3, 5)\n",
    "    grouping_col_scores = sdf.loc[['grouping_score_integer', 'grouping_score_numeric']].sum()\n",
    "    duplicate_col_rankings = grouping_col_scores.sort_values().index[::-1].values\n",
    "\n",
    "    groupings = find_groupings(corr_pair_dict)\n",
    "    first_cols, duplicate_cols = order_groupings(groupings, duplicate_col_rankings)\n",
    "    \n",
    "    sdf.loc['first_col':, first_cols] = 5\n",
    "    \n",
    "    print(first_cols)\n",
    "    print(duplicate_cols)\n",
    "    sdf.loc['is_duplicate':, duplicate_cols] = -5\n",
    "    \n",
    "    col_scores = sdf.loc[['one_distinct', 'first_col', 'datetime_score', 'is_duplicate']].sum()\n",
    "    return col_scores.sort_values().index.values[::-1]\n"
   ]
  },
  {
   "cell_type": "code",
   "execution_count": null,
   "id": "d0d57afa-dde9-4f0d-93ef-cb480016d9fc",
   "metadata": {},
   "outputs": [],
   "source": [
    "sdf = summarize_df(df)\n",
    "cpd = get_cor_pair_dict(df, sdf)\n",
    "cpd"
   ]
  },
  {
   "cell_type": "code",
   "execution_count": null,
   "id": "d549ceaa-b85e-4f8c-bc8c-f795ddca0c0f",
   "metadata": {},
   "outputs": [],
   "source": [
    "disable()"
   ]
  },
  {
   "cell_type": "code",
   "execution_count": null,
   "id": "6841e64d-19cb-47aa-8203-ba5e0b5aae8e",
   "metadata": {},
   "outputs": [],
   "source": [
    "sdf"
   ]
  },
  {
   "cell_type": "code",
   "execution_count": null,
   "id": "64583bd1-ecc1-4c6b-8c18-a929bc9e3fc6",
   "metadata": {},
   "outputs": [],
   "source": [
    "dups = ['ISO2_code', 'LocID', 'SortOrder', 'Location', 'TPopulation1Jan', 'Q0060Male', 'TPopulation1July', 'Q1560', 'ISO2_code', 'Q0060', 'SDMX_code', 'Location', 'Q0060Female', 'TPopulation1Jan', 'Q0060Male', 'ISO2_code', 'SDMX_code', 'Location', 'TPopulation1Jan', 'Q0060Male', 'TPopulation1July', 'Q1560', 'ISO2_code', 'Q0060', 'SDMX_code', 'Location', 'Q0060Female', 'TPopulation1Jan', 'Q1560Male', 'Q0060Male', 'TPopulation1July', 'Q1560', 'ISO2_code', 'Q0060', 'SDMX_code', 'Location', 'TPopulation1Jan', 'TPopulation1July', 'TPopulationFemale1July', 'ISO2_code', 'SDMX_code', 'Location', 'TPopulation1Jan', 'Q1560Male', 'Q0060Male', 'TPopulation1July', 'ISO2_code', 'SDMX_code', 'Location', 'Q0060Female', 'TPopulation1Jan', 'Q1560Male', 'Q0060Male', 'TPopulation1July', 'Q1560', 'TPopulationMale1July', 'ISO2_code', 'Q0060', 'SDMX_code', 'TPopulationFemale1July', 'Q0060Female', 'Location', 'PopDensity', 'TPopulation1Jan', 'Q1550Male', 'Q1560Male', 'Q0060Male', 'TPopulation1July', 'Q1560', 'TPopulationMale1July', 'ISO2_code', 'Q0060', 'SDMX_code', 'Q1560Female', 'TPopulationFemale1July', 'ISO2_code', 'ParentID', 'Location', 'Q0060Female', 'TPopulation1Jan', 'Q1550Male', 'Q1560Male', 'Q0060Male', 'TPopulation1July', 'Q1560', 'TPopulationMale1July', 'ISO2_code', 'Q0060', 'SDMX_code', 'Q1560Female', 'TPopulationFemale1July', 'ISO2_code', 'LocID', 'SortOrder', 'SortOrder', 'Location', 'Q0060Female', 'TPopulation1Jan', 'Q1560Male', 'ParentID', 'Q0060Male', 'TPopulation1July', 'Q1560', 'TPopulationFemale1July', 'ISO2_code', 'Q0060', 'LocID', 'SDMX_code', 'Location', 'TPopulation1Jan', 'Q1560Male', 'Q0060Male', 'TPopulation1July', 'Q1560', 'TPopulationMale1July', 'ISO2_code', 'Q0060', 'SDMX_code', 'TPopulationFemale1July', 'LocTypeID', 'Q1550Male', 'SDMX_code', 'PopDensity', 'TPopulation1Jan', 'TPopulation1July', 'TPopulationMale1July', 'SDMX_code', 'SDMX_code', 'Q1560Female', 'DoublingTime']"
   ]
  },
  {
   "cell_type": "code",
   "execution_count": null,
   "id": "bb176ee3-d9b7-4d3e-828d-c8c312212e8b",
   "metadata": {},
   "outputs": [],
   "source": [
    "len(dups),len(np.unique(dups))"
   ]
  },
  {
   "cell_type": "code",
   "execution_count": null,
   "id": "97893ef6-5e21-4899-a742-62e6c387368d",
   "metadata": {},
   "outputs": [],
   "source": [
    "reorder_columns(df)"
   ]
  },
  {
   "cell_type": "code",
   "execution_count": null,
   "id": "8b983b17-9c39-42ae-8cb2-cf0503d2a2a3",
   "metadata": {},
   "outputs": [],
   "source": [
    "#df['Notes']"
   ]
  },
  {
   "cell_type": "code",
   "execution_count": null,
   "id": "6c4bc23c-45bc-4a2a-901a-b0ab39429f40",
   "metadata": {},
   "outputs": [],
   "source": []
  },
  {
   "cell_type": "code",
   "execution_count": null,
   "id": "a63d94d7-9f9a-4083-828a-f9d3aeb2c0be",
   "metadata": {},
   "outputs": [],
   "source": []
  }
 ],
 "metadata": {
  "kernelspec": {
   "display_name": "Python 3 (ipykernel)",
   "language": "python",
   "name": "python3"
  },
  "language_info": {
   "codemirror_mode": {
    "name": "ipython",
    "version": 3
   },
   "file_extension": ".py",
   "mimetype": "text/x-python",
   "name": "python",
   "nbconvert_exporter": "python",
   "pygments_lexer": "ipython3",
   "version": "3.11.3"
  }
 },
 "nbformat": 4,
 "nbformat_minor": 5
}
