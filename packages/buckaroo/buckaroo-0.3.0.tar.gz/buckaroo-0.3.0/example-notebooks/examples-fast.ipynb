{
 "cells": [
  {
   "cell_type": "code",
   "execution_count": 1,
   "id": "51091834-6d31-4e0e-b13c-a7be0a02ddb4",
   "metadata": {},
   "outputs": [
    {
     "name": "stdout",
     "output_type": "stream",
     "text": [
      "Intel MKL WARNING: Support of Intel(R) Streaming SIMD Extensions 4.2 (Intel(R) SSE4.2) enabled only processors has been deprecated. Intel oneAPI Math Kernel Library 2025.0 will require Intel(R) Advanced Vector Extensions (Intel(R) AVX) instructions.\n",
      "Intel MKL WARNING: Support of Intel(R) Streaming SIMD Extensions 4.2 (Intel(R) SSE4.2) enabled only processors has been deprecated. Intel oneAPI Math Kernel Library 2025.0 will require Intel(R) Advanced Vector Extensions (Intel(R) AVX) instructions.\n"
     ]
    }
   ],
   "source": [
    "import pandas as pd\n",
    "import numpy as np\n",
    "import json\n",
    "from buckaroo.buckaroo_widget import BuckarooWidget, disable, enable\n",
    "import matplotlib"
   ]
  },
  {
   "cell_type": "code",
   "execution_count": 2,
   "id": "30063897-1b67-4507-a3b8-0d98ab0f4b9f",
   "metadata": {},
   "outputs": [
    {
     "data": {
      "application/vnd.jupyter.widget-view+json": {
       "model_id": "4c3480761d7c4d7abe2a739253eda76c",
       "version_major": 2,
       "version_minor": 0
      },
      "text/plain": [
       "BuckarooWidget(commandConfig={'argspecs': {'dropcol': [None], 'to_datetime': [None], 'safeint': [None], 'filln…"
      ]
     },
     "metadata": {},
     "output_type": "display_data"
    }
   ],
   "source": [
    "df = pd.read_parquet('banklist.parquet')\n",
    "#print(len(df) * len(df.columns), len(df), len(df.columns))\n",
    "df"
   ]
  },
  {
   "cell_type": "code",
   "execution_count": 3,
   "id": "dd8b3a75-a615-402d-9c6c-fc57c2759fe4",
   "metadata": {},
   "outputs": [
    {
     "name": "stdout",
     "output_type": "stream",
     "text": [
      "83070 6390 13\n"
     ]
    },
    {
     "data": {
      "application/vnd.jupyter.widget-view+json": {
       "model_id": "ac8e47e124584297baec3ff5c8b7422d",
       "version_major": 2,
       "version_minor": 0
      },
      "text/plain": [
       "BuckarooWidget(commandConfig={'argspecs': {'dropcol': [None], 'to_datetime': [None], 'safeint': [None], 'filln…"
      ]
     },
     "execution_count": 3,
     "metadata": {},
     "output_type": "execute_result"
    }
   ],
   "source": [
    "df2 = pd.read_csv('death-by-suicide-hispanic.csv')\n",
    "print(len(df2) * len(df2.columns), len(df2), len(df2.columns))\n",
    "bw = BuckarooWidget(df2, showCommands=True, showTransformed=False)\n",
    "bw"
   ]
  },
  {
   "cell_type": "code",
   "execution_count": 4,
   "id": "5e338ccf-5a61-457d-addd-bdfd8510aa86",
   "metadata": {},
   "outputs": [
    {
     "data": {
      "application/vnd.jupyter.widget-view+json": {
       "model_id": "e3b6a94f622d464495640c1ecbb7177c",
       "version_major": 2,
       "version_minor": 0
      },
      "text/plain": [
       "BuckarooWidget(commandConfig={'argspecs': {'dropcol': [None], 'to_datetime': [None], 'safeint': [None], 'filln…"
      ]
     },
     "metadata": {},
     "output_type": "display_data"
    }
   ],
   "source": [
    "df10 = pd.read_csv('Machine_readable_file_bd_employ.csv')\n",
    "df10"
   ]
  },
  {
   "cell_type": "code",
   "execution_count": 5,
   "id": "dd5b1809-5d8d-4c26-b263-165592918b2a",
   "metadata": {},
   "outputs": [
    {
     "data": {
      "application/vnd.jupyter.widget-view+json": {
       "model_id": "08723b78cf684924ac1f85d25724431f",
       "version_major": 2,
       "version_minor": 0
      },
      "text/plain": [
       "BuckarooWidget(commandConfig={'argspecs': {'dropcol': [None], 'to_datetime': [None], 'safeint': [None], 'filln…"
      ]
     },
     "metadata": {},
     "output_type": "display_data"
    }
   ],
   "source": [
    "df9 = pd.read_csv('scorecard.csv')\n",
    "df9"
   ]
  },
  {
   "cell_type": "code",
   "execution_count": 6,
   "id": "5159536e-bad0-46cd-ba99-77c17f42dacd",
   "metadata": {},
   "outputs": [
    {
     "data": {
      "application/vnd.jupyter.widget-view+json": {
       "model_id": "104047f1c4fa42bcb9396c6c6bb0d4c2",
       "version_major": 2,
       "version_minor": 0
      },
      "text/plain": [
       "BuckarooWidget(commandConfig={'argspecs': {'dropcol': [None], 'to_datetime': [None], 'safeint': [None], 'filln…"
      ]
     },
     "metadata": {},
     "output_type": "display_data"
    }
   ],
   "source": [
    "df6 =  pd.read_parquet('1993-flights.gzip.parquet')\n",
    "df6"
   ]
  },
  {
   "cell_type": "code",
   "execution_count": 7,
   "id": "c223dcb4-a354-4f3a-b492-e6ae33c99188",
   "metadata": {},
   "outputs": [
    {
     "data": {
      "application/vnd.jupyter.widget-view+json": {
       "model_id": "b6a3a70118b549d48807bef11959824b",
       "version_major": 2,
       "version_minor": 0
      },
      "text/plain": [
       "BuckarooWidget(commandConfig={'argspecs': {'dropcol': [None], 'to_datetime': [None], 'safeint': [None], 'filln…"
      ]
     },
     "metadata": {},
     "output_type": "display_data"
    }
   ],
   "source": [
    "df8 = pd.read_csv('train_extended.csv')\n",
    "df8"
   ]
  },
  {
   "cell_type": "code",
   "execution_count": null,
   "id": "c1c73c91-0343-417a-a45f-ef5f8c39e884",
   "metadata": {},
   "outputs": [],
   "source": [
    "df4 = pd.read_csv('WPP2022_Demographic_Indicators_Medium.csv')\n",
    "df4"
   ]
  },
  {
   "cell_type": "code",
   "execution_count": null,
   "id": "97851149-49b4-41e2-a14f-ee9fbfcf7848",
   "metadata": {},
   "outputs": [],
   "source": [
    "df5 = pd.read_parquet('2014-01-citibike-trip-data.parquet')\n",
    "df5"
   ]
  },
  {
   "cell_type": "code",
   "execution_count": null,
   "id": "7fd1f66f-139d-4d34-ad72-83ade3dafd0a",
   "metadata": {},
   "outputs": [],
   "source": [
    "bw = BuckarooWidget(df5)"
   ]
  },
  {
   "cell_type": "code",
   "execution_count": null,
   "id": "714f04e0-93ec-4bff-94fc-81f4705507be",
   "metadata": {},
   "outputs": [],
   "source": [
    "sdf = bw.stats.sdf"
   ]
  },
  {
   "cell_type": "code",
   "execution_count": null,
   "id": "6a85748a-6d9d-4f3e-a5de-3ceec4252238",
   "metadata": {},
   "outputs": [],
   "source": [
    "sdf"
   ]
  },
  {
   "cell_type": "code",
   "execution_count": 8,
   "id": "6bd3db59-813f-4dc6-a758-13c467e2c308",
   "metadata": {},
   "outputs": [],
   "source": [
    "!mv /Users/paddy/Downloads/Download\\ Data\\ -\\ INDEX_US_S\\&P\\ US_SPX.csv ./sp500.csv"
   ]
  },
  {
   "cell_type": "code",
   "execution_count": 9,
   "id": "9a390c33-b265-4baf-9ef8-b70f06c4daf6",
   "metadata": {},
   "outputs": [
    {
     "data": {
      "application/vnd.jupyter.widget-view+json": {
       "model_id": "902a0984b0eb4f7a9894c3fd6882fd3d",
       "version_major": 2,
       "version_minor": 0
      },
      "text/plain": [
       "BuckarooWidget(commandConfig={'argspecs': {'dropcol': [None], 'to_datetime': [None], 'safeint': [None], 'filln…"
      ]
     },
     "metadata": {},
     "output_type": "display_data"
    }
   ],
   "source": [
    "df11 = pd.read_csv('./sp500.csv')\n",
    "df11"
   ]
  },
  {
   "cell_type": "code",
   "execution_count": null,
   "id": "c0312991-0bfb-4915-b824-d968a4105a3b",
   "metadata": {},
   "outputs": [],
   "source": [
    "from buckaroo import summary_stats"
   ]
  },
  {
   "cell_type": "code",
   "execution_count": null,
   "id": "a025b030-7873-4faf-adb1-ceb4b196817c",
   "metadata": {},
   "outputs": [],
   "source": [
    "sdf['start station longitude'].dropna()"
   ]
  },
  {
   "cell_type": "code",
   "execution_count": null,
   "id": "da7f0127-7f3f-4200-8562-0e1929fce7ee",
   "metadata": {},
   "outputs": [],
   "source": [
    "sdf['start station longitude'].values"
   ]
  },
  {
   "cell_type": "code",
   "execution_count": null,
   "id": "88becf11-ed7d-42a4-8638-43d23cf763e1",
   "metadata": {},
   "outputs": [],
   "source": [
    "sdf['start station longitude']['dtype']"
   ]
  },
  {
   "cell_type": "code",
   "execution_count": null,
   "id": "a9659a64-d8bd-4b4d-afa2-ba8207dddda3",
   "metadata": {},
   "outputs": [],
   "source": [
    "ab = sdf['start station longitude']"
   ]
  },
  {
   "cell_type": "code",
   "execution_count": null,
   "id": "f7a66cb8-9d4e-45d4-8dcf-928fbfa557ef",
   "metadata": {},
   "outputs": [],
   "source": [
    "ab.index[:16]"
   ]
  },
  {
   "cell_type": "code",
   "execution_count": null,
   "id": "930926ca-7318-4183-bdf9-156b8b3fb366",
   "metadata": {},
   "outputs": [],
   "source": [
    "ab.loc['mode'] = 'asdf'\n",
    "ab"
   ]
  },
  {
   "cell_type": "code",
   "execution_count": null,
   "id": "306ac56e-095b-4c42-aaaa-42160a8c8587",
   "metadata": {},
   "outputs": [],
   "source": [
    "pd.Series(sdf['start station longitude'].values[:]).dropna().astype('category').cat.codes"
   ]
  },
  {
   "cell_type": "code",
   "execution_count": null,
   "id": "e49c7493-564c-481a-bbb0-c493a95b736e",
   "metadata": {},
   "outputs": [],
   "source": [
    "pd.Series([ sdf['start station longitude']['dtype'], 50000, -74.01713445, -73.9500479759,\n",
    "       -73.98999148242399, 0, 329, 0.00658, 0, 0.0, 2e-05, 0.0, True,\n",
    "       False, False, -73.97770164, 0, 0, 0, 0, 0, -3]).dropna().astype('category').cat.codes"
   ]
  },
  {
   "cell_type": "code",
   "execution_count": null,
   "id": "9ca6d04e-ba18-4dcc-9e6e-884eda6b4980",
   "metadata": {},
   "outputs": [],
   "source": [
    "sdf['start station longitude'].dropna().astype('category', errors='ignore').cat.codes"
   ]
  },
  {
   "cell_type": "code",
   "execution_count": null,
   "id": "6b5f8c49-1df0-46f9-8b4e-14dc6b797205",
   "metadata": {},
   "outputs": [],
   "source": [
    "help(sdf['start station longitude'].dropna().astype)"
   ]
  },
  {
   "cell_type": "code",
   "execution_count": null,
   "id": "712c3004-aebf-4fe9-9d13-57ab79dacdff",
   "metadata": {},
   "outputs": [],
   "source": [
    "sdf['start station longitude'].dropna().astype('category').cat.codes"
   ]
  },
  {
   "cell_type": "code",
   "execution_count": null,
   "id": "14272570-d9ff-4063-a842-997349fe6d97",
   "metadata": {},
   "outputs": [],
   "source": [
    "corrable_cols = sdf.columns[\n",
    "        (sdf.loc['distinct_count'] > 1) &\n",
    "        ((sdf.loc['distinct_per'] < .3) |\n",
    "         (sdf.loc['distinct_count'] < 50))]\n",
    "for col in corrable_cols:\n",
    "    print(\"col\", col)\n",
    "    summary_stats.make_num_categorical(sdf[col])"
   ]
  },
  {
   "cell_type": "code",
   "execution_count": null,
   "id": "fc791dbc-410c-4442-becd-2b6f73d9bcfd",
   "metadata": {},
   "outputs": [],
   "source": [
    "sdf"
   ]
  },
  {
   "cell_type": "code",
   "execution_count": null,
   "id": "75b891ce-130d-4a28-b2c0-fda1fc3f5a35",
   "metadata": {},
   "outputs": [],
   "source": [
    "disable()"
   ]
  },
  {
   "cell_type": "code",
   "execution_count": null,
   "id": "98d7a3d1-6262-4a8c-9f04-4ff235e14004",
   "metadata": {},
   "outputs": [],
   "source": [
    "from buckaroo.summary_stats import DfStats"
   ]
  },
  {
   "cell_type": "code",
   "execution_count": null,
   "id": "9cc5f15f-686c-4db0-b45a-ed375dd20073",
   "metadata": {},
   "outputs": [],
   "source": [
    "sdfs = DfStats(sdf)"
   ]
  },
  {
   "cell_type": "code",
   "execution_count": null,
   "id": "b85113b7-47a4-4239-b6e6-b1a9adb50989",
   "metadata": {},
   "outputs": [],
   "source": [
    "sdfs.sdf"
   ]
  },
  {
   "cell_type": "code",
   "execution_count": null,
   "id": "de1f9882-84be-4ffa-9a4b-63b9fa17d31a",
   "metadata": {},
   "outputs": [],
   "source": [
    "bw.stats.col_order"
   ]
  },
  {
   "cell_type": "code",
   "execution_count": null,
   "id": "33985336-4ce7-4056-ba48-9e3fe8a2a4fd",
   "metadata": {},
   "outputs": [],
   "source": [
    "sdf.loc[bw.summary_df_cols]"
   ]
  },
  {
   "cell_type": "code",
   "execution_count": null,
   "id": "c7e956dc-21a8-46e7-96e4-a4ba6ef7994e",
   "metadata": {},
   "outputs": [],
   "source": [
    "bw.stats.sdf"
   ]
  },
  {
   "cell_type": "code",
   "execution_count": null,
   "id": "1bb274bb-27b0-4bb4-b296-7c246ced9ce5",
   "metadata": {},
   "outputs": [],
   "source": [
    "df3 = pd.read_parquet('Covid-data.gzip.parquet')\n",
    "df3"
   ]
  },
  {
   "cell_type": "code",
   "execution_count": null,
   "id": "12553bd6-be53-4001-be9a-dfc939981d38",
   "metadata": {},
   "outputs": [],
   "source": [
    "%timeit bw = BuckarooWidget(df6)"
   ]
  },
  {
   "cell_type": "code",
   "execution_count": null,
   "id": "257f2303-2b64-447b-8523-f8defac60cd9",
   "metadata": {},
   "outputs": [],
   "source": [
    "%prun -s cumtime "
   ]
  }
 ],
 "metadata": {
  "kernelspec": {
   "display_name": "Python 3 (ipykernel)",
   "language": "python",
   "name": "python3"
  },
  "language_info": {
   "codemirror_mode": {
    "name": "ipython",
    "version": 3
   },
   "file_extension": ".py",
   "mimetype": "text/x-python",
   "name": "python",
   "nbconvert_exporter": "python",
   "pygments_lexer": "ipython3",
   "version": "3.11.3"
  }
 },
 "nbformat": 4,
 "nbformat_minor": 5
}
