{
 "cells": [
  {
   "cell_type": "markdown",
   "metadata": {},
   "source": [
    "# Quality Controlling Saildrone T/S"
   ]
  },
  {
   "cell_type": "markdown",
   "metadata": {},
   "source": [
    "## Objective:\n",
    "\n",
    "This notebook shows how to use CoTeDe to evaluate temperature and salinity measured along-track from a Saildrone.\n",
    "\n",
    "The nature of this dataset is similar to a Thermosalinograph (TSG) on vessels of opportunity. As the vessel sails, it pumps water from near the surface, which is measured by a CTD. Thus, it is a time-series with a nearly constant depth, and each measurement is associated with time, latitude, and longitude."
   ]
  },
  {
   "cell_type": "markdown",
   "metadata": {},
   "source": [
    "## Data:\n",
    "\n",
    "For this tutorial, let's use the Saildrone Antarctic Cirumnaviation mission (https://www.saildrone.com/antarctica). I don't want to bypass their data distribution, so I'll let you download it yourself. Please place it in the same directory (folder) of this notebook.\n",
    "\n",
    "Let's use the 24hrs resolution just for demonstration purposes since this is the public version. We will probably get better results by quality controlling on the high-resolution measurements and only then, if convenient for our scientific questions, sub-sample for lower resolution.\n",
    "\n",
    "The data is available at https://data.saildrone.com/data/sets/antarctica-circumnavigation-2019/access"
   ]
  },
  {
   "cell_type": "markdown",
   "metadata": {},
   "source": [
    "Let's import xarray, which we'll use to load the data from the netCDF. We could use netCDF4 or scipy, but it is probably more intuitive with xarray.\n",
    "\n",
    "Let's also import ProfileQC from CoTeDe. Yes, I know, Saildrone does not measure profiles but don't worry about the name of this class; it will work with the same principle. Maybe one day, I'll create another class to deal with the along-track type of measurements."
   ]
  },
  {
   "cell_type": "code",
   "execution_count": 1,
   "metadata": {},
   "outputs": [],
   "source": [
    "import xarray as xr\n",
    "from cotede.qc import ProfileQC"
   ]
  },
  {
   "cell_type": "markdown",
   "metadata": {},
   "source": [
    "### First, learn about the data\n",
    "\n",
    "Load the data"
   ]
  },
  {
   "cell_type": "code",
   "execution_count": 2,
   "metadata": {},
   "outputs": [],
   "source": [
    "ds = xr.open_dataset('saildrone-antarctica.nc')"
   ]
  },
  {
   "cell_type": "markdown",
   "metadata": {},
   "source": [
    "Let's learn about this dataset, starting from the attributes."
   ]
  },
  {
   "cell_type": "code",
   "execution_count": 3,
   "metadata": {},
   "outputs": [
    {
     "data": {
      "text/plain": [
       "'CF-1.6, ACDD-1.3'"
      ]
     },
     "execution_count": 3,
     "metadata": {},
     "output_type": "execute_result"
    }
   ],
   "source": [
    "ds.attrs['Conventions']"
   ]
  },
  {
   "cell_type": "markdown",
   "metadata": {},
   "source": [
    "Great, it follows the CF and ACDD conventions, so we don't need to wander around, but we know what to expect and where to find the information that we will need. For instance, does it conform with some Simple Geometry? If so, which one?"
   ]
  },
  {
   "cell_type": "code",
   "execution_count": 4,
   "metadata": {},
   "outputs": [
    {
     "data": {
      "text/plain": [
       "'trajectory'"
      ]
     },
     "execution_count": 4,
     "metadata": {},
     "output_type": "execute_result"
    }
   ],
   "source": [
    "ds.attrs['featureType']"
   ]
  },
  {
   "cell_type": "markdown",
   "metadata": {},
   "source": [
    "OK, this is a trajectory, so we expect that each measurement will have a time and position.\n",
    "\n",
    "What are the available variables? We are interested in the temperature and the salinity of the seawater."
   ]
  },
  {
   "cell_type": "code",
   "execution_count": 5,
   "metadata": {},
   "outputs": [
    {
     "data": {
      "text/plain": [
       "['SOG',\n",
       " 'COG',\n",
       " 'HDG',\n",
       " 'HDG_WING',\n",
       " 'ROLL',\n",
       " 'PITCH',\n",
       " 'WING_ANGLE',\n",
       " 'BARO_PRES_MEAN',\n",
       " 'BARO_PRES_STDDEV',\n",
       " 'TEMP_AIR_MEAN',\n",
       " 'TEMP_AIR_STDDEV',\n",
       " 'RH_MEAN',\n",
       " 'RH_STDDEV',\n",
       " 'PAR_AIR_MEAN',\n",
       " 'PAR_AIR_STDDEV',\n",
       " 'TEMP_IR_UNCOR_MEAN',\n",
       " 'TEMP_IR_UNCOR_STDDEV',\n",
       " 'UWND_MEAN',\n",
       " 'UWND_STDDEV',\n",
       " 'VWND_MEAN',\n",
       " 'VWND_STDDEV',\n",
       " 'WWND_MEAN',\n",
       " 'WWND_STDDEV',\n",
       " 'GUST_WND_MEAN',\n",
       " 'GUST_WND_STDDEV',\n",
       " 'TEMP_CTD_MEAN',\n",
       " 'TEMP_CTD_STDDEV',\n",
       " 'COND_MEAN',\n",
       " 'COND_STDDEV',\n",
       " 'SAL_MEAN',\n",
       " 'SAL_STDDEV',\n",
       " 'O2_RBR_CONC_MEAN',\n",
       " 'O2_RBR_CONC_STDDEV',\n",
       " 'O2_RBR_SAT_MEAN',\n",
       " 'O2_RBR_SAT_STDDEV',\n",
       " 'TEMP_O2_RBR_MEAN',\n",
       " 'TEMP_O2_RBR_STDDEV',\n",
       " 'O2_AANDERAA_CONC_UNCOR_MEAN',\n",
       " 'O2_AANDERAA_CONC_UNCOR_STDDEV',\n",
       " 'O2_AANDERAA_SAT_MEAN',\n",
       " 'O2_AANDERAA_SAT_STDDEV',\n",
       " 'TEMP_O2_AANDERAA_MEAN',\n",
       " 'TEMP_O2_AANDERAA_STDDEV',\n",
       " 'CHLOR_MEAN',\n",
       " 'CHLOR_STDDEV']"
      ]
     },
     "execution_count": 5,
     "metadata": {},
     "output_type": "execute_result"
    }
   ],
   "source": [
    "list(ds.keys())"
   ]
  },
  {
   "cell_type": "markdown",
   "metadata": {},
   "source": [
    "It looks like we are interested in TEMP_CTD_MEAN and SAL_MEAN. Let's confirm that. We can learn a lot by inspecting the Attributes."
   ]
  },
  {
   "cell_type": "code",
   "execution_count": 6,
   "metadata": {},
   "outputs": [
    {
     "name": "stdout",
     "output_type": "stream",
     "text": [
      "<xarray.DataArray 'SAL_MEAN' (trajectory: 1, obs: 248525)>\n",
      "[248525 values with dtype=float64]\n",
      "Coordinates:\n",
      "  * trajectory  (trajectory) float32 1020.0\n",
      "    time        (trajectory, obs) datetime64[ns] ...\n",
      "    latitude    (trajectory, obs) float64 ...\n",
      "    longitude   (trajectory, obs) float64 ...\n",
      "Dimensions without coordinates: obs\n",
      "Attributes:\n",
      "    standard_name:              sea_water_practical_salinity\n",
      "    long_name:                  Seawater salinity\n",
      "    units:                      1\n",
      "    last_calibrated:            2018-10-19\n",
      "    update_period:              500\n",
      "    device_name:                RBR CTD/ODO/Chl-A (40804)\n",
      "    installed_date:             2018-11-01T00:00:00Z\n",
      "    nominal_sampling_schedule:  12s on, 48s off, centered at :00\n",
      "    installed_height:           -0.53\n",
      "    serial_number:              40804\n",
      "    vendor_name:                RBR\n",
      "    model_name:                 Saildrone^3\n",
      "====\n",
      "<xarray.DataArray 'TEMP_CTD_MEAN' (trajectory: 1, obs: 248525)>\n",
      "[248525 values with dtype=float64]\n",
      "Coordinates:\n",
      "  * trajectory  (trajectory) float32 1020.0\n",
      "    time        (trajectory, obs) datetime64[ns] ...\n",
      "    latitude    (trajectory, obs) float64 ...\n",
      "    longitude   (trajectory, obs) float64 ...\n",
      "Dimensions without coordinates: obs\n",
      "Attributes:\n",
      "    standard_name:              sea_water_temperature\n",
      "    long_name:                  Seawater temperature\n",
      "    units:                      degrees_c\n",
      "    last_calibrated:            2018-10-19\n",
      "    update_period:              500\n",
      "    device_name:                RBR CTD/ODO/Chl-A (40804)\n",
      "    installed_date:             2018-11-01T00:00:00Z\n",
      "    nominal_sampling_schedule:  12s on, 48s off, centered at :00\n",
      "    installed_height:           -0.53\n",
      "    serial_number:              40804\n",
      "    vendor_name:                RBR\n",
      "    model_name:                 Saildrone^3\n"
     ]
    }
   ],
   "source": [
    "print(ds[\"SAL_MEAN\"])\n",
    "print(\"====\")\n",
    "print(ds[\"TEMP_CTD_MEAN\"])"
   ]
  },
  {
   "cell_type": "markdown",
   "metadata": {},
   "source": [
    "Yes, we can see in the attributes of both variables the standard_name and long_name. We found what we need. Let's simplify our dataset and extract only what we need - temperature and salinity - and call it \"tsg\"."
   ]
  },
  {
   "cell_type": "code",
   "execution_count": 7,
   "metadata": {},
   "outputs": [
    {
     "data": {
      "text/html": [
       "<pre>&lt;xarray.Dataset&gt;\n",
       "Dimensions:        (obs: 248525, trajectory: 1)\n",
       "Coordinates:\n",
       "    time           (trajectory, obs) datetime64[ns] ...\n",
       "    longitude      (trajectory, obs) float64 ...\n",
       "    latitude       (trajectory, obs) float64 ...\n",
       "  * trajectory     (trajectory) float32 1020.0\n",
       "Dimensions without coordinates: obs\n",
       "Data variables:\n",
       "    TEMP_CTD_MEAN  (trajectory, obs) float64 ...\n",
       "    SAL_MEAN       (trajectory, obs) float64 ...\n",
       "Attributes:\n",
       "    title:                     Antarctica Circumnavigation Surface Data\n",
       "    license:                   2019 © SAILDRONE Inc.  All Rights Reserved.  T...\n",
       "    wmo_id:                    4803902\n",
       "    ncei_template_version:     NCEI_NetCDF_Trajectory_Template_v2.0\n",
       "    Conventions:               CF-1.6, ACDD-1.3\n",
       "    netcdf_version:            4.4.1.1\n",
       "    featureType:               trajectory\n",
       "    cdm_data_type:             Trajectory\n",
       "    standard_name_vocabulary:  CF Standard Name Table v58\n",
       "    description:               Saildrone NetCDF Format\n",
       "    creator_name:              Saildrone\n",
       "    platform:                  Saildrone\n",
       "    institution:               Saildrone\n",
       "    creator_email:             support@saildrone.com\n",
       "    creator_url:               http://saildrone.com/\n",
       "    date_created:              2019-08-03T19:10:55.100403Z\n",
       "    interval:                  60.0\n",
       "    time_coverage_resolution:  PT1M\n",
       "    time_coverage_start:       2019-01-19T04:00:00.000000Z\n",
       "    time_coverage_end:         2019-08-03T04:30:00.000000Z\n",
       "    time_coverage_duration:    P196DT30M\n",
       "    area:                      Southern Ocean\n",
       "    data_mode:                 realtime\n",
       "    drone_id:                  1020\n",
       "    id:                        43797\n",
       "    naming_authority:          com.saildrone\n",
       "    uuid:                      91c12ae3-3637-4934-bd4e-e00693435f74\n",
       "    project:                   antarctica_circumnavigation_2019\n",
       "    geospatial_lat_min:        -60.9862208\n",
       "    geospatial_lat_max:        -46.4277568\n",
       "    geospatial_lat_units:      degrees_north\n",
       "    geospatial_lon_min:        -179.9986816\n",
       "    geospatial_lon_max:        179.9997312\n",
       "    geospatial_lon_units:      degrees_east\n",
       "    summary:                   This data set was collected from the first Sai...</pre>"
      ],
      "text/plain": [
       "<xarray.Dataset>\n",
       "Dimensions:        (obs: 248525, trajectory: 1)\n",
       "Coordinates:\n",
       "    time           (trajectory, obs) datetime64[ns] ...\n",
       "    longitude      (trajectory, obs) float64 ...\n",
       "    latitude       (trajectory, obs) float64 ...\n",
       "  * trajectory     (trajectory) float32 1020.0\n",
       "Dimensions without coordinates: obs\n",
       "Data variables:\n",
       "    TEMP_CTD_MEAN  (trajectory, obs) float64 ...\n",
       "    SAL_MEAN       (trajectory, obs) float64 ...\n",
       "Attributes:\n",
       "    title:                     Antarctica Circumnavigation Surface Data\n",
       "    license:                   2019 © SAILDRONE Inc.  All Rights Reserved.  T...\n",
       "    wmo_id:                    4803902\n",
       "    ncei_template_version:     NCEI_NetCDF_Trajectory_Template_v2.0\n",
       "    Conventions:               CF-1.6, ACDD-1.3\n",
       "    netcdf_version:            4.4.1.1\n",
       "    featureType:               trajectory\n",
       "    cdm_data_type:             Trajectory\n",
       "    standard_name_vocabulary:  CF Standard Name Table v58\n",
       "    description:               Saildrone NetCDF Format\n",
       "    creator_name:              Saildrone\n",
       "    platform:                  Saildrone\n",
       "    institution:               Saildrone\n",
       "    creator_email:             support@saildrone.com\n",
       "    creator_url:               http://saildrone.com/\n",
       "    date_created:              2019-08-03T19:10:55.100403Z\n",
       "    interval:                  60.0\n",
       "    time_coverage_resolution:  PT1M\n",
       "    time_coverage_start:       2019-01-19T04:00:00.000000Z\n",
       "    time_coverage_end:         2019-08-03T04:30:00.000000Z\n",
       "    time_coverage_duration:    P196DT30M\n",
       "    area:                      Southern Ocean\n",
       "    data_mode:                 realtime\n",
       "    drone_id:                  1020\n",
       "    id:                        43797\n",
       "    naming_authority:          com.saildrone\n",
       "    uuid:                      91c12ae3-3637-4934-bd4e-e00693435f74\n",
       "    project:                   antarctica_circumnavigation_2019\n",
       "    geospatial_lat_min:        -60.9862208\n",
       "    geospatial_lat_max:        -46.4277568\n",
       "    geospatial_lat_units:      degrees_north\n",
       "    geospatial_lon_min:        -179.9986816\n",
       "    geospatial_lon_max:        179.9997312\n",
       "    geospatial_lon_units:      degrees_east\n",
       "    summary:                   This data set was collected from the first Sai..."
      ]
     },
     "execution_count": 7,
     "metadata": {},
     "output_type": "execute_result"
    }
   ],
   "source": [
    "tsg = ds[['TEMP_CTD_MEAN', 'SAL_MEAN']]\n",
    "tsg"
   ]
  },
  {
   "cell_type": "markdown",
   "metadata": {},
   "source": [
    "Notice that there is a trajectory dimension. Since this is a single trajectory, CF does not require to keep this dimension, but this is a good practice. In case we want to merge this dataset with another trajectory, let's say another Saildrone from another year, and both trajectories would merge seamlessly with two trajectories.\n",
    "\n",
    "To simplify, let's remove the trajectory dimension by choosing only the first (and only one) trajectory."
   ]
  },
  {
   "cell_type": "code",
   "execution_count": 8,
   "metadata": {},
   "outputs": [],
   "source": [
    "tsg = tsg.isel(trajectory=0)"
   ]
  },
  {
   "cell_type": "markdown",
   "metadata": {},
   "source": [
    "Now, if we look at the temperature, it will have only the dimension obs."
   ]
  },
  {
   "cell_type": "code",
   "execution_count": 9,
   "metadata": {},
   "outputs": [
    {
     "data": {
      "text/html": [
       "<pre>&lt;xarray.DataArray &#x27;TEMP_CTD_MEAN&#x27; (obs: 248525)&gt;\n",
       "[248525 values with dtype=float64]\n",
       "Coordinates:\n",
       "    time        (obs) datetime64[ns] ...\n",
       "    longitude   (obs) float64 ...\n",
       "    latitude    (obs) float64 ...\n",
       "    trajectory  float32 1020.0\n",
       "Dimensions without coordinates: obs\n",
       "Attributes:\n",
       "    standard_name:              sea_water_temperature\n",
       "    long_name:                  Seawater temperature\n",
       "    units:                      degrees_c\n",
       "    last_calibrated:            2018-10-19\n",
       "    update_period:              500\n",
       "    device_name:                RBR CTD/ODO/Chl-A (40804)\n",
       "    installed_date:             2018-11-01T00:00:00Z\n",
       "    nominal_sampling_schedule:  12s on, 48s off, centered at :00\n",
       "    installed_height:           -0.53\n",
       "    serial_number:              40804\n",
       "    vendor_name:                RBR\n",
       "    model_name:                 Saildrone^3</pre>"
      ],
      "text/plain": [
       "<xarray.DataArray 'TEMP_CTD_MEAN' (obs: 248525)>\n",
       "[248525 values with dtype=float64]\n",
       "Coordinates:\n",
       "    time        (obs) datetime64[ns] ...\n",
       "    longitude   (obs) float64 ...\n",
       "    latitude    (obs) float64 ...\n",
       "    trajectory  float32 1020.0\n",
       "Dimensions without coordinates: obs\n",
       "Attributes:\n",
       "    standard_name:              sea_water_temperature\n",
       "    long_name:                  Seawater temperature\n",
       "    units:                      degrees_c\n",
       "    last_calibrated:            2018-10-19\n",
       "    update_period:              500\n",
       "    device_name:                RBR CTD/ODO/Chl-A (40804)\n",
       "    installed_date:             2018-11-01T00:00:00Z\n",
       "    nominal_sampling_schedule:  12s on, 48s off, centered at :00\n",
       "    installed_height:           -0.53\n",
       "    serial_number:              40804\n",
       "    vendor_name:                RBR\n",
       "    model_name:                 Saildrone^3"
      ]
     },
     "execution_count": 9,
     "metadata": {},
     "output_type": "execute_result"
    }
   ],
   "source": [
    "tsg['TEMP_CTD_MEAN']"
   ]
  },
  {
   "cell_type": "code",
   "execution_count": 10,
   "metadata": {},
   "outputs": [
    {
     "data": {
      "text/plain": [
       "{'standard_name': 'sea_water_practical_salinity',\n",
       " 'long_name': 'Seawater salinity',\n",
       " 'units': '1',\n",
       " 'last_calibrated': '2018-10-19',\n",
       " 'update_period': 500,\n",
       " 'device_name': 'RBR CTD/ODO/Chl-A (40804)',\n",
       " 'installed_date': '2018-11-01T00:00:00Z',\n",
       " 'nominal_sampling_schedule': '12s on, 48s off, centered at :00',\n",
       " 'installed_height': -0.53,\n",
       " 'serial_number': '40804',\n",
       " 'vendor_name': 'RBR',\n",
       " 'model_name': 'Saildrone^3'}"
      ]
     },
     "execution_count": 10,
     "metadata": {},
     "output_type": "execute_result"
    }
   ],
   "source": [
    "tsg['SAL_MEAN'].attrs"
   ]
  },
  {
   "cell_type": "code",
   "execution_count": 11,
   "metadata": {},
   "outputs": [
    {
     "data": {
      "text/html": [
       "<pre>&lt;xarray.DataArray &#x27;TEMP_CTD_MEAN&#x27; (obs: 10)&gt;\n",
       "array([15.68 , 15.671, 15.683, 15.689, 15.688, 15.697, 15.707, 15.718, 15.726,\n",
       "       15.73 ])\n",
       "Coordinates:\n",
       "    time        (obs) datetime64[ns] ...\n",
       "    longitude   (obs) float64 ...\n",
       "    latitude    (obs) float64 ...\n",
       "    trajectory  float32 1020.0\n",
       "Dimensions without coordinates: obs\n",
       "Attributes:\n",
       "    standard_name:              sea_water_temperature\n",
       "    long_name:                  Seawater temperature\n",
       "    units:                      degrees_c\n",
       "    last_calibrated:            2018-10-19\n",
       "    update_period:              500\n",
       "    device_name:                RBR CTD/ODO/Chl-A (40804)\n",
       "    installed_date:             2018-11-01T00:00:00Z\n",
       "    nominal_sampling_schedule:  12s on, 48s off, centered at :00\n",
       "    installed_height:           -0.53\n",
       "    serial_number:              40804\n",
       "    vendor_name:                RBR\n",
       "    model_name:                 Saildrone^3</pre>"
      ],
      "text/plain": [
       "<xarray.DataArray 'TEMP_CTD_MEAN' (obs: 10)>\n",
       "array([15.68 , 15.671, 15.683, 15.689, 15.688, 15.697, 15.707, 15.718, 15.726,\n",
       "       15.73 ])\n",
       "Coordinates:\n",
       "    time        (obs) datetime64[ns] ...\n",
       "    longitude   (obs) float64 ...\n",
       "    latitude    (obs) float64 ...\n",
       "    trajectory  float32 1020.0\n",
       "Dimensions without coordinates: obs\n",
       "Attributes:\n",
       "    standard_name:              sea_water_temperature\n",
       "    long_name:                  Seawater temperature\n",
       "    units:                      degrees_c\n",
       "    last_calibrated:            2018-10-19\n",
       "    update_period:              500\n",
       "    device_name:                RBR CTD/ODO/Chl-A (40804)\n",
       "    installed_date:             2018-11-01T00:00:00Z\n",
       "    nominal_sampling_schedule:  12s on, 48s off, centered at :00\n",
       "    installed_height:           -0.53\n",
       "    serial_number:              40804\n",
       "    vendor_name:                RBR\n",
       "    model_name:                 Saildrone^3"
      ]
     },
     "execution_count": 11,
     "metadata": {},
     "output_type": "execute_result"
    }
   ],
   "source": [
    "tsg['TEMP_CTD_MEAN'][:10]"
   ]
  },
  {
   "cell_type": "markdown",
   "metadata": {},
   "source": [
    "## Actuall QC\n",
    "\n",
    "So far, we have been learning about this dataset and subsampling. \n",
    "If you were familiar with this dataset, you could have skipped all that and started here.\n",
    "\n",
    "Now, let's QC this data, the easiest part (if using CoTeDe)."
   ]
  },
  {
   "cell_type": "code",
   "execution_count": 12,
   "metadata": {},
   "outputs": [],
   "source": [
    "pqc = ProfileQC(tsg, {'sea_water_temperature':{'gradient': {'threshold': 5}}})"
   ]
  },
  {
   "cell_type": "markdown",
   "metadata": {},
   "source": [
    "Great! You just finished to QC the temperature of the whole Saildrone Antarctic mission. It's probably not the best approach to use the gradient test only, but good enough for this example.\n",
    "\n",
    "What are the flags available?"
   ]
  },
  {
   "cell_type": "code",
   "execution_count": 13,
   "metadata": {},
   "outputs": [
    {
     "data": {
      "text/plain": [
       "dict_keys(['TEMP_CTD_MEAN'])"
      ]
     },
     "execution_count": 13,
     "metadata": {},
     "output_type": "execute_result"
    }
   ],
   "source": [
    "pqc.flags.keys()"
   ]
  },
  {
   "cell_type": "markdown",
   "metadata": {},
   "source": [
    "Yes, it seems right. We asked to inspect all variables that were the type: seawater temperature.\n",
    "\n",
    "What was the result, i.e. what are the flags assigned?"
   ]
  },
  {
   "cell_type": "code",
   "execution_count": 14,
   "metadata": {},
   "outputs": [
    {
     "data": {
      "text/plain": [
       "array([0, 1, 1, ..., 1, 1, 0], dtype=int8)"
      ]
     },
     "execution_count": 14,
     "metadata": {},
     "output_type": "execute_result"
    }
   ],
   "source": [
    "pqc.flags['TEMP_CTD_MEAN']['gradient']"
   ]
  },
  {
   "cell_type": "markdown",
   "metadata": {},
   "source": [
    "Let's improve this. Let's evaluate temperature and salinity at the same time, but now let's add another test, the rate of change."
   ]
  },
  {
   "cell_type": "code",
   "execution_count": 15,
   "metadata": {},
   "outputs": [],
   "source": [
    "cfg = {\n",
    "    'sea_water_temperature':{\n",
    "        'gradient': {'threshold': 5},\n",
    "        'rate_of_change': {'threshold': 5}},\n",
    "    'SAL_MEAN': {\n",
    "        'rate_of_change': {'threshold': 2}}\n",
    "}\n",
    "    \n",
    "pqc = ProfileQC(tsg, cfg)"
   ]
  },
  {
   "cell_type": "code",
   "execution_count": 16,
   "metadata": {},
   "outputs": [
    {
     "data": {
      "text/plain": [
       "{'TEMP_CTD_MEAN': {'gradient': array([0, 1, 1, ..., 1, 1, 0], dtype=int8),\n",
       "  'rate_of_change': array([0, 1, 1, ..., 1, 1, 1], dtype=int8),\n",
       "  'overall': array([0, 1, 1, ..., 1, 1, 1], dtype=int8)},\n",
       " 'SAL_MEAN': {'rate_of_change': array([0, 1, 1, ..., 1, 1, 1], dtype=int8),\n",
       "  'overall': array([0, 1, 1, ..., 1, 1, 1], dtype=int8)}}"
      ]
     },
     "execution_count": 16,
     "metadata": {},
     "output_type": "execute_result"
    }
   ],
   "source": [
    "pqc.flags"
   ]
  },
  {
   "cell_type": "markdown",
   "metadata": {},
   "source": [
    "Nice, you can choose which tests to apply on each variable, and that includes which parameters to use on each test.\n",
    "\n",
    "You also can choose between defining a test for the type of measurement (sea_water_temperature) or the variable specifically (SAL_MEAN). That is convenient when you have a platform equipped with several sensors, like Saildrone."
   ]
  },
  {
   "cell_type": "markdown",
   "metadata": {},
   "source": [
    "Finally, let's check what we got!"
   ]
  },
  {
   "cell_type": "code",
   "execution_count": 17,
   "metadata": {},
   "outputs": [
    {
     "data": {
      "text/plain": [
       "Text(0.5, 1.0, 'Temperature [$^\\\\circ$C]')"
      ]
     },
     "execution_count": 17,
     "metadata": {},
     "output_type": "execute_result"
    },
    {
     "data": {
      "image/png": "[encoded data removed]",
      "text/plain": [
       "<Figure size 1008x288 with 1 Axes>"
      ]
     },
     "metadata": {
      "needs_background": "light"
     },
     "output_type": "display_data"
    }
   ],
   "source": [
    "import matplotlib.pyplot as plt\n",
    "plt.figure(figsize=(14,4))\n",
    "\n",
    "idx = pqc.flags['TEMP_CTD_MEAN']['overall'] <= 2\n",
    "plt.plot(pqc['time'][idx], pqc['TEMP_CTD_MEAN'][idx], '.')\n",
    "plt.title('Temperature [$^\\circ$C]')\n"
   ]
  },
  {
   "cell_type": "code",
   "execution_count": 18,
   "metadata": {},
   "outputs": [
    {
     "data": {
      "text/plain": [
       "Text(0.5, 1.0, 'Salinity')"
      ]
     },
     "execution_count": 18,
     "metadata": {},
     "output_type": "execute_result"
    },
    {
     "data": {
      "image/png": "[encoded data removed]",
      "text/plain": [
       "<Figure size 1008x288 with 1 Axes>"
      ]
     },
     "metadata": {
      "needs_background": "light"
     },
     "output_type": "display_data"
    }
   ],
   "source": [
    "plt.figure(figsize=(14,4))\n",
    "\n",
    "idx = pqc.flags['SAL_MEAN']['overall'] <= 2\n",
    "plt.plot(pqc['time'][idx], pqc['SAL_MEAN'][idx], '.')\n",
    "plt.title('Salinity')"
   ]
  },
  {
   "cell_type": "markdown",
   "metadata": {},
   "source": [
    "Yes, I agree, we need to activate more checks if we want to do a better job here. Don't worry, there are plenty built-in tests in CoTeDe."
   ]
  },
  {
   "cell_type": "code",
   "execution_count": null,
   "metadata": {},
   "outputs": [],
   "source": []
  }
 ],
 "metadata": {
  "kernelspec": {
   "display_name": "Python 3",
   "language": "python",
   "name": "python3"
  },
  "language_info": {
   "codemirror_mode": {
    "name": "ipython",
    "version": 3
   },
   "file_extension": ".py",
   "mimetype": "text/x-python",
   "name": "python",
   "nbconvert_exporter": "python",
   "pygments_lexer": "ipython3",
   "version": "3.7.3"
  }
 },
 "nbformat": 4,
 "nbformat_minor": 2
}
