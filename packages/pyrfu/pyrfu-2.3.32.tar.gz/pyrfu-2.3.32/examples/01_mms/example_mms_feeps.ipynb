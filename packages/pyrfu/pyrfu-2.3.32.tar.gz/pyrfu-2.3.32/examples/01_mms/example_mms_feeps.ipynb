{
 "cells": [
  {
   "cell_type": "markdown",
   "metadata": {},
   "source": [
    "# Fly’s Eye Energetic Particle Spectrometer (FEEPS)\n",
    "author: Louis Richard\n",
    "\n",
    "Routines :\n",
    "* feeps_correct_energies\n",
    "* feeps_flat_field_corrections\n",
    "* feeps_omni\n",
    "* feeps_pad\n",
    "* feeps_pad_spinavg\n",
    "* feeps_remove_bad_data\n",
    "* feeps_remove_sun\n",
    "* feeps_sector_spec\n",
    "* feeps_spin_avg\n",
    "* feeps_split_integral_ch\n",
    "* get_feeps_alle\n"
   ]
  },
  {
   "cell_type": "code",
   "execution_count": 1,
   "metadata": {},
   "outputs": [
    {
     "name": "stdout",
     "output_type": "stream",
     "text": [
      "Load IGRF coefficients ...\n"
     ]
    }
   ],
   "source": [
    "%matplotlib inline\n",
    "import matplotlib.pyplot as plt\n",
    "\n",
    "from pyrfu import mms\n",
    "from pyrfu.plot import plot_line, plot_spectr"
   ]
  },
  {
   "cell_type": "markdown",
   "metadata": {},
   "source": [
    "## Define data path, time interval and spacecraft index"
   ]
  },
  {
   "cell_type": "code",
   "execution_count": 2,
   "metadata": {},
   "outputs": [],
   "source": [
    "mms.db_init(\"/Volumes/mms\")\n",
    "tint_long = [\"2017-07-23T16:10:00\", \"2017-07-23T18:10:00\"]\n",
    "mms_id = 2"
   ]
  },
  {
   "cell_type": "markdown",
   "metadata": {},
   "source": [
    "## Load data"
   ]
  },
  {
   "cell_type": "markdown",
   "metadata": {},
   "source": [
    "### Magnetic field in GSM"
   ]
  },
  {
   "cell_type": "code",
   "execution_count": 3,
   "metadata": {},
   "outputs": [
    {
     "name": "stderr",
     "output_type": "stream",
     "text": [
      "[08-Jun-23 17:42:19] INFO: Loading mms2_fgm_b_bcs_srvy_l2...\n",
      "[08-Jun-23 17:42:19] INFO: Loading mms2_fgm_b_gsm_srvy_l2...\n"
     ]
    }
   ],
   "source": [
    "b_bcs = mms.get_data(\"b_bcs_fgm_srvy_l2\", tint_long, mms_id)\n",
    "b_gsm = mms.get_data(\"b_gsm_fgm_srvy_l2\", tint_long, mms_id)"
   ]
  },
  {
   "cell_type": "markdown",
   "metadata": {},
   "source": [
    "### Electron and ion differential particle flux for all FEEPS sensors"
   ]
  },
  {
   "cell_type": "code",
   "execution_count": 4,
   "metadata": {
    "scrolled": true
   },
   "outputs": [
    {
     "name": "stderr",
     "output_type": "stream",
     "text": [
      "[08-Jun-23 17:42:20] INFO: Loading mms2_epd_feeps_srvy_l2_electron_spinsectnum...\n",
      "[08-Jun-23 17:42:21] INFO: Loading mms2_epd_feeps_srvy_l2_electron_pitch_angle...\n",
      "[08-Jun-23 17:42:22] INFO: Loading mms2_epd_feeps_srvy_l2_electron_top_count_rate_sensorid_3...\n",
      "[08-Jun-23 17:42:22] WARNING: /usr/local/lib/python3.10/site-packages/pyrfu/mms/get_feeps_alleyes.py:186: UserWarning: rename 'time' to 'time' does not create an index anymore. Try using swap_dims instead or use set_index after rename to create an indexed coordinate.\n",
      "  out_dict[e_id] = out_dict[e_id].rename(dims)\n",
      "\n"
     ]
    },
    {
     "ename": "ValueError",
     "evalue": "cannot rename 'energy_top-3' because it is not a variable or dimension in this dataset",
     "output_type": "error",
     "traceback": [
      "\u001b[0;31m---------------------------------------------------------------------------\u001b[0m",
      "\u001b[0;31mValueError\u001b[0m                                Traceback (most recent call last)",
      "Cell \u001b[0;32mIn[4], line 2\u001b[0m\n\u001b[1;32m      1\u001b[0m \u001b[38;5;66;03m# Electron\u001b[39;00m\n\u001b[0;32m----> 2\u001b[0m dpf_feeps_alle_e \u001b[38;5;241m=\u001b[39m \u001b[43mmms\u001b[49m\u001b[38;5;241;43m.\u001b[39;49m\u001b[43mget_feeps_alleyes\u001b[49m\u001b[43m(\u001b[49m\u001b[38;5;124;43m\"\u001b[39;49m\u001b[38;5;124;43mcpse_srvy_l2\u001b[39;49m\u001b[38;5;124;43m\"\u001b[39;49m\u001b[43m,\u001b[49m\u001b[43m \u001b[49m\u001b[43mtint_long\u001b[49m\u001b[43m,\u001b[49m\u001b[43m \u001b[49m\u001b[43mmms_id\u001b[49m\u001b[43m)\u001b[49m\n\u001b[1;32m      4\u001b[0m \u001b[38;5;66;03m# Ion\u001b[39;00m\n\u001b[1;32m      5\u001b[0m dpf_feeps_alle_i \u001b[38;5;241m=\u001b[39m mms\u001b[38;5;241m.\u001b[39mget_feeps_alleyes(\u001b[38;5;124m\"\u001b[39m\u001b[38;5;124mcpsi_srvy_l2\u001b[39m\u001b[38;5;124m\"\u001b[39m, tint_long, mms_id)\n",
      "File \u001b[0;32m/usr/local/lib/python3.10/site-packages/pyrfu/mms/get_feeps_alleyes.py:186\u001b[0m, in \u001b[0;36mget_feeps_alleyes\u001b[0;34m(tar_var, tint, mms_id, verbose, data_path)\u001b[0m\n\u001b[1;32m    174\u001b[0m     out_dict[e_id] \u001b[38;5;241m=\u001b[39m _get_oneeye(\n\u001b[1;32m    175\u001b[0m         tar_var,\n\u001b[1;32m    176\u001b[0m         e_id,\n\u001b[0;32m   (...)\u001b[0m\n\u001b[1;32m    180\u001b[0m         data_path\u001b[38;5;241m=\u001b[39mdata_path,\n\u001b[1;32m    181\u001b[0m     )\n\u001b[1;32m    182\u001b[0m     dims \u001b[38;5;241m=\u001b[39m {\n\u001b[1;32m    183\u001b[0m         \u001b[38;5;124m\"\u001b[39m\u001b[38;5;124mtime\u001b[39m\u001b[38;5;124m\"\u001b[39m: out_dict[e_id]\u001b[38;5;241m.\u001b[39mdims[\u001b[38;5;241m0\u001b[39m],\n\u001b[1;32m    184\u001b[0m         \u001b[38;5;124mf\u001b[39m\u001b[38;5;124m\"\u001b[39m\u001b[38;5;124menergy_\u001b[39m\u001b[38;5;132;01m{\u001b[39;00me_id\u001b[38;5;132;01m}\u001b[39;00m\u001b[38;5;124m\"\u001b[39m: out_dict[e_id]\u001b[38;5;241m.\u001b[39mdims[\u001b[38;5;241m1\u001b[39m],\n\u001b[1;32m    185\u001b[0m     }\n\u001b[0;32m--> 186\u001b[0m     out_dict[e_id] \u001b[38;5;241m=\u001b[39m \u001b[43mout_dict\u001b[49m\u001b[43m[\u001b[49m\u001b[43me_id\u001b[49m\u001b[43m]\u001b[49m\u001b[38;5;241;43m.\u001b[39;49m\u001b[43mrename\u001b[49m\u001b[43m(\u001b[49m\u001b[43mdims\u001b[49m\u001b[43m)\u001b[49m\n\u001b[1;32m    188\u001b[0m out \u001b[38;5;241m=\u001b[39m xr\u001b[38;5;241m.\u001b[39mDataset(out_dict)\n\u001b[1;32m    190\u001b[0m out\u001b[38;5;241m.\u001b[39mattrs \u001b[38;5;241m=\u001b[39m var\n",
      "File \u001b[0;32m/usr/local/lib/python3.10/site-packages/xarray/core/dataarray.py:2347\u001b[0m, in \u001b[0;36mDataArray.rename\u001b[0;34m(self, new_name_or_name_dict, **names)\u001b[0m\n\u001b[1;32m   2344\u001b[0m \u001b[38;5;28;01mif\u001b[39;00m utils\u001b[38;5;241m.\u001b[39mis_dict_like(new_name_or_name_dict) \u001b[38;5;129;01mor\u001b[39;00m new_name_or_name_dict \u001b[38;5;129;01mis\u001b[39;00m \u001b[38;5;28;01mNone\u001b[39;00m:\n\u001b[1;32m   2345\u001b[0m     \u001b[38;5;66;03m# change dims/coords\u001b[39;00m\n\u001b[1;32m   2346\u001b[0m     name_dict \u001b[38;5;241m=\u001b[39m either_dict_or_kwargs(new_name_or_name_dict, names, \u001b[38;5;124m\"\u001b[39m\u001b[38;5;124mrename\u001b[39m\u001b[38;5;124m\"\u001b[39m)\n\u001b[0;32m-> 2347\u001b[0m     dataset \u001b[38;5;241m=\u001b[39m \u001b[38;5;28;43mself\u001b[39;49m\u001b[38;5;241;43m.\u001b[39;49m\u001b[43m_to_temp_dataset\u001b[49m\u001b[43m(\u001b[49m\u001b[43m)\u001b[49m\u001b[38;5;241;43m.\u001b[39;49m\u001b[43m_rename\u001b[49m\u001b[43m(\u001b[49m\u001b[43mname_dict\u001b[49m\u001b[43m)\u001b[49m\n\u001b[1;32m   2348\u001b[0m     \u001b[38;5;28;01mreturn\u001b[39;00m \u001b[38;5;28mself\u001b[39m\u001b[38;5;241m.\u001b[39m_from_temp_dataset(dataset)\n\u001b[1;32m   2349\u001b[0m \u001b[38;5;28;01mif\u001b[39;00m utils\u001b[38;5;241m.\u001b[39mhashable(new_name_or_name_dict) \u001b[38;5;129;01mand\u001b[39;00m names:\n\u001b[1;32m   2350\u001b[0m     \u001b[38;5;66;03m# change name + dims/coords\u001b[39;00m\n",
      "File \u001b[0;32m/usr/local/lib/python3.10/site-packages/xarray/core/dataset.py:3609\u001b[0m, in \u001b[0;36mDataset._rename\u001b[0;34m(self, name_dict, **names)\u001b[0m\n\u001b[1;32m   3607\u001b[0m \u001b[38;5;28;01mfor\u001b[39;00m k \u001b[38;5;129;01min\u001b[39;00m name_dict\u001b[38;5;241m.\u001b[39mkeys():\n\u001b[1;32m   3608\u001b[0m     \u001b[38;5;28;01mif\u001b[39;00m k \u001b[38;5;129;01mnot\u001b[39;00m \u001b[38;5;129;01min\u001b[39;00m \u001b[38;5;28mself\u001b[39m \u001b[38;5;129;01mand\u001b[39;00m k \u001b[38;5;129;01mnot\u001b[39;00m \u001b[38;5;129;01min\u001b[39;00m \u001b[38;5;28mself\u001b[39m\u001b[38;5;241m.\u001b[39mdims:\n\u001b[0;32m-> 3609\u001b[0m         \u001b[38;5;28;01mraise\u001b[39;00m \u001b[38;5;167;01mValueError\u001b[39;00m(\n\u001b[1;32m   3610\u001b[0m             \u001b[38;5;124mf\u001b[39m\u001b[38;5;124m\"\u001b[39m\u001b[38;5;124mcannot rename \u001b[39m\u001b[38;5;132;01m{\u001b[39;00mk\u001b[38;5;132;01m!r}\u001b[39;00m\u001b[38;5;124m because it is not a \u001b[39m\u001b[38;5;124m\"\u001b[39m\n\u001b[1;32m   3611\u001b[0m             \u001b[38;5;124m\"\u001b[39m\u001b[38;5;124mvariable or dimension in this dataset\u001b[39m\u001b[38;5;124m\"\u001b[39m\n\u001b[1;32m   3612\u001b[0m         )\n\u001b[1;32m   3614\u001b[0m     create_dim_coord \u001b[38;5;241m=\u001b[39m \u001b[38;5;28;01mFalse\u001b[39;00m\n\u001b[1;32m   3615\u001b[0m     new_k \u001b[38;5;241m=\u001b[39m name_dict[k]\n",
      "\u001b[0;31mValueError\u001b[0m: cannot rename 'energy_top-3' because it is not a variable or dimension in this dataset"
     ]
    }
   ],
   "source": [
    "# Electron\n",
    "dpf_feeps_alle_e = mms.get_feeps_alleyes(\"cpse_srvy_l2\", tint_long, mms_id)\n",
    "\n",
    "# Ion\n",
    "dpf_feeps_alle_i = mms.get_feeps_alleyes(\"cpsi_srvy_l2\", tint_long, mms_id)"
   ]
  },
  {
   "cell_type": "markdown",
   "metadata": {},
   "source": [
    "## Post-processing"
   ]
  },
  {
   "cell_type": "markdown",
   "metadata": {},
   "source": [
    "### Correct energy table"
   ]
  },
  {
   "cell_type": "code",
   "execution_count": null,
   "metadata": {},
   "outputs": [],
   "source": [
    "# Electron\n",
    "dpf_feeps_alle_e = mms.feeps_correct_energies(dpf_feeps_alle_e)\n",
    "\n",
    "# Ion\n",
    "dpf_feeps_alle_i = mms.feeps_correct_energies(dpf_feeps_alle_i)"
   ]
  },
  {
   "cell_type": "markdown",
   "metadata": {},
   "source": [
    "### Apply flat field correction to electron and ion differential particle flux spectra"
   ]
  },
  {
   "cell_type": "code",
   "execution_count": null,
   "metadata": {},
   "outputs": [],
   "source": [
    "# Electron\n",
    "dpf_feeps_alle_e = mms.feeps_flat_field_corrections(dpf_feeps_alle_e)\n",
    "\n",
    "# Ion\n",
    "dpf_feeps_alle_i = mms.feeps_flat_field_corrections(dpf_feeps_alle_i)"
   ]
  },
  {
   "cell_type": "markdown",
   "metadata": {},
   "source": [
    "### Remove bad data"
   ]
  },
  {
   "cell_type": "code",
   "execution_count": null,
   "metadata": {},
   "outputs": [],
   "source": [
    "# Electron\n",
    "dpf_feeps_alle_e = mms.feeps_remove_bad_data(dpf_feeps_alle_e)\n",
    "\n",
    "# Ion\n",
    "dpf_feeps_alle_i = mms.feeps_remove_bad_data(dpf_feeps_alle_i)"
   ]
  },
  {
   "cell_type": "markdown",
   "metadata": {},
   "source": [
    "### Split the last integral channel from the electron and ion differential particle flux spectra"
   ]
  },
  {
   "cell_type": "code",
   "execution_count": null,
   "metadata": {},
   "outputs": [],
   "source": [
    "# Electron\n",
    "dpf_feeps_alle_e_clean, dpf_feeps_alle_e_500kev = mms.feeps_split_integral_ch(\n",
    "    dpf_feeps_alle_e\n",
    ")\n",
    "\n",
    "# Ion\n",
    "dpf_feeps_alle_i_clean, dpf_feeps_alle_i_500kev = mms.feeps_split_integral_ch(\n",
    "    dpf_feeps_alle_i\n",
    ")"
   ]
  },
  {
   "cell_type": "markdown",
   "metadata": {},
   "source": [
    "### Remove sunlight contamination"
   ]
  },
  {
   "cell_type": "code",
   "execution_count": null,
   "metadata": {},
   "outputs": [],
   "source": [
    "# Electron\n",
    "dpf_feeps_alle_e_clean_sun_removed = mms.feeps_remove_sun(dpf_feeps_alle_e_clean)\n",
    "\n",
    "# Ion\n",
    "dpf_feeps_alle_i_clean_sun_removed = mms.feeps_remove_sun(dpf_feeps_alle_i_clean)"
   ]
  },
  {
   "cell_type": "markdown",
   "metadata": {},
   "source": [
    "### Compute the electron and ion omni-directional flux for all 24 sensors"
   ]
  },
  {
   "cell_type": "code",
   "execution_count": null,
   "metadata": {
    "pycharm": {
     "name": "#%%\n"
    }
   },
   "outputs": [],
   "source": [
    "# Electron\n",
    "dpf_feeps_omni_e = mms.feeps_omni(dpf_feeps_alle_e_clean_sun_removed)\n",
    "\n",
    "# Ion\n",
    "dpf_feeps_omni_i = mms.feeps_omni(dpf_feeps_alle_i_clean_sun_removed)"
   ]
  },
  {
   "cell_type": "markdown",
   "metadata": {},
   "source": [
    "### Creates sector-spectrograms with FEEPS data"
   ]
  },
  {
   "cell_type": "code",
   "execution_count": null,
   "metadata": {
    "pycharm": {
     "name": "#%%\n"
    }
   },
   "outputs": [],
   "source": [
    "# Electron\n",
    "dpf_feeps_alle_ss_e_clean_sun_removed = mms.feeps_sector_spec(\n",
    "    dpf_feeps_alle_e_clean_sun_removed\n",
    ")\n",
    "\n",
    "# Ion\n",
    "dpf_feeps_alle_ss_i_clean_sun_removed = mms.feeps_sector_spec(\n",
    "    dpf_feeps_alle_i_clean_sun_removed\n",
    ")"
   ]
  },
  {
   "cell_type": "markdown",
   "metadata": {},
   "source": [
    "### Compute the electron and ion pitch angle distribution for energies below and above 100 keV"
   ]
  },
  {
   "cell_type": "code",
   "execution_count": null,
   "metadata": {},
   "outputs": [],
   "source": [
    "dpf_feeps_pad_i_070_100 = mms.feeps_pad(\n",
    "    dpf_feeps_alle_i_clean_sun_removed, b_bcs, energy=[70, 100]\n",
    ")\n",
    "\n",
    "# Electron\n",
    "dpf_feeps_pad_e_050_100 = mms.feeps_pad(\n",
    "    dpf_feeps_alle_e_clean_sun_removed, b_bcs, energy=[50, 100]\n",
    ")\n",
    "dpf_feeps_pad_e_100_200 = mms.feeps_pad(\n",
    "    dpf_feeps_alle_e_clean_sun_removed, b_bcs, energy=[100, 200]\n",
    ")\n",
    "\n",
    "# Ion\n",
    "dpf_feeps_pad_i_070_100 = mms.feeps_pad(\n",
    "    dpf_feeps_alle_i_clean_sun_removed, b_bcs, energy=[70, 100]\n",
    ")\n",
    "dpf_feeps_pad_i_100_200 = mms.feeps_pad(\n",
    "    dpf_feeps_alle_i_clean_sun_removed, b_bcs, energy=[100, 200]\n",
    ")"
   ]
  },
  {
   "cell_type": "markdown",
   "metadata": {},
   "source": [
    "### Plot in a MMS SDC Quicklook fashion"
   ]
  },
  {
   "cell_type": "code",
   "execution_count": null,
   "metadata": {
    "scrolled": true
   },
   "outputs": [],
   "source": [
    "f, axs = plt.subplots(7, sharex=\"all\", figsize=(9, 13))\n",
    "f.subplots_adjust(hspace=0, left=0.1, right=0.82, bottom=0.05, top=0.95)\n",
    "\n",
    "plot_line(axs[0], b_gsm)\n",
    "axs[0].legend([\"$B_x$\", \"$B_y$\", \"$B_z$\"], loc=\"upper right\", ncol=3, frameon=True)\n",
    "axs[0].set_ylabel(\"$B$ [nT]\")\n",
    "\n",
    "axs[1], caxs1 = plot_spectr(axs[1], dpf_feeps_omni_e, yscale=\"log\", cscale=\"log\")\n",
    "caxs1.set_ylabel(\"Flux\" + \"\\n\" + \"[(cm$^2$ s sr keV)$^{-1}$]\")\n",
    "axs[1].set_ylabel(\"$E_e$ [keV]\")\n",
    "\n",
    "axs[2], caxs2 = plot_spectr(axs[2], dpf_feeps_pad_e_050_100, cscale=\"log\")\n",
    "caxs2.set_ylabel(\"Flux\" + \"\\n\" + \"[(cm$^2$ s sr keV)$^{-1}$]\")\n",
    "axs[2].set_ylim([0, 180])\n",
    "axs[2].set_yticks([45, 90, 135])\n",
    "axs[2].set_ylabel(\"$\\\\theta$ [$^{\\\\circ}$]\")\n",
    "\n",
    "axs[3], caxs3 = plot_spectr(axs[3], dpf_feeps_pad_e_100_200, cscale=\"log\")\n",
    "caxs3.set_ylabel(\"Flux\" + \"\\n\" + \"[(cm$^2$ s sr keV)$^{-1}$]\")\n",
    "axs[3].set_ylim([0, 180])\n",
    "axs[3].set_yticks([45, 90, 135])\n",
    "axs[3].set_ylabel(\"$\\\\theta$ [$^{\\\\circ}$]\")\n",
    "\n",
    "axs[4], caxs4 = plot_spectr(axs[4], dpf_feeps_omni_i[:, 1:], yscale=\"log\", cscale=\"log\")\n",
    "caxs4.set_ylabel(\"Flux\" + \"\\n\" + \"[(cm$^2$ s sr keV)$^{-1}$]\")\n",
    "axs[4].set_ylabel(\"$E_i$ [keV]\")\n",
    "\n",
    "axs[5], caxs5 = plot_spectr(\n",
    "    axs[5], dpf_feeps_pad_i_070_100, cscale=\"log\", clim=[3e-1, 1e2]\n",
    ")\n",
    "caxs5.set_ylabel(\"Flux\" + \"\\n\" + \"[(cm$^2$ s sr keV)$^{-1}$]\")\n",
    "axs[5].set_ylim([0, 180])\n",
    "axs[5].set_yticks([45, 90, 135])\n",
    "axs[5].set_ylabel(\"$\\\\theta$ [$^{\\\\circ}$]\")\n",
    "\n",
    "axs[6], caxs6 = plot_spectr(axs[6], dpf_feeps_pad_i_100_200, cscale=\"log\")\n",
    "caxs6.set_ylabel(\"Flux\" + \"\\n\" + \"[(cm$^2$ s sr keV)$^{-1}$]\")\n",
    "axs[6].set_ylim([0, 180])\n",
    "axs[6].set_yticks([45, 90, 135])\n",
    "axs[6].set_ylabel(\"$\\\\theta$ [$^{\\\\circ}$]\")\n",
    "\n",
    "f.align_ylabels(axs)\n",
    "f.suptitle(f\"MMS {mms_id:d}\")"
   ]
  },
  {
   "cell_type": "markdown",
   "metadata": {},
   "source": [
    "### Spin average omni-directional differential particle flux and pitch angle distributions"
   ]
  },
  {
   "cell_type": "code",
   "execution_count": null,
   "metadata": {},
   "outputs": [],
   "source": [
    "# Electron\n",
    "dpf_feeps_omni_e_spin = mms.feeps_spin_avg(\n",
    "    dpf_feeps_omni_e, dpf_feeps_alle_e.spinsectnum\n",
    ")\n",
    "\n",
    "# Ion\n",
    "dpf_feeps_omni_i_spin = mms.feeps_spin_avg(\n",
    "    dpf_feeps_omni_i, dpf_feeps_alle_i.spinsectnum\n",
    ")"
   ]
  },
  {
   "cell_type": "code",
   "execution_count": null,
   "metadata": {},
   "outputs": [],
   "source": [
    "# Electron\n",
    "dpf_feeps_pad_e_050_100_spin = mms.feeps_pad_spinavg(\n",
    "    dpf_feeps_pad_e_050_100, dpf_feeps_alle_e.spinsectnum\n",
    ")\n",
    "dpf_feeps_pad_e_100_200_spin = mms.feeps_pad_spinavg(\n",
    "    dpf_feeps_pad_e_100_200, dpf_feeps_alle_e.spinsectnum\n",
    ")\n",
    "\n",
    "# Ion\n",
    "dpf_feeps_pad_i_070_100_spin = mms.feeps_pad_spinavg(\n",
    "    dpf_feeps_pad_i_070_100, dpf_feeps_alle_i.spinsectnum\n",
    ")\n",
    "dpf_feeps_pad_i_100_200_spin = mms.feeps_pad_spinavg(\n",
    "    dpf_feeps_pad_i_100_200, dpf_feeps_alle_i.spinsectnum\n",
    ")"
   ]
  },
  {
   "cell_type": "markdown",
   "metadata": {},
   "source": [
    "### Plot"
   ]
  },
  {
   "cell_type": "code",
   "execution_count": null,
   "metadata": {},
   "outputs": [],
   "source": [
    "f, axs = plt.subplots(7, sharex=\"all\", figsize=(9, 13))\n",
    "f.subplots_adjust(hspace=0, left=0.1, right=0.82, bottom=0.05, top=0.95)\n",
    "\n",
    "plot_line(axs[0], b_gsm)\n",
    "axs[0].legend([\"$B_x$\", \"$B_y$\", \"$B_z$\"], loc=\"upper right\", ncol=3, frameon=True)\n",
    "axs[0].set_ylabel(\"$B$ [nT]\")\n",
    "\n",
    "axs[1], caxs1 = plot_spectr(axs[1], dpf_feeps_omni_e_spin, yscale=\"log\", cscale=\"log\")\n",
    "caxs1.set_ylabel(\"Flux\" + \"\\n\" + \"[(cm$^2$ s sr keV)$^{-1}$]\")\n",
    "axs[1].set_ylabel(\"$E_e$ [keV]\")\n",
    "\n",
    "axs[2], caxs2 = plot_spectr(axs[2], dpf_feeps_pad_e_050_100_spin, cscale=\"log\")\n",
    "caxs2.set_ylabel(\"Flux\" + \"\\n\" + \"[(cm$^2$ s sr keV)$^{-1}$]\")\n",
    "axs[2].set_ylim([0, 180])\n",
    "axs[2].set_yticks([45, 90, 135])\n",
    "axs[2].set_ylabel(\"$\\\\theta$ [$^{\\\\circ}$]\")\n",
    "axs[2].text(\n",
    "    0.02,\n",
    "    0.1,\n",
    "    \"50 keV < $E_e$ < 100 keV\",\n",
    "    bbox=dict(fc=(1, 1, 1)),\n",
    "    transform=axs[2].transAxes,\n",
    ")\n",
    "\n",
    "axs[3], caxs3 = plot_spectr(axs[3], dpf_feeps_pad_e_100_200_spin, cscale=\"log\")\n",
    "caxs3.set_ylabel(\"Flux\" + \"\\n\" + \"[(cm$^2$ s sr keV)$^{-1}$]\")\n",
    "axs[3].set_ylim([0, 180])\n",
    "axs[3].set_yticks([45, 90, 135])\n",
    "axs[3].set_ylabel(\"$\\\\theta$ [$^{\\\\circ}$]\")\n",
    "axs[3].text(\n",
    "    0.02,\n",
    "    0.1,\n",
    "    \"100 keV < $E_e$ < 200 keV\",\n",
    "    bbox=dict(fc=(1, 1, 1)),\n",
    "    transform=axs[3].transAxes,\n",
    ")\n",
    "\n",
    "axs[4], caxs4 = plot_spectr(\n",
    "    axs[4], dpf_feeps_omni_i_spin[:, 1:], yscale=\"log\", cscale=\"log\"\n",
    ")\n",
    "caxs4.set_ylabel(\"Flux\" + \"\\n\" + \"[(cm$^2$ s sr keV)$^{-1}$]\")\n",
    "axs[4].set_ylabel(\"$E_i$ [keV]\")\n",
    "\n",
    "axs[5], caxs5 = plot_spectr(\n",
    "    axs[5], dpf_feeps_pad_i_070_100_spin, cscale=\"log\", clim=[3e-1, 1e2]\n",
    ")\n",
    "caxs5.set_ylabel(\"Flux\" + \"\\n\" + \"[(cm$^2$ s sr keV)$^{-1}$]\")\n",
    "axs[5].set_ylim([0, 180])\n",
    "axs[5].set_yticks([45, 90, 135])\n",
    "axs[5].set_ylabel(\"$\\\\theta$ [$^{\\\\circ}$]\")\n",
    "axs[5].text(\n",
    "    0.02,\n",
    "    0.1,\n",
    "    \"70 keV < $E_e$ < 100 keV\",\n",
    "    bbox=dict(fc=(1, 1, 1)),\n",
    "    transform=axs[5].transAxes,\n",
    ")\n",
    "\n",
    "axs[6], caxs6 = plot_spectr(axs[6], dpf_feeps_pad_i_100_200_spin, cscale=\"log\")\n",
    "caxs6.set_ylabel(\"Flux\" + \"\\n\" + \"[(cm$^2$ s sr keV)$^{-1}$]\")\n",
    "axs[6].set_ylim([0, 180])\n",
    "axs[6].set_yticks([45, 90, 135])\n",
    "axs[6].set_ylabel(\"$\\\\theta$ [$^{\\\\circ}$]\")\n",
    "axs[6].text(\n",
    "    0.02,\n",
    "    0.1,\n",
    "    \"100 keV < $E_i$ < 200 keV\",\n",
    "    bbox=dict(fc=(1, 1, 1)),\n",
    "    transform=axs[6].transAxes,\n",
    ")\n",
    "\n",
    "f.align_ylabels(axs)\n",
    "f.suptitle(f\"MMS {mms_id:d} spin averaged\")"
   ]
  }
 ],
 "metadata": {
  "kernelspec": {
   "display_name": "Python 3 (ipykernel)",
   "language": "python",
   "name": "python3"
  },
  "language_info": {
   "codemirror_mode": {
    "name": "ipython",
    "version": 3
   },
   "file_extension": ".py",
   "mimetype": "text/x-python",
   "name": "python",
   "nbconvert_exporter": "python",
   "pygments_lexer": "ipython3",
   "version": "3.10.10"
  }
 },
 "nbformat": 4,
 "nbformat_minor": 4
}
