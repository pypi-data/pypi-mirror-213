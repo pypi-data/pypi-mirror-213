{
 "cells": [
  {
   "cell_type": "markdown",
   "metadata": {},
   "source": [
    "# Particle Distributions\n",
    "author: Louis Richard\\\n",
    "Example showing how to you can work with particle distributions"
   ]
  },
  {
   "cell_type": "code",
   "execution_count": 1,
   "metadata": {},
   "outputs": [
    {
     "name": "stdout",
     "output_type": "stream",
     "text": [
      "Load IGRF coefficients ...\n"
     ]
    }
   ],
   "source": [
    "import numpy as np\n",
    "import xarray as xr\n",
    "import matplotlib.pylab as pl\n",
    "import matplotlib.pyplot as plt\n",
    "\n",
    "from pyrfu import mms, pyrf\n",
    "from pyrfu.plot import plot_line, plot_spectr, plot_projection"
   ]
  },
  {
   "cell_type": "markdown",
   "metadata": {},
   "source": [
    "## Define spacecraft index, time interval and data path"
   ]
  },
  {
   "cell_type": "code",
   "execution_count": 2,
   "metadata": {},
   "outputs": [],
   "source": [
    "mms_id = 3\n",
    "tint = [\"2015-12-02T01:14:15.000\", \"2015-12-02T01:15:13.000\"]\n",
    "mms.db_init(\"/Volumes/mms\")"
   ]
  },
  {
   "cell_type": "markdown",
   "metadata": {},
   "source": [
    "## Load Velocity Distribution Functions (VDFs)"
   ]
  },
  {
   "cell_type": "code",
   "execution_count": 3,
   "metadata": {},
   "outputs": [
    {
     "name": "stderr",
     "output_type": "stream",
     "text": [
      "[08-Jun-23 18:30:18] INFO: Loading mms3_dis_dist_brst...\n",
      "[08-Jun-23 18:30:18] WARNING: /usr/local/lib/python3.10/site-packages/pyrfu/mms/get_dist.py:68: UserWarning: Epoch_plus_var/Epoch_minus_var units are not clear, assume s\n",
      "  warnings.warn(message)\n",
      "\n",
      "[08-Jun-23 18:30:19] INFO: Loading mms3_des_dist_brst...\n"
     ]
    }
   ],
   "source": [
    "vdf_i = mms.get_data(\"pdi_fpi_brst_l2\", tint, mms_id)\n",
    "vdf_e = mms.get_data(\"pde_fpi_brst_l2\", tint, mms_id)"
   ]
  },
  {
   "cell_type": "markdown",
   "metadata": {},
   "source": [
    "## Load supporting information"
   ]
  },
  {
   "cell_type": "code",
   "execution_count": 4,
   "metadata": {},
   "outputs": [
    {
     "name": "stderr",
     "output_type": "stream",
     "text": [
      "[08-Jun-23 18:30:23] INFO: Loading mms3_fgm_b_dmpa_brst_l2...\n",
      "[08-Jun-23 18:30:23] INFO: Loading mms3_edp_dce_dsl_brst_l2...\n",
      "[08-Jun-23 18:30:25] INFO: Loading mms3_edp_scpot_brst_l2...\n"
     ]
    }
   ],
   "source": [
    "b_xyz = mms.get_data(\"b_dmpa_fgm_brst_l2\", tint, mms_id)\n",
    "e_xyz = mms.get_data(\"e_dsl_edp_brst_l2\", tint, mms_id)\n",
    "sc_pot = mms.get_data(\"v_edp_brst_l2\", tint, mms_id)"
   ]
  },
  {
   "cell_type": "markdown",
   "metadata": {},
   "source": [
    "## Example operations"
   ]
  },
  {
   "cell_type": "markdown",
   "metadata": {},
   "source": [
    "### Omnidirectional differential energy flux"
   ]
  },
  {
   "cell_type": "code",
   "execution_count": 5,
   "metadata": {},
   "outputs": [],
   "source": [
    "vdf_e_omni = mms.vdf_omni(vdf_e)"
   ]
  },
  {
   "cell_type": "markdown",
   "metadata": {},
   "source": [
    "### Construt pitchangle distribution"
   ]
  },
  {
   "cell_type": "code",
   "execution_count": 6,
   "metadata": {},
   "outputs": [
    {
     "name": "stderr",
     "output_type": "stream",
     "text": [
      "[08-Jun-23 18:30:26] INFO: User defined number of pitch angles.\n",
      "[08-Jun-23 18:30:26] INFO: Using averages in resample\n"
     ]
    }
   ],
   "source": [
    "vdf_e_pad = mms.get_pitch_angle_dist(vdf_e, b_xyz, tint=tint, angles=24)"
   ]
  },
  {
   "cell_type": "markdown",
   "metadata": {},
   "source": [
    "### Limit energy range"
   ]
  },
  {
   "cell_type": "code",
   "execution_count": 7,
   "metadata": {},
   "outputs": [
    {
     "name": "stderr",
     "output_type": "stream",
     "text": [
      "[08-Jun-23 18:30:41] INFO: Effective eint = [10.96, 191.15]\n"
     ]
    }
   ],
   "source": [
    "vdf_e_lowen = mms.vdf_elim(vdf_e, [0, 200])"
   ]
  },
  {
   "cell_type": "markdown",
   "metadata": {},
   "source": [
    "### Change units to differential energy flux"
   ]
  },
  {
   "cell_type": "code",
   "execution_count": 8,
   "metadata": {},
   "outputs": [],
   "source": [
    "vdf_e_deflux = mms.psd2def(vdf_e)"
   ]
  },
  {
   "cell_type": "markdown",
   "metadata": {},
   "source": [
    "### Change units to particle energy flux"
   ]
  },
  {
   "cell_type": "code",
   "execution_count": 9,
   "metadata": {},
   "outputs": [],
   "source": [
    "vdf_e_dpflux = mms.psd2dpf(vdf_e)"
   ]
  },
  {
   "cell_type": "markdown",
   "metadata": {},
   "source": [
    "### Resample energy to 64 energy levels, reduces the time resolution"
   ]
  },
  {
   "cell_type": "code",
   "execution_count": 10,
   "metadata": {},
   "outputs": [
    {
     "ename": "KeyError",
     "evalue": "'UNITS'",
     "output_type": "error",
     "traceback": [
      "\u001b[0;31m---------------------------------------------------------------------------\u001b[0m",
      "\u001b[0;31mKeyError\u001b[0m                                  Traceback (most recent call last)",
      "Cell \u001b[0;32mIn[10], line 1\u001b[0m\n\u001b[0;32m----> 1\u001b[0m vdf_e_e64 \u001b[38;5;241m=\u001b[39m \u001b[43mmms\u001b[49m\u001b[38;5;241;43m.\u001b[39;49m\u001b[43mvdf_to_e64\u001b[49m\u001b[43m(\u001b[49m\u001b[43mvdf_e\u001b[49m\u001b[43m)\u001b[49m\n",
      "File \u001b[0;32m/usr/local/lib/python3.10/site-packages/pyrfu/mms/vdf_to_e64.py:76\u001b[0m, in \u001b[0;36mvdf_to_e64\u001b[0;34m(vdf_e32)\u001b[0m\n\u001b[1;32m     74\u001b[0m vdf_e64\u001b[38;5;241m.\u001b[39mattrs[\u001b[38;5;124m\"\u001b[39m\u001b[38;5;124mesteptable\u001b[39m\u001b[38;5;124m\"\u001b[39m] \u001b[38;5;241m=\u001b[39m np\u001b[38;5;241m.\u001b[39mzeros(\u001b[38;5;28mlen\u001b[39m(time_r))\n\u001b[1;32m     75\u001b[0m vdf_e64\u001b[38;5;241m.\u001b[39mattrs[\u001b[38;5;124m\"\u001b[39m\u001b[38;5;124mspecies\u001b[39m\u001b[38;5;124m\"\u001b[39m] \u001b[38;5;241m=\u001b[39m vdf_e32\u001b[38;5;241m.\u001b[39mattrs[\u001b[38;5;124m\"\u001b[39m\u001b[38;5;124mspecies\u001b[39m\u001b[38;5;124m\"\u001b[39m]\n\u001b[0;32m---> 76\u001b[0m vdf_e64\u001b[38;5;241m.\u001b[39mattrs[\u001b[38;5;124m\"\u001b[39m\u001b[38;5;124mUNITS\u001b[39m\u001b[38;5;124m\"\u001b[39m] \u001b[38;5;241m=\u001b[39m \u001b[43mvdf_e32\u001b[49m\u001b[38;5;241;43m.\u001b[39;49m\u001b[43mattrs\u001b[49m\u001b[43m[\u001b[49m\u001b[38;5;124;43m\"\u001b[39;49m\u001b[38;5;124;43mUNITS\u001b[39;49m\u001b[38;5;124;43m\"\u001b[39;49m\u001b[43m]\u001b[49m\n\u001b[1;32m     78\u001b[0m \u001b[38;5;28;01mreturn\u001b[39;00m vdf_e64\n",
      "\u001b[0;31mKeyError\u001b[0m: 'UNITS'"
     ]
    }
   ],
   "source": [
    "vdf_e_e64 = mms.vdf_to_e64(vdf_e)"
   ]
  },
  {
   "cell_type": "code",
   "execution_count": null,
   "metadata": {},
   "outputs": [],
   "source": [
    "vdf_e_pa_lowen = mms.get_pitch_angle_dist(\n",
    "    mms.vdf_elim(vdf_e_e64, [20, 200]), b_xyz, tint=tint, angles=18\n",
    ")\n",
    "vdf_e_pa_lowen_spectr = xr.DataArray(\n",
    "    np.nanmean(vdf_e_pa_lowen.data, axis=1),\n",
    "    coords=[vdf_e_pa_lowen.time.data, vdf_e_pa_lowen.theta.data[0, :]],\n",
    "    dims=[\"time\", \"theta\"],\n",
    ")\n",
    "\n",
    "vdf_e_pa_miden = mms.get_pitch_angle_dist(\n",
    "    mms.vdf_elim(vdf_e_e64, [200, 2000]), b_xyz, tint=tint, angles=18\n",
    ")\n",
    "vdf_e_pa_miden_spectr = xr.DataArray(\n",
    "    np.nanmean(vdf_e_pa_miden.data, axis=1),\n",
    "    coords=[vdf_e_pa_miden.time.data, vdf_e_pa_miden.theta.data[0, :]],\n",
    "    dims=[\"time\", \"theta\"],\n",
    ")"
   ]
  },
  {
   "cell_type": "markdown",
   "metadata": {},
   "source": [
    "## Plot"
   ]
  },
  {
   "cell_type": "code",
   "execution_count": null,
   "metadata": {
    "scrolled": false
   },
   "outputs": [],
   "source": [
    "f, axs = plt.subplots(7, sharex=\"all\", figsize=(9, 13))\n",
    "f.subplots_adjust(hspace=0, left=0.1, right=0.82, bottom=0.05, top=0.95)\n",
    "\n",
    "plot_line(axs[0], b_xyz)\n",
    "plot_line(axs[0], pyrf.norm(b_xyz))\n",
    "axs[0].legend([\"$B_x$\", \"$B_y$\", \"$B_z$\", \"$|B|$\"], bbox_to_anchor=(1, 1.05))\n",
    "axs[0].set_ylabel(\"$B$ [nT]\")\n",
    "axs[0].set_title(f\"MMS{mms_id:d}\")\n",
    "\n",
    "\n",
    "axs[1], caxs1 = plot_spectr(\n",
    "    axs[1], mms.vdf_omni(vdf_e), yscale=\"log\", cscale=\"log\", cmap=\"jet\"\n",
    ")\n",
    "axs[1].set_yticks(np.logspace(1, 4, 4))\n",
    "caxs1.set_ylabel(\"PSD\" + \"\\n\" + \"[s$^{3}$ cm$^{-6}$]\")\n",
    "axs[1].set_ylabel(\"$E_e$ [eV]\")\n",
    "\n",
    "e_lim = [20, 200]\n",
    "vdf_e_pa_lowen = mms.get_pitch_angle_dist(\n",
    "    mms.vdf_elim(vdf_e_e64, e_lim), b_xyz, tint=tint, angles=18\n",
    ")\n",
    "vdf_e_pa_lowen_spectr = xr.DataArray(\n",
    "    np.nanmean(vdf_e_pa_lowen.data, axis=1),\n",
    "    coords=[vdf_e_pa_lowen.time.data, vdf_e_pa_lowen.theta.data[0, :]],\n",
    "    dims=[\"time\", \"theta\"],\n",
    ")\n",
    "\n",
    "axs[2], caxs2 = plot_spectr(axs[2], vdf_e_pa_lowen_spectr, cscale=\"log\", cmap=\"jet\")\n",
    "axs[2].set_yticks([0, 45, 90, 135])\n",
    "caxs2.set_ylabel(\"PSD\" + \"\\n\" + \"[s$^{3}$ cm$^{-6}$]\")\n",
    "axs[2].set_ylabel(\"$\\\\theta$ [deg.]\")\n",
    "\n",
    "axs[2].text(\n",
    "    0.03,\n",
    "    0.1,\n",
    "    f\"{e_lim[0]:d} < $E_e$ < {e_lim[1]:d} eV\",\n",
    "    transform=axs[2].transAxes,\n",
    "    bbox=dict(boxstyle=\"square\", ec=(1.0, 1.0, 1.0), fc=(1.0, 1.0, 1.0)),\n",
    ")\n",
    "\n",
    "\n",
    "e_lim = [200, 2000]\n",
    "vdf_e_pa_miden = mms.get_pitch_angle_dist(\n",
    "    mms.vdf_elim(vdf_e_e64, e_lim), b_xyz, tint=tint, angles=18\n",
    ")\n",
    "vdf_e_pa_miden_spectr = xr.DataArray(\n",
    "    np.nanmean(vdf_e_pa_miden.data, axis=1),\n",
    "    coords=[vdf_e_pa_miden.time.data, vdf_e_pa_miden.theta.data[0, :]],\n",
    "    dims=[\"time\", \"theta\"],\n",
    ")\n",
    "\n",
    "axs[3], caxs3 = plot_spectr(axs[3], vdf_e_pa_miden_spectr, cscale=\"log\", cmap=\"jet\")\n",
    "axs[3].set_yticks([0, 45, 90, 135])\n",
    "caxs3.set_ylabel(\"PSD\" + \"\\n\" + \"[s$^{3}$ cm$^{-6}$]\")\n",
    "axs[3].set_ylabel(\"$\\\\theta$ [deg.]\")\n",
    "\n",
    "axs[3].text(\n",
    "    0.03,\n",
    "    0.1,\n",
    "    f\"{e_lim[0]:d} < $E_e$ < {e_lim[1]:d} eV\",\n",
    "    transform=axs[3].transAxes,\n",
    "    bbox=dict(boxstyle=\"square\", ec=(1.0, 1.0, 1.0), fc=(1.0, 1.0, 1.0)),\n",
    ")\n",
    "\n",
    "\n",
    "pa_lim = [0, 15]\n",
    "vdf_e_lowan = mms.get_pitch_angle_dist(\n",
    "    mms.vdf_to_e64(vdf_e), b_xyz, tint=tint, angles=pa_lim\n",
    ")\n",
    "vdf_e_lowan_spectr = xr.DataArray(\n",
    "    np.nanmean(vdf_e_lowan.data, axis=2),\n",
    "    coords=[vdf_e_lowan.time.data, vdf_e_lowan.energy.data[0, :]],\n",
    "    dims=[\"time\", \"energy\"],\n",
    ")\n",
    "\n",
    "axs[4], caxs4 = plot_spectr(\n",
    "    axs[4], vdf_e_lowan_spectr, yscale=\"log\", cscale=\"log\", cmap=\"jet\"\n",
    ")\n",
    "caxs4.set_ylabel(\"PSD\" + \"\\n\" + \"[s$^{3}$ cm$^{-6}$]\")\n",
    "axs[4].set_ylabel(\"$E_e$ [eV]\")\n",
    "\n",
    "axs[4].text(\n",
    "    0.03,\n",
    "    0.1,\n",
    "    f\"{pa_lim[0]:d}$^\\\\circ$ < $\\\\theta$ < {pa_lim[1]:d}$^\\\\circ$\",\n",
    "    transform=axs[4].transAxes,\n",
    "    bbox=dict(boxstyle=\"square\", ec=(1.0, 1.0, 1.0), fc=(1.0, 1.0, 1.0)),\n",
    ")\n",
    "\n",
    "pa_lim = [75, 105]\n",
    "vdf_e_midan = mms.get_pitch_angle_dist(\n",
    "    mms.vdf_to_e64(vdf_e), b_xyz, tint=tint, angles=pa_lim\n",
    ")\n",
    "vdf_e_midan_spectr = xr.DataArray(\n",
    "    np.nanmean(vdf_e_midan.data, axis=2),\n",
    "    coords=[vdf_e_midan.time.data, vdf_e_midan.energy.data[0, :]],\n",
    "    dims=[\"time\", \"energy\"],\n",
    ")\n",
    "\n",
    "axs[5], caxs5 = plot_spectr(\n",
    "    axs[5], vdf_e_midan_spectr, yscale=\"log\", cscale=\"log\", cmap=\"jet\"\n",
    ")\n",
    "caxs5.set_ylabel(\"PSD\" + \"\\n\" + \"[s$^{3}$ cm$^{-6}$]\")\n",
    "axs[5].set_ylabel(\"$E_e$ [eV]\")\n",
    "\n",
    "axs[5].text(\n",
    "    0.03,\n",
    "    0.1,\n",
    "    f\"{pa_lim[0]:d}$^\\\\circ$ < $\\\\theta$ < {pa_lim[1]:d}$^\\\\circ$\",\n",
    "    transform=axs[5].transAxes,\n",
    "    bbox=dict(boxstyle=\"square\", ec=(1.0, 1.0, 1.0), fc=(1.0, 1.0, 1.0)),\n",
    ")\n",
    "\n",
    "pa_lim = [165, 180]\n",
    "vdf_e_higan = mms.get_pitch_angle_dist(\n",
    "    mms.vdf_to_e64(vdf_e), b_xyz, tint=tint, angles=pa_lim\n",
    ")\n",
    "vdf_e_higan_spectr = xr.DataArray(\n",
    "    np.nanmean(vdf_e_higan.data, axis=2),\n",
    "    coords=[vdf_e_higan.time.data, vdf_e_higan.energy.data[0, :]],\n",
    "    dims=[\"time\", \"energy\"],\n",
    ")\n",
    "\n",
    "axs[6], caxs6 = plot_spectr(\n",
    "    axs[6], vdf_e_higan_spectr, yscale=\"log\", cscale=\"log\", cmap=\"jet\"\n",
    ")\n",
    "caxs6.set_ylabel(\"PSD\" + \"\\n\" + \"[s$^{3}$ cm$^{-6}$]\")\n",
    "axs[6].set_ylabel(\"$E_e$ [eV]\")\n",
    "\n",
    "axs[6].text(\n",
    "    0.03,\n",
    "    0.1,\n",
    "    f\"{pa_lim[0]:d}$^\\\\circ$ < $\\\\theta$ < {pa_lim[1]:d}$^\\\\circ$\",\n",
    "    transform=axs[6].transAxes,\n",
    "    bbox=dict(boxstyle=\"square\", ec=(1.0, 1.0, 1.0), fc=(1.0, 1.0, 1.0)),\n",
    ")"
   ]
  },
  {
   "cell_type": "markdown",
   "metadata": {},
   "source": [
    "## Project distribution onto the (E, ExB), (ExB, B), (B, E)"
   ]
  },
  {
   "cell_type": "markdown",
   "metadata": {},
   "source": [
    "### Compute pitchangle distribution with 17 angles"
   ]
  },
  {
   "cell_type": "code",
   "execution_count": null,
   "metadata": {},
   "outputs": [],
   "source": [
    "vdf_e_pad = mms.get_pitch_angle_dist(vdf_e, b_xyz, tint, angles=17)"
   ]
  },
  {
   "cell_type": "markdown",
   "metadata": {},
   "source": [
    "### Resample background magnetic field, electric field and ExB drift"
   ]
  },
  {
   "cell_type": "code",
   "execution_count": null,
   "metadata": {},
   "outputs": [],
   "source": [
    "b_0 = pyrf.resample(b_xyz, vdf_e)\n",
    "e_0 = pyrf.resample(e_xyz, vdf_e)\n",
    "exb = pyrf.cross(e_0, b_0)"
   ]
  },
  {
   "cell_type": "markdown",
   "metadata": {},
   "source": [
    "## Plot"
   ]
  },
  {
   "cell_type": "code",
   "execution_count": null,
   "metadata": {},
   "outputs": [],
   "source": [
    "idx = 1339\n",
    "x = e_0.data[idx, :]\n",
    "y = exb.data[idx, :]\n",
    "z = b_0.data[idx, :]\n",
    "time = list(pyrf.datetime642iso8601(vdf_e.time.data[idx]))"
   ]
  },
  {
   "cell_type": "code",
   "execution_count": null,
   "metadata": {},
   "outputs": [],
   "source": [
    "f = plt.figure(figsize=(9, 9))\n",
    "gsp1 = f.add_gridspec(2, 3, hspace=0, bottom=0.07, top=0.99, left=0.1, right=0.9)\n",
    "\n",
    "gsp10 = gsp1[0, :].subgridspec(1, 3, hspace=0)\n",
    "gsp11 = gsp1[1, :].subgridspec(1, 2, hspace=0)\n",
    "\n",
    "# Create axes in the grid spec\n",
    "axs10 = [f.add_subplot(gsp10[i]) for i in range(3)]\n",
    "axs11 = [f.add_subplot(gsp11[i]) for i in range(2)]\n",
    "\n",
    "f.subplots_adjust(wspace=0.4)\n",
    "v_x, v_y, f_mat = mms.vdf_projection(\n",
    "    vdf_e, time, np.vstack([x, y, -z]), sc_pot, e_lim=15\n",
    ")\n",
    "axs10[0], caxs10 = plot_projection(\n",
    "    axs10[0], v_x, v_y, f_mat * 1e12, vlim=12e3, clim=[-18, -13], cbar_pos=\"top\"\n",
    ")\n",
    "axs10[0].set_xlabel(\"$V_{E}$ [Mm s$^{-1}$]\")\n",
    "axs10[0].set_ylabel(\"$V_{E\\\\times B}$ [Mm s$^{-1}$]\")\n",
    "caxs10.set_xlabel(\"log$_{10} f_e$ [s$^{3}$ m$^{-6}$]\")\n",
    "\n",
    "v_x, v_y, f_mat = mms.vdf_projection(\n",
    "    vdf_e, time, np.vstack([y, z, -x]), sc_pot, e_lim=15\n",
    ")\n",
    "axs10[1], caxs11 = plot_projection(\n",
    "    axs10[1], v_x, v_y, f_mat * 1e12, vlim=12e3, clim=[-18, -13], cbar_pos=\"top\"\n",
    ")\n",
    "axs10[1].set_xlabel(\"$V_{E\\\\times B}$ [Mm s$^{-1}$]\")\n",
    "axs10[1].set_ylabel(\"$V_{B}$ [Mm s$^{-1}$]\")\n",
    "caxs11.set_xlabel(\"log$_{10} f_e$ [s$^{3}$ m$^{-6}$]\")\n",
    "\n",
    "v_x, v_y, f_mat = mms.vdf_projection(\n",
    "    vdf_e, time, np.vstack([z, x, -y]), sc_pot, e_lim=15\n",
    ")\n",
    "axs10[2], caxs12 = plot_projection(\n",
    "    axs10[2], v_x, v_y, f_mat * 1e12, vlim=12e3, clim=[-18, -13], cbar_pos=\"top\"\n",
    ")\n",
    "axs10[2].set_xlabel(\"$V_{B}$ [Mm s$^{-1}$]\")\n",
    "axs10[2].set_ylabel(\"$V_{E}$ [Mm s$^{-1}$]\")\n",
    "caxs12.set_xlabel(\"log$_{10} f_e$ [s$^{3}$ m$^{-6}$]\")\n",
    "\n",
    "\n",
    "axs11[0].loglog(\n",
    "    vdf_e_pad.energy.data[idx, :],\n",
    "    vdf_e_pad.data.data[idx, :, 0],\n",
    "    label=\"$\\\\theta = 0$ deg.\",\n",
    ")\n",
    "axs11[0].loglog(\n",
    "    vdf_e_pad.energy.data[idx, :],\n",
    "    vdf_e_pad.data.data[idx, :, 9],\n",
    "    label=\"$\\\\theta = 90$ deg.\",\n",
    ")\n",
    "axs11[0].loglog(\n",
    "    vdf_e_pad.energy.data[idx, :],\n",
    "    vdf_e_pad.data.data[idx, :, -1],\n",
    "    label=\"$\\\\theta = 180$ deg.\",\n",
    ")\n",
    "\n",
    "axs11[0].legend()\n",
    "axs11[0].set_xlim([1e1, 1e3])\n",
    "axs11[0].set_xlabel(\"$E_e$ [eV]\")\n",
    "axs11[0].set_ylim([1e-31, 2e-26])\n",
    "axs11[0].set_ylabel(\"$f_e$ [s$^{3}$ cm$^{-6}$]\")\n",
    "\n",
    "\n",
    "colors = pl.cm.jet(np.linspace(0, 1, len(vdf_e_pad.energy[idx, :])))\n",
    "for i_en in range(len(vdf_e_pad.energy[idx, :])):\n",
    "    axs11[1].semilogy(\n",
    "        vdf_e_pad.theta.data[idx, :],\n",
    "        vdf_e_pad.data.data[idx, i_en, :],\n",
    "        color=colors[i_en],\n",
    "        label=f\"{vdf_e_pad.energy.data[idx, i_en]:5.2f} eV\",\n",
    "    )\n",
    "\n",
    "axs11[1].set_xlim([0, 180.0])\n",
    "axs11[1].set_xlabel(\"$\\\\theta$ [deg.]\")\n",
    "axs11[1].set_ylim([1e-31, 2e-26])\n",
    "axs11[1].set_ylabel(\"$f_e$ [s$^{3}$ cm$^{-6}$]\")\n",
    "\n",
    "axs11[1].set_xticks([0, 45, 90, 135, 180])\n",
    "\n",
    "f.suptitle(time[0])"
   ]
  },
  {
   "cell_type": "code",
   "execution_count": null,
   "metadata": {},
   "outputs": [],
   "source": []
  },
  {
   "cell_type": "code",
   "execution_count": null,
   "metadata": {},
   "outputs": [],
   "source": []
  }
 ],
 "metadata": {
  "kernelspec": {
   "display_name": "Python 3 (ipykernel)",
   "language": "python",
   "name": "python3"
  },
  "language_info": {
   "codemirror_mode": {
    "name": "ipython",
    "version": 3
   },
   "file_extension": ".py",
   "mimetype": "text/x-python",
   "name": "python",
   "nbconvert_exporter": "python",
   "pygments_lexer": "ipython3",
   "version": "3.10.10"
  }
 },
 "nbformat": 4,
 "nbformat_minor": 4
}
