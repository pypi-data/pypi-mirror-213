{
 "cells": [
  {
   "cell_type": "code",
   "execution_count": null,
   "id": "1e7b03a1",
   "metadata": {},
   "outputs": [],
   "source": [
    "# OPTIONAL: Load the \"autoreload\" extension so that code can change\n",
    "%load_ext autoreload\n",
    "\n",
    "# OPTIONAL: always reload modules so that as you change code in src, it gets loaded\n",
    "%autoreload 2"
   ]
  },
  {
   "cell_type": "code",
   "execution_count": null,
   "id": "73f86a54",
   "metadata": {},
   "outputs": [],
   "source": [
    "import pandas as pd\n",
    "import numpy as np\n",
    "import matplotlib.pyplot as plt"
   ]
  },
  {
   "cell_type": "code",
   "execution_count": null,
   "id": "a90f3788",
   "metadata": {},
   "outputs": [],
   "source": [
    "from pathlib import Path\n"
   ]
  },
  {
   "cell_type": "code",
   "execution_count": null,
   "id": "9447e0e4",
   "metadata": {},
   "outputs": [],
   "source": [
    "fmap_rainfall = Path(r\"./tests/data/test_rainfalldata\")\n",
    "fmap_erosivity = Path(r\"./tests/data/test_erosivitydata/\") # Folder path where results are written to (see above)."
   ]
  },
  {
   "cell_type": "raw",
   "id": "7d766a69",
   "metadata": {},
   "source": [
    "from rfactor.process import ErosivityData\n",
    "\n",
    "erosivitydata = ErosivityData(fmap_rainfall, fmap_erosivity)\n",
    "df_files = erosivitydata.build_data_set()\n",
    "erosivitydata.load_data(df_files)"
   ]
  },
  {
   "cell_type": "raw",
   "id": "4db32a59",
   "metadata": {},
   "source": [
    "all_rainfall = erosivitydata.load_rainfall()\n",
    "(all_rainfall[[\"value\", \"station\"]]\n",
    " .reset_index()\n",
    " .rename(columns={\"index\":\"datetime\", \"value\": \"rain_mm\"})\n",
    " .to_csv(\"./tests/data/demo_rainfall.csv\", index=False))"
   ]
  },
  {
   "cell_type": "markdown",
   "id": "f7f3c3b0",
   "metadata": {},
   "source": [
    "# Erosivity calculation"
   ]
  },
  {
   "cell_type": "markdown",
   "id": "735e2708",
   "metadata": {},
   "source": [
    "Input is a rainfall time series:"
   ]
  },
  {
   "cell_type": "code",
   "execution_count": null,
   "id": "2db04215",
   "metadata": {},
   "outputs": [],
   "source": [
    "from rfactor.process import load_rain_folder"
   ]
  },
  {
   "cell_type": "code",
   "execution_count": null,
   "id": "df44fdfb",
   "metadata": {},
   "outputs": [],
   "source": [
    "all_rainfall = load_rain_folder(Path(\"../../tests/data/test_rainfalldata/\"))"
   ]
  },
  {
   "cell_type": "code",
   "execution_count": null,
   "id": "870005bb",
   "metadata": {},
   "outputs": [],
   "source": [
    "all_rainfall.shape"
   ]
  },
  {
   "cell_type": "code",
   "execution_count": null,
   "id": "5b077ffd",
   "metadata": {},
   "outputs": [],
   "source": [
    "all_rainfall.head()"
   ]
  },
  {
   "cell_type": "markdown",
   "id": "c8f84a11",
   "metadata": {},
   "source": [
    "Algorithm works on year/station basis, so let's pick a year and a station for further development:"
   ]
  },
  {
   "cell_type": "code",
   "execution_count": null,
   "id": "d58f84f1",
   "metadata": {},
   "outputs": [],
   "source": [
    "P01_001_2018 = all_rainfall[(all_rainfall[\"station\"] == \"P01_001\") & \n",
    "                            (all_rainfall[\"datetime\"].dt.year == 2018)].copy()"
   ]
  },
  {
   "cell_type": "code",
   "execution_count": null,
   "id": "1d0d7302",
   "metadata": {},
   "outputs": [],
   "source": [
    "P01_001_2018.set_index(\"datetime\")[\"rain_mm\"].plot(figsize=(18, 4))"
   ]
  },
  {
   "cell_type": "code",
   "execution_count": null,
   "id": "2e59188f",
   "metadata": {},
   "outputs": [],
   "source": [
    "P01_001_2018.head()"
   ]
  },
  {
   "cell_type": "code",
   "execution_count": null,
   "id": "c5ba3a5f",
   "metadata": {},
   "outputs": [],
   "source": [
    "# From datetime to minutes difference since start of the year - bit hacky\n",
    "current_year = int(P01_001_2018[\"datetime\"].dt.year.unique()[0])\n",
    "start_shift = (P01_001_2018.iloc[0, 2] - pd.Timestamp(f\"{current_year}-01-01\")).total_seconds() /60.\n",
    "P01_001_2018[\"min_since_start_year\"] = P01_001_2018[\"datetime\"].diff().dt.total_seconds().cumsum() /60. + start_shift\n",
    "P01_001_2018.iloc[0, -1] = start_shift"
   ]
  },
  {
   "cell_type": "code",
   "execution_count": null,
   "id": "19b19d4f",
   "metadata": {},
   "outputs": [],
   "source": [
    "P01_001_2018.head()"
   ]
  },
  {
   "cell_type": "markdown",
   "id": "811907a6",
   "metadata": {},
   "source": [
    "## The erosivity implementation"
   ]
  },
  {
   "cell_type": "markdown",
   "id": "07f3e81c",
   "metadata": {},
   "source": [
    "### 1. Define starting point the individual rain events"
   ]
  },
  {
   "cell_type": "code",
   "execution_count": null,
   "id": "53c3a03f",
   "metadata": {},
   "outputs": [],
   "source": [
    "event_split = \"6 hours\""
   ]
  },
  {
   "cell_type": "code",
   "execution_count": null,
   "id": "20e3cd4c",
   "metadata": {},
   "outputs": [],
   "source": [
    "P01_001_2018[\"event_start\"] = False\n",
    "P01_001_2018.loc[P01_001_2018[\"datetime\"].diff() >= event_split, \"event_start\"] = True  # var c in matlab\n",
    "P01_001_2018.loc[P01_001_2018.index[0], \"event_start\"] = True"
   ]
  },
  {
   "cell_type": "code",
   "execution_count": null,
   "id": "8922d4db",
   "metadata": {},
   "outputs": [],
   "source": [
    "P01_001_2018.head(10)"
   ]
  },
  {
   "cell_type": "code",
   "execution_count": null,
   "id": "aad6ee69",
   "metadata": {},
   "outputs": [],
   "source": [
    "max_idx_distance = pd.Series(P01_001_2018[P01_001_2018[\"event_start\"] == True].index).diff().max() #var max in matlab\n",
    "max_idx_distance"
   ]
  },
  {
   "cell_type": "markdown",
   "id": "fbb0e602",
   "metadata": {},
   "source": [
    "__?? `max` is the maximum distance in terms of index difference -> also in terms of time the longest event?__\n",
    "\n",
    "-> use is to define the size of the matrix in the next step to make sure the longest event fits;"
   ]
  },
  {
   "cell_type": "markdown",
   "id": "b94e2dea",
   "metadata": {},
   "source": [
    "### 2. Isolate the individual rain events -> I add an event idx"
   ]
  },
  {
   "cell_type": "code",
   "execution_count": null,
   "id": "da4658fe",
   "metadata": {},
   "outputs": [],
   "source": [
    "P01_001_2018[\"event_idx\"] = P01_001_2018[\"event_start\"].cumsum()"
   ]
  },
  {
   "cell_type": "code",
   "execution_count": null,
   "id": "2108a3bd",
   "metadata": {},
   "outputs": [],
   "source": [
    "P01_001_2018"
   ]
  },
  {
   "cell_type": "markdown",
   "id": "de963947",
   "metadata": {},
   "source": [
    "__What about lines 72-86 in matlab? add time steps with zero-rain values?__\n",
    "\n",
    "-> probably not required if everything fits in groupby approach"
   ]
  },
  {
   "cell_type": "markdown",
   "id": "ea70ada1",
   "metadata": {},
   "source": [
    "### 3a. Cumulative rain for each event"
   ]
  },
  {
   "cell_type": "code",
   "execution_count": null,
   "id": "34da0ae9",
   "metadata": {},
   "outputs": [],
   "source": [
    "P01_001_2018[\"event_rain_cum\"] = P01_001_2018.groupby(\"event_idx\")[\"rain_mm\"].cumsum()"
   ]
  },
  {
   "cell_type": "code",
   "execution_count": null,
   "id": "739c4c4c",
   "metadata": {},
   "outputs": [],
   "source": [
    "P01_001_2018.head()"
   ]
  },
  {
   "cell_type": "markdown",
   "id": "6569d252",
   "metadata": {},
   "source": [
    "### 3b. Rain energy"
   ]
  },
  {
   "cell_type": "markdown",
   "id": "6a1967c0",
   "metadata": {},
   "source": [
    "Example with a single event"
   ]
  },
  {
   "cell_type": "code",
   "execution_count": null,
   "id": "f28342dd",
   "metadata": {},
   "outputs": [],
   "source": [
    "temp = P01_001_2018[P01_001_2018[\"event_idx\"] == 1].copy()"
   ]
  },
  {
   "cell_type": "code",
   "execution_count": null,
   "id": "9f8b343d",
   "metadata": {},
   "outputs": [],
   "source": [
    "temp[\"rain_energy\"] = 0.1112*((temp[\"rain_mm\"]*6.)**0.31)*temp[\"rain_mm\"]"
   ]
  },
  {
   "cell_type": "markdown",
   "id": "e4c21de2",
   "metadata": {},
   "source": [
    "__?? line 105, should it be j or 1? BUG?__\n",
    "\n",
    "```\n",
    "% j is currently 135 and NOT 1\n",
    "pluviophase(5,j,i)=0.1112*(pluviophase(4,j,i)^0.31);  % berekenen van neerslagenergie per mm\n",
    "```\n",
    "\n",
    "__?? factor 6 on line 104 -> tight linked to 10min interval?__  YES IT IS!"
   ]
  },
  {
   "cell_type": "code",
   "execution_count": null,
   "id": "f86ef97b",
   "metadata": {},
   "outputs": [],
   "source": [
    "temp[\"rain_energy\"].sum() # to make comparible with matlab version add `- 0.034867`"
   ]
  },
  {
   "cell_type": "code",
   "execution_count": null,
   "id": "6a69338f",
   "metadata": {},
   "outputs": [],
   "source": [
    "temp.head()"
   ]
  },
  {
   "cell_type": "code",
   "execution_count": null,
   "id": "d991bfb1",
   "metadata": {},
   "outputs": [],
   "source": [
    "def rain_energy_per_unit(rain):\n",
    "    \"\"\"\"\"\"\n",
    "    rain_energy = 0.1112*((rain*6.)**0.31)*rain\n",
    "    return rain_energy.sum()"
   ]
  },
  {
   "cell_type": "code",
   "execution_count": null,
   "id": "e6c84d28",
   "metadata": {},
   "outputs": [],
   "source": [
    "rain_energy_per_unit(temp[\"rain_mm\"])"
   ]
  },
  {
   "cell_type": "markdown",
   "id": "19e226ce",
   "metadata": {},
   "source": [
    "Apply the calculation to the entire set of defined rain events:"
   ]
  },
  {
   "cell_type": "code",
   "execution_count": null,
   "id": "7a974bc0",
   "metadata": {},
   "outputs": [],
   "source": [
    "P01_001_2018[\"event_energy\"] = P01_001_2018.groupby(\"event_idx\")[\"rain_mm\"].transform(rain_energy_per_unit)"
   ]
  },
  {
   "cell_type": "code",
   "execution_count": null,
   "id": "5b241aee",
   "metadata": {},
   "outputs": [],
   "source": [
    "P01_001_2018.head(20)"
   ]
  },
  {
   "cell_type": "markdown",
   "id": "68831b89",
   "metadata": {},
   "source": [
    "### 4. Maximum intensity within 30 minutes"
   ]
  },
  {
   "cell_type": "markdown",
   "id": "40cc36b9",
   "metadata": {},
   "source": [
    "First work on a subset of the data:"
   ]
  },
  {
   "cell_type": "code",
   "execution_count": null,
   "id": "548f2b66",
   "metadata": {},
   "outputs": [],
   "source": [
    "temp = P01_001_2018[P01_001_2018[\"event_idx\"] == 1].copy()"
   ]
  },
  {
   "cell_type": "code",
   "execution_count": null,
   "id": "e53fadb1",
   "metadata": {},
   "outputs": [],
   "source": [
    "temp.head()"
   ]
  },
  {
   "cell_type": "markdown",
   "id": "f1b8566d",
   "metadata": {},
   "source": [
    "__- ?? Are the lines #L134-L144 effectively used in the code? In lines #L149-L150 the variables are overwritten (also warning by matlab itself__\n",
    "\n",
    "__- ?? Why is on line #L159 a factor 2 required? As it gets multiplied again later?__\n",
    "\n",
    "__- ?? Why is on line #L130 the lenght of the interval only 20minutes? If the concept is 20 + 5 min in each direction of the interval, one would assume 10' input data? Is this a valid assumption as I do not see any input check and other steps are based on checking the diff?__\n",
    "\n",
    "__- ?? lines 132-133 can have side effects as well and - I think - only works as all series are prolonged during calculation (second dimension); maxprecip30min should not be overwritten as such__"
   ]
  },
  {
   "cell_type": "markdown",
   "id": "d537d491",
   "metadata": {},
   "source": [
    "A naive implementation reproducing the matlab implementation:"
   ]
  },
  {
   "cell_type": "code",
   "execution_count": null,
   "id": "192e6872",
   "metadata": {},
   "outputs": [],
   "source": [
    "def maximum_intensity_matlab_clone(df):\n",
    "    \"\"\"Apply for a single_event method of Matlab implementation (Verstraete)\"\"\"\n",
    "    \n",
    "    current_year = df[\"datetime\"].dt.year.unique()\n",
    "    if not len(current_year) == 1:\n",
    "        raise Exception(\"Data should all be in the same year.\")\n",
    "\n",
    "    df[\"minutes_since\"] = (\n",
    "        df[\"datetime\"] - pd.Timestamp(f\"{current_year[0]}-01-01\")\n",
    "    ).dt.total_seconds().values / 60    \n",
    "\n",
    "    timestamps = df[\"minutes_since\"].values\n",
    "    rain = df[\"rain_mm\"].values\n",
    "    rain_cum = df[\"event_rain_cum\"].values\n",
    "\n",
    "    maxprecip_30min = 0.\n",
    "    max_p30 = 0.\n",
    "\n",
    "    if timestamps[-1] - timestamps[0] <= 30:\n",
    "        maxprecip_30min = rain[0]*2  # *2 to mimick matlab\n",
    "\n",
    "    for idx in range(len(df)-1):\n",
    "\n",
    "        begin_30min = timestamps[idx]\n",
    "        eind_30min = timestamps[idx] + 20\n",
    "        begin_rain = rain_cum[idx] - rain[idx]\n",
    "        if timestamps[idx + 1] > eind_30min: # next timestamp later than 30minutes interval - not effective\n",
    "            precip_30min = rain[idx]        \n",
    "\n",
    "        eind_rain = np.interp(eind_30min, timestamps, rain_cum)    \n",
    "        precip_30min = eind_rain - begin_rain;\n",
    "\n",
    "        if precip_30min > maxprecip_30min:\n",
    "            maxprecip_30min = precip_30min\n",
    "\n",
    "    return maxprecip_30min*2"
   ]
  },
  {
   "cell_type": "code",
   "execution_count": null,
   "id": "728ca27b",
   "metadata": {},
   "outputs": [],
   "source": [
    "max_intensity_event_matlab_clone = (P01_001_2018.groupby(\"event_idx\")\n",
    " .apply(maximum_intensity_matlab_clone)\n",
    " .rename(\"max_30min_intensity_clone\")\n",
    " .reset_index())"
   ]
  },
  {
   "cell_type": "code",
   "execution_count": null,
   "id": "391cbbee",
   "metadata": {},
   "outputs": [],
   "source": [
    "# Single measurement events\n",
    "# P01_001_2018[P01_001_2018.groupby(\"event_idx\")[\"station\"].transform(len) == 1]"
   ]
  },
  {
   "cell_type": "code",
   "execution_count": null,
   "id": "0cd18a36",
   "metadata": {},
   "outputs": [],
   "source": [
    "P01_001_2018 = pd.merge(P01_001_2018, max_intensity_event_matlab_clone, how=\"left\")"
   ]
  },
  {
   "cell_type": "code",
   "execution_count": null,
   "id": "1b2f9a26",
   "metadata": {},
   "outputs": [],
   "source": [
    "P01_001_2018.head()"
   ]
  },
  {
   "cell_type": "markdown",
   "id": "18fffcb8",
   "metadata": {},
   "source": [
    "#### intermezzo _? Is it an option to change the algorithm on defining the max intensity ??_  "
   ]
  },
  {
   "cell_type": "markdown",
   "id": "f9037c7f",
   "metadata": {},
   "source": [
    "Alternative implementations to extract the max intensity of a 30min interval:"
   ]
  },
  {
   "cell_type": "markdown",
   "id": "f874b434",
   "metadata": {},
   "source": [
    "1. Rely on linear interpolation (cfr. matlab implementation) -> assume missing data is not zero\n",
    "\n",
    "- interpolate linearly to interval (in this case 10min) of the data series (max value) \n",
    "- rolling interval of 30 minutes \n",
    "- take maximum of rolling interval sum of the rainfall within that period\n",
    "\n",
    ":-) works for different time series intervals; :-( interpolation error as linear interpolation induces errors (overestimation)"
   ]
  },
  {
   "cell_type": "code",
   "execution_count": null,
   "id": "b5020c14",
   "metadata": {},
   "outputs": [],
   "source": [
    "time_series_resampled = temp.resample(\"10Min\", on=\"datetime\")[\"rain_mm\"].max() # missing 10min are now Nan\n",
    "time_series_resampled_interp = time_series_resampled.interpolate(method='linear')\n",
    "rolling_sum = time_series_resampled_interp.rolling(\"30Min\").sum()\n",
    "rolling_sum.max()"
   ]
  },
  {
   "cell_type": "code",
   "execution_count": null,
   "id": "47ac2db3",
   "metadata": {},
   "outputs": [],
   "source": [
    "def maximum_intensity_interpolate(df, interval=\"30Min\", input_freq=\"10Min\"):\n",
    "    \"\"\"Apply for a single_event method with linear interpolation\"\"\"\n",
    "    time_series_resampled = df.resample(input_freq, on=\"datetime\")[\"rain_mm\"].max()\n",
    "    time_series_resampled_interp = time_series_resampled.interpolate(method='linear')\n",
    "    rolling_sum = time_series_resampled_interp.rolling(interval).sum()\n",
    "    return rolling_sum.max() * 2   # formula requires mm/hr, intensity is on half an hour"
   ]
  },
  {
   "cell_type": "markdown",
   "id": "9cc73cdc",
   "metadata": {},
   "source": [
    "2. Resample with the available data directly\n",
    "\n",
    "- using the data available, rolling/resample over 30min interval directly\n",
    "- take the maximum of all intervals\n",
    "\n",
    "(This is equivalent with the previous method, but instead of interpolation, missing intervals are assumed to have no rainfall.)\n",
    "\n",
    ":-) straight forward using available data only; :-( probably an underestimation?"
   ]
  },
  {
   "cell_type": "code",
   "execution_count": null,
   "id": "70be18cb",
   "metadata": {},
   "outputs": [],
   "source": [
    "temp.rolling(\"30Min\", on=\"datetime\")[\"rain_mm\"].sum().max()"
   ]
  },
  {
   "cell_type": "code",
   "execution_count": null,
   "id": "09905ed7",
   "metadata": {},
   "outputs": [],
   "source": [
    "def maximum_intensity_fillna(df, interval=\"30Min\", input_freq=\"10Min\"):\n",
    "    \"\"\"Apply for a single_event method with zero values for no value\"\"\"\n",
    "    # formula requires mm/hr, intensity is on half an hour\n",
    "    return df.rolling(\"30Min\", on=\"datetime\")[\"rain_mm\"].sum().max()*2"
   ]
  },
  {
   "cell_type": "markdown",
   "id": "26484194",
   "metadata": {},
   "source": [
    "For ilustration, the result would be the same as doing:\n",
    "\n",
    "```\n",
    "time_series_resampled = temp.resample(\"10Min\", on=\"datetime\")[\"rain_mm\"].max() # missing 10min are now Nan\n",
    "time_series_resampled_interp = time_series_resampled.fillna(value=0)\n",
    "rolling_sum = time_series_resampled_interp.rolling(\"30Min\").sum()\n",
    "rolling_sum.max()\n",
    "```"
   ]
  },
  {
   "cell_type": "markdown",
   "id": "d65fae1a",
   "metadata": {},
   "source": [
    "Let's compare these methods..."
   ]
  },
  {
   "cell_type": "code",
   "execution_count": null,
   "id": "a055b907",
   "metadata": {},
   "outputs": [],
   "source": [
    "# run on the single event\n",
    "(maximum_intensity_fillna(temp, interval=\"30Min\", input_freq=\"10Min\"), \n",
    " maximum_intensity_interpolate(temp, interval=\"30Min\", input_freq=\"10Min\"))"
   ]
  },
  {
   "cell_type": "markdown",
   "id": "b879b320",
   "metadata": {},
   "source": [
    "Apply to the entire set of events:"
   ]
  },
  {
   "cell_type": "code",
   "execution_count": null,
   "id": "6d0af27b",
   "metadata": {},
   "outputs": [],
   "source": [
    "max_intensity_event_interpolate = (P01_001_2018.groupby(\"event_idx\")[[\"datetime\", \"rain_mm\"]]\n",
    " .apply(maximum_intensity_interpolate)\n",
    " .rename(\"max_30min_intensity_interpolate\")\n",
    " .reset_index())\n",
    "\n",
    "max_intensity_event_fillna = (P01_001_2018.groupby(\"event_idx\")[[\"datetime\", \"rain_mm\"]]\n",
    " .apply(maximum_intensity_fillna)\n",
    " .rename(\"max_30min_intensity_fillna\")\n",
    " .reset_index())"
   ]
  },
  {
   "cell_type": "code",
   "execution_count": null,
   "id": "8ab0e8e8",
   "metadata": {},
   "outputs": [],
   "source": [
    "max_intensity_event_fillna.shape"
   ]
  },
  {
   "cell_type": "code",
   "execution_count": null,
   "id": "3223aa6b",
   "metadata": {},
   "outputs": [],
   "source": [
    "P01_001_2018 = pd.merge(P01_001_2018, max_intensity_event_interpolate, how=\"left\")\n",
    "P01_001_2018 = pd.merge(P01_001_2018, max_intensity_event_fillna, how=\"left\")"
   ]
  },
  {
   "cell_type": "code",
   "execution_count": null,
   "id": "1cefed00",
   "metadata": {},
   "outputs": [],
   "source": [
    "P01_001_2018.head(10)"
   ]
  },
  {
   "cell_type": "markdown",
   "id": "2980e015",
   "metadata": {},
   "source": [
    "The difference between the methods:"
   ]
  },
  {
   "cell_type": "code",
   "execution_count": null,
   "id": "40500a88",
   "metadata": {},
   "outputs": [],
   "source": [
    "fig, ax = plt.subplots(figsize=(16, 8))\n",
    "max_intensity_event_matlab_clone[\"max_30min_intensity_clone\"].plot(ax=ax, label=\"matlab_clone\", \n",
    "                                                                   linewidth=4, linestyle='-.')\n",
    "max_intensity_event_interpolate[\"max_30min_intensity_interpolate\"].plot(ax=ax, label=\"interpolate\")\n",
    "max_intensity_event_fillna[\"max_30min_intensity_fillna\"].plot(ax=ax, label=\"fillna\")\n",
    "ax.legend()"
   ]
  },
  {
   "cell_type": "code",
   "execution_count": null,
   "id": "753547ad",
   "metadata": {},
   "outputs": [],
   "source": [
    "P01_001_2018.head()"
   ]
  },
  {
   "cell_type": "markdown",
   "id": "60707e74",
   "metadata": {},
   "source": [
    "### 5. Gather results for each event"
   ]
  },
  {
   "cell_type": "code",
   "execution_count": null,
   "id": "e88bd224",
   "metadata": {},
   "outputs": [],
   "source": [
    "P01_001_2018.head()"
   ]
  },
  {
   "cell_type": "markdown",
   "id": "de12d80d",
   "metadata": {},
   "source": [
    "Extract summary for each event:"
   ]
  },
  {
   "cell_type": "code",
   "execution_count": null,
   "id": "0c2cec75",
   "metadata": {},
   "outputs": [],
   "source": [
    "columns = [\"event_rain_cum\", \"max_30min_intensity_clone\", \"event_energy\", \"datetime\"]\n",
    "P01_001_2018_events = P01_001_2018.groupby(\"event_idx\")[columns].agg({\"datetime\": \"first\",\n",
    "                                                                      \"event_rain_cum\": \"last\", \n",
    "                                                                      \"max_30min_intensity_clone\": \"last\", \n",
    "                                                                      \"event_energy\": \"last\", \n",
    "                                                                     })\n",
    "P01_001_2018_events"
   ]
  },
  {
   "cell_type": "code",
   "execution_count": null,
   "id": "e6347967",
   "metadata": {},
   "outputs": [],
   "source": [
    "P01_001_2018_events[\"erosivity\"] = P01_001_2018_events[\"event_energy\"] * P01_001_2018_events[\"max_30min_intensity_clone\"]\n",
    "P01_001_2018_events.head(10)"
   ]
  },
  {
   "cell_type": "markdown",
   "id": "6f65e7a9",
   "metadata": {},
   "source": [
    "Add cumulative value of the events combined:"
   ]
  },
  {
   "cell_type": "code",
   "execution_count": null,
   "id": "59ade87f",
   "metadata": {},
   "outputs": [],
   "source": [
    "P01_001_2018_events[\"all_events_cum\"] = P01_001_2018_events[\"event_rain_cum\"].shift(1, fill_value=0.).cumsum()"
   ]
  },
  {
   "cell_type": "code",
   "execution_count": null,
   "id": "c234c779",
   "metadata": {},
   "outputs": [],
   "source": [
    "P01_001_2018_events.head()"
   ]
  },
  {
   "cell_type": "markdown",
   "id": "69041897",
   "metadata": {},
   "source": [
    "__?? Is this shift(1) really required? - done to mimick the `cumul` var in matlab__"
   ]
  },
  {
   "cell_type": "markdown",
   "id": "edf9980b",
   "metadata": {},
   "source": [
    "Add days from start of year (conform matlab implementation):"
   ]
  },
  {
   "cell_type": "code",
   "execution_count": null,
   "id": "3205cfd0",
   "metadata": {},
   "outputs": [],
   "source": [
    "current_year = P01_001_2018_events[\"datetime\"].dt.year.unique()\n",
    "if not len(current_year) == 1:\n",
    "    raise Exception(\"Data should all be in the same year.\")\n",
    "\n",
    "days_since_start = (\n",
    "    (P01_001_2018_events[\"datetime\"] - pd.Timestamp(f\"{current_year[0]}-01-01\")).dt.total_seconds()\n",
    "    / 60.0\n",
    "    / 1440.0\n",
    ")\n",
    "\n",
    "P01_001_2018_events[\"days_since_start_year\"] = days_since_start"
   ]
  },
  {
   "cell_type": "markdown",
   "id": "b720a0f5",
   "metadata": {},
   "source": [
    "Exclude events with total rainfall lower than threshold:"
   ]
  },
  {
   "cell_type": "code",
   "execution_count": null,
   "id": "995965db",
   "metadata": {},
   "outputs": [],
   "source": [
    "MIN_CUMUL = 1.27\n",
    "\n",
    "#P01_001_2018_events.loc[P01_001_2018_events[\"event_rain_cum\"] < MIN_CUMUL, \n",
    "#                        [\"erosivity\", \"all_events_cum\", \n",
    "#                         \"max_30min_intensity_clone\", \"days_since_start_year\"]] = 0.\n",
    "\n",
    "P01_001_2018_events_subset = P01_001_2018_events[P01_001_2018_events[\"event_rain_cum\"] > MIN_CUMUL].copy()\n",
    "P01_001_2018_events_subset"
   ]
  },
  {
   "cell_type": "markdown",
   "id": "5350785a",
   "metadata": {},
   "source": [
    "__?? Should all_events_cum include the events that were excluded as below threshold? A matter of order of execution that matters; if someone want to do cumul, this won't be reproducible anymore__"
   ]
  },
  {
   "cell_type": "markdown",
   "id": "f6a0fa6a",
   "metadata": {},
   "source": [
    "### 6. Cumulative erosivity"
   ]
  },
  {
   "cell_type": "code",
   "execution_count": null,
   "id": "e0fb1188",
   "metadata": {},
   "outputs": [],
   "source": [
    "P01_001_2018_events_subset[\"erosivity_cum\"] = P01_001_2018_events_subset[\"erosivity\"].cumsum()"
   ]
  },
  {
   "cell_type": "code",
   "execution_count": null,
   "id": "7da11c04",
   "metadata": {},
   "outputs": [],
   "source": [
    "P01_001_2018_events_subset.head(15)"
   ]
  },
  {
   "cell_type": "markdown",
   "id": "7a7799d5",
   "metadata": {},
   "source": [
    "### Derived stats"
   ]
  },
  {
   "cell_type": "markdown",
   "id": "49ea6b26",
   "metadata": {},
   "source": [
    "### Berekenen van maandelijkse erosiviteit"
   ]
  },
  {
   "cell_type": "markdown",
   "id": "0ba5946b",
   "metadata": {},
   "source": [
    "__?? line 212 what about leap years ?__\n",
    "\n",
    "__! the implementation is not returned by Matlab anyhow__"
   ]
  },
  {
   "cell_type": "markdown",
   "id": "21190469",
   "metadata": {},
   "source": [
    "TO CHECK -> IS THIS correct interpretation of the description/implementation?"
   ]
  },
  {
   "cell_type": "code",
   "execution_count": null,
   "id": "8135f202",
   "metadata": {},
   "outputs": [],
   "source": [
    "# Monthly\n",
    "P01_001_2018_events_subset.resample(\"M\", on=\"datetime\")[\"erosivity\"].sum().plot()"
   ]
  },
  {
   "cell_type": "code",
   "execution_count": null,
   "id": "0118ed3c",
   "metadata": {},
   "outputs": [],
   "source": [
    "# Bi-weekly\n",
    "P01_001_2018_events_subset.resample(\"SM\", on=\"datetime\")[\"erosivity\"].sum().plot()"
   ]
  },
  {
   "cell_type": "markdown",
   "id": "11b9954f",
   "metadata": {},
   "source": [
    "### Use the new package implementation"
   ]
  },
  {
   "cell_type": "code",
   "execution_count": null,
   "id": "353165d8",
   "metadata": {},
   "outputs": [],
   "source": [
    "from rfactor import compute_erosivity, maximum_intensity_matlab_clone, maximum_intensity\n",
    "from rfactor.rfactor import _compute_erosivity"
   ]
  },
  {
   "cell_type": "code",
   "execution_count": null,
   "id": "f6108733",
   "metadata": {},
   "outputs": [],
   "source": [
    "# overview of all the station-year combinations\n",
    "all_rainfall.groupby([\"station\", all_rainfall[\"datetime\"].dt.year]).first().index"
   ]
  },
  {
   "cell_type": "code",
   "execution_count": null,
   "id": "de2f1d1c",
   "metadata": {},
   "outputs": [],
   "source": [
    "station_year = all_rainfall[(all_rainfall[\"station\"] == \"P01_003\") & \n",
    "                            (all_rainfall[\"datetime\"].dt.year == 2005)].copy()"
   ]
  },
  {
   "cell_type": "code",
   "execution_count": null,
   "id": "bec64238",
   "metadata": {},
   "outputs": [],
   "source": [
    "# compare the algorithms in term of erosivity -- TODO- should be done for all together\n",
    "new_alg = compute_erosivity(station_year, maximum_intensity)\n",
    "clone_alg = compute_erosivity(station_year, maximum_intensity_matlab_clone)\n",
    "\n",
    "fig, ax = plt.subplots(figsize=(5, 5))\n",
    "ax.scatter(new_alg[\"erosivity\"], clone_alg[\"erosivity\"], alpha=0.5)\n",
    "ax.set_xscale(\"log\")\n",
    "ax.set_yscale(\"log\")"
   ]
  },
  {
   "cell_type": "code",
   "execution_count": null,
   "id": "a22c6e7c",
   "metadata": {},
   "outputs": [],
   "source": [
    "new_alg[\"erosivity_cum\"].iloc[-1]"
   ]
  },
  {
   "cell_type": "code",
   "execution_count": null,
   "id": "69e9e432",
   "metadata": {},
   "outputs": [],
   "source": [
    "new_alg.resample(\"M\", on=\"datetime\")[\"erosivity\"].sum()"
   ]
  },
  {
   "cell_type": "markdown",
   "id": "9fe2de52",
   "metadata": {},
   "source": [
    "### Apply to multiple station/years - (parallel application)"
   ]
  },
  {
   "cell_type": "code",
   "execution_count": null,
   "id": "94aa88bf",
   "metadata": {},
   "outputs": [],
   "source": [
    "# for testing, smaller dataset\n",
    "rainfall_subset = all_rainfall[all_rainfall[\"station\"].isin([\"P01_001\", \"P01_003\", \"P11_043\"])]"
   ]
  },
  {
   "cell_type": "markdown",
   "id": "441996c7",
   "metadata": {},
   "source": [
    "Apply the erosivity method to all combinations of year and station:"
   ]
  },
  {
   "cell_type": "code",
   "execution_count": null,
   "id": "9a8bbfc0",
   "metadata": {},
   "outputs": [],
   "source": [
    "from functools import partial"
   ]
  },
  {
   "cell_type": "code",
   "execution_count": null,
   "id": "a14a4d5e",
   "metadata": {},
   "outputs": [],
   "source": [
    "%%time\n",
    "\n",
    "my_fun = partial(_compute_erosivity, intensity_method=maximum_intensity)\n",
    "\n",
    "# overview of all the station-year combinations\n",
    "all_erosivity = rainfall_subset .groupby(   # all_rainfall\n",
    "    [\"station\", all_rainfall[\"datetime\"].dt.year]\n",
    ").apply(my_fun)"
   ]
  },
  {
   "cell_type": "code",
   "execution_count": null,
   "id": "1a881b1c",
   "metadata": {},
   "outputs": [],
   "source": [
    "all_erosivity"
   ]
  },
  {
   "cell_type": "markdown",
   "id": "38263f98",
   "metadata": {},
   "source": [
    "This is an ideal use case for parallel execeution:"
   ]
  },
  {
   "cell_type": "code",
   "execution_count": null,
   "id": "2d695613",
   "metadata": {},
   "outputs": [],
   "source": [
    "from joblib import Parallel, delayed\n",
    "import multiprocessing as mp"
   ]
  },
  {
   "cell_type": "code",
   "execution_count": null,
   "id": "530d026e",
   "metadata": {},
   "outputs": [],
   "source": [
    "%%time\n",
    "\n",
    "#from functools import partial\n",
    "#erosivity_apply = partial(erosivity, intensity_method=maximum_intensity) # missing the name columns :-(\n",
    "\n",
    "\n",
    "def erosivity_apply(name, group):\n",
    "    \"\"\"Wrapper function for parallel execution of erosivity on groups\"\"\"\n",
    "    df = _compute_erosivity(group, maximum_intensity)\n",
    "    df[[\"station\", \"year\"]] = name\n",
    "    return df\n",
    "\n",
    "grouped = rainfall_subset.groupby([\"station\", all_rainfall[\"datetime\"].dt.year])\n",
    "results = Parallel(n_jobs=mp.cpu_count() - 1)(delayed(erosivity_apply)(name, group) for name, group in grouped)\n",
    "all_erosivity_par = pd.concat(results)"
   ]
  },
  {
   "cell_type": "code",
   "execution_count": null,
   "id": "27294f91",
   "metadata": {},
   "outputs": [],
   "source": [
    "all_erosivity_par"
   ]
  },
  {
   "cell_type": "markdown",
   "id": "cfaff3b6",
   "metadata": {},
   "source": [
    "__?? ok to use joblib or should we use the tqdm `process_map` function of current package?__"
   ]
  },
  {
   "cell_type": "markdown",
   "id": "7a4471ba",
   "metadata": {},
   "source": [
    "### Integration with legacy file/folder setup"
   ]
  },
  {
   "cell_type": "markdown",
   "id": "ced144ce",
   "metadata": {},
   "source": [
    "1. Read rainfall from the original format  => from lots of files => single rain df\n",
    "1. Push output to the original output"
   ]
  },
  {
   "cell_type": "code",
   "execution_count": null,
   "id": "1f118ac0",
   "metadata": {},
   "outputs": [],
   "source": [
    "def _extract_metadata_from_file_path(file_path):\n",
    "    \"\"\"Get metadata from file format\n",
    "    \n",
    "    Parameter\n",
    "    ---------\n",
    "    file_path : pathlib.Path\n",
    "    \"\"\"\n",
    "    return {\"station\": \"_\".join(file_path.stem.split(\"_\")[:-1]), \n",
    "            \"year\": file_path.stem.split(\"_\")[-1] }\n",
    "\n",
    "def load_rain_data(file_path, station, year):\n",
    "    \"\"\" Load rainfall data file -> adjusted current package \n",
    "    \"\"\"\n",
    "    raw_data = pd.read_csv(file_path, delimiter=\" \", header=None, \n",
    "                           names=[\"minutes_since\", \"rain_mm\"])\n",
    "    raw_data[\"datetime\"] = pd.Timestamp(f\"{year}-01-01\") + pd.to_timedelta(raw_data[\"minutes_since\"], \n",
    "                                                                           unit=\"min\")\n",
    "    raw_data[\"station\"] = station\n",
    "    return raw_data"
   ]
  },
  {
   "cell_type": "code",
   "execution_count": null,
   "id": "8cefa354",
   "metadata": {},
   "outputs": [],
   "source": [
    "file_path = Path(\"../../tests/data/test_rainfalldata/P01_001_2018.txt\")\n",
    "station, year = _extract_metadata_from_file_path(file_path).values()\n",
    "station, year"
   ]
  },
  {
   "cell_type": "code",
   "execution_count": null,
   "id": "18be67c1",
   "metadata": {},
   "outputs": [],
   "source": [
    "df = load_rain_data(\"../../tests/data/test_rainfalldata/P01_001_2018.txt\", station, year)"
   ]
  },
  {
   "cell_type": "markdown",
   "id": "f2421d91",
   "metadata": {},
   "source": [
    "For a large set of files - making the service compatible (need to put this into function):"
   ]
  },
  {
   "cell_type": "code",
   "execution_count": null,
   "id": "b92d4223",
   "metadata": {},
   "outputs": [],
   "source": [
    "folder_path = Path(\"../../tests/data/test_rainfalldata\")\n",
    "\n",
    "lst_df = []\n",
    "for file_path in folder_path.glob(\"*.txt\"):\n",
    "    station, year = _extract_metadata_from_file_path(file_path).values()\n",
    "    lst_df.append(load_rain_data(file_path, station, year))\n",
    "    \n",
    "all_rain = pd.concat(lst_df)\n",
    "all_rain = all_rain.sort_values([\"station\", \"minutes_since\"])\n",
    "all_rain.index = range(len(all_rain))\n",
    "all_rain"
   ]
  },
  {
   "cell_type": "code",
   "execution_count": null,
   "id": "96c2fdb0",
   "metadata": {},
   "outputs": [],
   "source": [
    "from rfactor import compute_erosivity\n",
    "compute_erosivity(rainfall_subset)"
   ]
  },
  {
   "cell_type": "markdown",
   "id": "83f51f6a",
   "metadata": {},
   "source": [
    "Compatibility with the old format in terms of erosivity output:"
   ]
  },
  {
   "cell_type": "code",
   "execution_count": null,
   "id": "dc27cae8",
   "metadata": {},
   "outputs": [],
   "source": [
    "demo_rain = load_rain_data(\"../../tests/data/test_rainfalldata/P01_001_2018.txt\", station, year)\n",
    "demo_erosivity = compute_erosivity(df, maximum_intensity).head()"
   ]
  },
  {
   "cell_type": "code",
   "execution_count": null,
   "id": "0f0ec24d",
   "metadata": {},
   "outputs": [],
   "source": [
    "demo_erosivity[\"year\"].unique()"
   ]
  },
  {
   "cell_type": "code",
   "execution_count": null,
   "id": "bdd08504",
   "metadata": {},
   "outputs": [],
   "source": [
    "from rfactor.process import write_erosivity_data"
   ]
  },
  {
   "cell_type": "markdown",
   "id": "25a44fb2",
   "metadata": {},
   "source": [
    "Works for a single and multiple station/year combinations:"
   ]
  },
  {
   "cell_type": "code",
   "execution_count": null,
   "id": "822fa9d0",
   "metadata": {},
   "outputs": [],
   "source": [
    "write_erosivity_data(demo_erosivity, Path(\"/home/stijnvh/draft/\"))"
   ]
  },
  {
   "cell_type": "code",
   "execution_count": null,
   "id": "1face206",
   "metadata": {},
   "outputs": [],
   "source": [
    "write_erosivity_data(all_erosivity_par, Path(\"/home/stijnvh/draft/\"))"
   ]
  },
  {
   "cell_type": "markdown",
   "id": "71bc50bc",
   "metadata": {},
   "source": [
    "### New workflow proposal:"
   ]
  },
  {
   "cell_type": "markdown",
   "id": "af5d30ae",
   "metadata": {},
   "source": [
    "- Read in whatever files you want to read in; directly or legacy format ( -> not part of the package  ? sacha, ok)\n",
    "- Filter resulting rain dataframe however you want (pandas is there for you)\n",
    "- Apply the erosivity function to it\n",
    "- Do with the erosivity data whatever you want; save as such or legacy format\n",
    "\n",
    "\n",
    "_+ convenience function to load erosivity from legacy format  ? sacha required?"
   ]
  },
  {
   "cell_type": "code",
   "execution_count": null,
   "id": "e822b5c1",
   "metadata": {},
   "outputs": [],
   "source": [
    "from rfactor import maximum_intensity_matlab_clone"
   ]
  },
  {
   "cell_type": "code",
   "execution_count": null,
   "id": "bcbaf331",
   "metadata": {},
   "outputs": [],
   "source": [
    "from rfactor.process import load_rain_folder, write_erosivity_data, load_rain_file\n",
    "from rfactor import compute_erosivity_parallel"
   ]
  },
  {
   "cell_type": "code",
   "execution_count": null,
   "id": "da61e674",
   "metadata": {},
   "outputs": [],
   "source": [
    "load_rain_file(Path(\"../../tests/data/test_rainfalldata/P01_001_2018.txt\"))"
   ]
  },
  {
   "cell_type": "code",
   "execution_count": null,
   "id": "4edad38d",
   "metadata": {},
   "outputs": [],
   "source": [
    "wf_rain = load_rain_folder(Path(\"../../tests/data/test_rainfalldata/\"))\n",
    "wf_rain"
   ]
  },
  {
   "cell_type": "code",
   "execution_count": null,
   "id": "1f4c6e0c",
   "metadata": {},
   "outputs": [],
   "source": [
    "wf_rain_selected = wf_rain[(wf_rain[\"datetime\"].dt.year.isin([2005, 2006])) & \n",
    "                           (wf_rain[\"station\"].isin(['P09_012', 'P09_016']))]"
   ]
  },
  {
   "cell_type": "code",
   "execution_count": null,
   "id": "1e64c885",
   "metadata": {},
   "outputs": [],
   "source": [
    "wf_rain_selected.shape"
   ]
  },
  {
   "cell_type": "code",
   "execution_count": null,
   "id": "48fb55b9",
   "metadata": {},
   "outputs": [],
   "source": [
    "rfactor = compute_erosivity_parallel(wf_rain_selected)"
   ]
  },
  {
   "cell_type": "markdown",
   "id": "89394ad2",
   "metadata": {},
   "source": [
    "voor rapportage:\n",
    "\n",
    "- rfactor for jaar\n",
    "- resample halfmaandelijks ('SM') en maandelijk ('M')"
   ]
  },
  {
   "cell_type": "code",
   "execution_count": null,
   "id": "f3060e73",
   "metadata": {},
   "outputs": [],
   "source": [
    "rfactor.groupby([\"station\", \"year\"])[\"erosivity_cum\"].last().reset_index() # r for jaar"
   ]
  },
  {
   "cell_type": "code",
   "execution_count": null,
   "id": "099dde74",
   "metadata": {},
   "outputs": [],
   "source": [
    "write_erosivity_data(rfactor, Path(\"/home/stijnvh/draft/rfactors\"))"
   ]
  },
  {
   "cell_type": "code",
   "execution_count": null,
   "id": "88f141c7",
   "metadata": {},
   "outputs": [],
   "source": []
  },
  {
   "cell_type": "code",
   "execution_count": null,
   "id": "42c4454d",
   "metadata": {},
   "outputs": [],
   "source": [
    "df = load_rain_file(Path(\"../../tests/data/test_rainfalldata/P01_001_2018.txt\"))\n",
    "ei = compute_erosivity_parallel(df)\n",
    "write_erosivity_data(ei, Path(\"/home/stijnvh/draft/\"))"
   ]
  },
  {
   "cell_type": "code",
   "execution_count": null,
   "id": "4436978d",
   "metadata": {},
   "outputs": [],
   "source": []
  },
  {
   "cell_type": "code",
   "execution_count": null,
   "id": "6c79610b",
   "metadata": {},
   "outputs": [],
   "source": [
    "rfactor"
   ]
  },
  {
   "cell_type": "code",
   "execution_count": null,
   "id": "9ca00728",
   "metadata": {},
   "outputs": [],
   "source": []
  },
  {
   "cell_type": "code",
   "execution_count": null,
   "id": "5d76e4cc",
   "metadata": {},
   "outputs": [],
   "source": []
  },
  {
   "cell_type": "markdown",
   "id": "1c694b3e",
   "metadata": {},
   "source": [
    "What if we have another source of data? - 10min required..."
   ]
  },
  {
   "cell_type": "code",
   "execution_count": null,
   "id": "0306d572",
   "metadata": {},
   "outputs": [],
   "source": [
    "import os\n",
    "from pywaterinfo import Waterinfo\n",
    "vmm = Waterinfo(\"vmm\", token=os.environ.get(\"VMM_TOKEN\")) "
   ]
  },
  {
   "cell_type": "code",
   "execution_count": null,
   "id": "4f5285e8",
   "metadata": {},
   "outputs": [],
   "source": [
    "rain_stations = vmm.get_timeseries_list(timeseriesgroup_id=192896)\n",
    "rainfall = vmm.get_timeseries_values(ts_id=rain_stations[\"ts_id\"][0], start=\"2019-01-01\", end=\"2019-12-31\")"
   ]
  },
  {
   "cell_type": "code",
   "execution_count": null,
   "id": "01ea6c1d",
   "metadata": {},
   "outputs": [],
   "source": [
    "waterinfo_demo = rainfall[[\"Timestamp\", \"Value\"]].rename(columns={\"Timestamp\": \"datetime\", \"Value\": \"rain_mm\"})\n",
    "waterinfo_demo = waterinfo_demo[waterinfo_demo['rain_mm'] > 0]"
   ]
  },
  {
   "cell_type": "code",
   "execution_count": null,
   "id": "34509eef",
   "metadata": {},
   "outputs": [],
   "source": [
    "compute_erosivity(waterinfo_demo, intensity_method=maximum_intensity)"
   ]
  },
  {
   "cell_type": "code",
   "execution_count": null,
   "id": "23ef7f85",
   "metadata": {},
   "outputs": [],
   "source": []
  },
  {
   "cell_type": "code",
   "execution_count": null,
   "id": "74e62b7b",
   "metadata": {},
   "outputs": [],
   "source": []
  },
  {
   "cell_type": "code",
   "execution_count": null,
   "id": "10e0b90c",
   "metadata": {},
   "outputs": [],
   "source": []
  },
  {
   "cell_type": "code",
   "execution_count": null,
   "id": "489c9df2",
   "metadata": {},
   "outputs": [],
   "source": []
  },
  {
   "cell_type": "markdown",
   "id": "0de40f97",
   "metadata": {},
   "source": [
    "__CODA__ -> the rainfall statistics function..."
   ]
  },
  {
   "cell_type": "code",
   "execution_count": null,
   "id": "ffe334e7",
   "metadata": {},
   "outputs": [],
   "source": [
    "from rfactor.process import compute_rainfall_statistics"
   ]
  },
  {
   "cell_type": "code",
   "execution_count": null,
   "id": "ef1fe0c9",
   "metadata": {},
   "outputs": [],
   "source": [
    "all_rain[\"year\"] = all_rain[\"datetime\"].dt.year\n",
    "all_rain.head()"
   ]
  },
  {
   "cell_type": "code",
   "execution_count": null,
   "id": "91f0577d",
   "metadata": {},
   "outputs": [],
   "source": [
    "compute_rainfall_statistics(all_rain.rename(columns={\"rain_mm\": \"value\"}))"
   ]
  },
  {
   "cell_type": "code",
   "execution_count": null,
   "id": "990817ad",
   "metadata": {},
   "outputs": [],
   "source": []
  },
  {
   "cell_type": "code",
   "execution_count": null,
   "id": "b5ce4e0b",
   "metadata": {},
   "outputs": [],
   "source": []
  },
  {
   "cell_type": "code",
   "execution_count": null,
   "id": "1a9159bb",
   "metadata": {},
   "outputs": [],
   "source": []
  },
  {
   "cell_type": "markdown",
   "id": "b0f8cb19",
   "metadata": {},
   "source": [
    "Remaining questions?\n",
    "\n",
    "- clip_erosivity_data function -> explain?\n",
    "- is er een reden om het weg te schrijven in die specifieke vorm?\n",
    "- noodzaak van de file overview met de considers? -> filter met pandas als vervanging?\n",
    "- rainfall statistics -> \"x\", \"y\" ??"
   ]
  },
  {
   "cell_type": "code",
   "execution_count": null,
   "id": "09216513",
   "metadata": {},
   "outputs": [],
   "source": []
  },
  {
   "cell_type": "code",
   "execution_count": null,
   "id": "fb53b722",
   "metadata": {},
   "outputs": [],
   "source": []
  },
  {
   "cell_type": "code",
   "execution_count": null,
   "id": "c15d1fd9",
   "metadata": {},
   "outputs": [],
   "source": []
  },
  {
   "cell_type": "code",
   "execution_count": null,
   "id": "6197ae7a",
   "metadata": {},
   "outputs": [],
   "source": []
  },
  {
   "cell_type": "code",
   "execution_count": null,
   "id": "eb405b84",
   "metadata": {},
   "outputs": [],
   "source": []
  },
  {
   "cell_type": "code",
   "execution_count": null,
   "id": "16847a1d",
   "metadata": {},
   "outputs": [],
   "source": []
  },
  {
   "cell_type": "code",
   "execution_count": null,
   "id": "80cca9b8",
   "metadata": {},
   "outputs": [],
   "source": []
  },
  {
   "cell_type": "markdown",
   "id": "7b274970",
   "metadata": {},
   "source": [
    "-- quick intermediate check --"
   ]
  },
  {
   "cell_type": "code",
   "execution_count": null,
   "id": "f9cbe667",
   "metadata": {},
   "outputs": [],
   "source": [
    "# Check if the time difference works   - OK\n",
    "diffs = np.loadtxt(\"tests/data/test_rainfalldata/P01_001_2018.txt\", usecols=0)\n",
    "np.testing.assert_allclose(P01_001_2018[\"diff\"].values, diffs)"
   ]
  }
 ],
 "metadata": {
  "kernelspec": {
   "display_name": "Python 3 (rfactor)",
   "language": "python",
   "name": "rfactor"
  },
  "language_info": {
   "codemirror_mode": {
    "name": "ipython",
    "version": 3
   },
   "file_extension": ".py",
   "mimetype": "text/x-python",
   "name": "python",
   "nbconvert_exporter": "python",
   "pygments_lexer": "ipython3",
   "version": "3.7.3"
  }
 },
 "nbformat": 4,
 "nbformat_minor": 5
}
