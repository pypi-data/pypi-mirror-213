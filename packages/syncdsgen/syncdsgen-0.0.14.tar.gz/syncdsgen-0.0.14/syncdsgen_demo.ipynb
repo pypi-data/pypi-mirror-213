{
 "cells": [
  {
   "attachments": {},
   "cell_type": "markdown",
   "metadata": {},
   "source": [
    "# SynCDsGen: Synthetic Coding Sequences Generator (Demo)"
   ]
  },
  {
   "attachments": {},
   "cell_type": "markdown",
   "metadata": {},
   "source": [
    "The goal of this notebook is to show how to use the SynCDsGen module."
   ]
  },
  {
   "cell_type": "code",
   "execution_count": 1,
   "metadata": {},
   "outputs": [],
   "source": [
    "import torch\n",
    "import SynCDsGen\n",
    "import re\n",
    "import numpy as np"
   ]
  },
  {
   "attachments": {},
   "cell_type": "markdown",
   "metadata": {},
   "source": [
    "## Set the generator configuration"
   ]
  },
  {
   "attachments": {},
   "cell_type": "markdown",
   "metadata": {},
   "source": [
    "### Automatically generate the generator configuration"
   ]
  },
  {
   "attachments": {},
   "cell_type": "markdown",
   "metadata": {},
   "source": [
    "Here we just have to set the number of codons, the number of amino acids and the codon length."
   ]
  },
  {
   "cell_type": "code",
   "execution_count": 2,
   "metadata": {},
   "outputs": [],
   "source": [
    "conf = SynCDsGen.SyncCDsGeneratorConf(nb_codons=20, nb_AAs=5, codon_length=2)"
   ]
  },
  {
   "cell_type": "code",
   "execution_count": 4,
   "metadata": {},
   "outputs": [
    {
     "data": {
      "text/plain": [
       "['AAs',\n",
       " 'AAs_initial_prob_dist',\n",
       " 'AAs_stop_prob_dist',\n",
       " '__class__',\n",
       " '__delattr__',\n",
       " '__dict__',\n",
       " '__dir__',\n",
       " '__doc__',\n",
       " '__eq__',\n",
       " '__format__',\n",
       " '__ge__',\n",
       " '__getattribute__',\n",
       " '__gt__',\n",
       " '__hash__',\n",
       " '__init__',\n",
       " '__init_subclass__',\n",
       " '__le__',\n",
       " '__lt__',\n",
       " '__module__',\n",
       " '__ne__',\n",
       " '__new__',\n",
       " '__reduce__',\n",
       " '__reduce_ex__',\n",
       " '__repr__',\n",
       " '__setattr__',\n",
       " '__sizeof__',\n",
       " '__str__',\n",
       " '__subclasshook__',\n",
       " '__weakref__',\n",
       " 'bases',\n",
       " 'codon_length',\n",
       " 'codons',\n",
       " 'constraints_dict',\n",
       " 'emission_prob_t',\n",
       " 'get_AAs_initial_prob_dist',\n",
       " 'get_AAs_stop_prob_dist',\n",
       " 'is_AA_start_AA',\n",
       " 'is_AA_stop_AA',\n",
       " 'nb_AAs',\n",
       " 'nb_bases',\n",
       " 'nb_codons',\n",
       " 'nb_start_codons',\n",
       " 'nb_stop_codons',\n",
       " 'start_codons',\n",
       " 'stop_codons',\n",
       " 'transition_prob_t',\n",
       " 'translation_dict']"
      ]
     },
     "execution_count": 4,
     "metadata": {},
     "output_type": "execute_result"
    }
   ],
   "source": [
    "#attributes of the conf object\n",
    "dir(conf)"
   ]
  },
  {
   "attachments": {},
   "cell_type": "markdown",
   "metadata": {},
   "source": [
    "### Manually set the generator configuration"
   ]
  },
  {
   "cell_type": "code",
   "execution_count": 3,
   "metadata": {},
   "outputs": [],
   "source": [
    "#define and configure the data generator\n",
    "conf = SynCDsGen.SyncCDsGeneratorConf()\n",
    "\n",
    "conf.bases = ['a', 'b', 'c']\n",
    "conf.codons = ['aa', 'ab', 'ac', 'ba', 'bb', 'bc', 'ca', 'cb']\n",
    "conf.start_codons = ['aa', 'ab']\n",
    "conf.stop_codons = ['ac']\n",
    "conf.AAs = ['A', 'B', 'C', 'D']\n",
    "conf.translation_dict = {\n",
    "    'A':  ['aa', 'ab'],\n",
    "    'B': ['ac'],\n",
    "    'C': ['ba', 'bc', 'bb'],\n",
    "    'D': ['ca', 'cb']\n",
    "}\n",
    "conf.transition_prob_t = torch.Tensor([[0,  0, 1/2, 1/2],\n",
    "                            [0, 0, 1/2, 1/2],\n",
    "                            [0, 0, 1/2, 1/2],\n",
    "                            [0, 0, 1/2, 1/2]])\n",
    "\n",
    "conf.emission_prob_t = torch.Tensor([[1/2, 1/2, 0.0],\n",
    "                          [1, 0.0, 0.0],\n",
    "                          [0.6, 0.2, 0.2],\n",
    "                          [0.7, 0.3, 0.0]])"
   ]
  },
  {
   "attachments": {},
   "cell_type": "markdown",
   "metadata": {},
   "source": [
    "## Generate data from a purely stochastic/Markov type model"
   ]
  },
  {
   "cell_type": "code",
   "execution_count": 5,
   "metadata": {},
   "outputs": [
    {
     "name": "stdout",
     "output_type": "stream",
     "text": [
      "Generation of 5 data points completed!\n",
      "Generation of 10 data points completed!\n"
     ]
    }
   ],
   "source": [
    "generator = SynCDsGen.StochasticSynCDsGenerator(conf)\n",
    "synthetic_data, _, _ = generator.sample(length=100, n_samples=[5, 10], backup_dir=\"data\")"
   ]
  },
  {
   "cell_type": "code",
   "execution_count": 6,
   "metadata": {},
   "outputs": [
    {
     "data": {
      "text/html": [
       "<div>\n",
       "<style scoped>\n",
       "    .dataframe tbody tr th:only-of-type {\n",
       "        vertical-align: middle;\n",
       "    }\n",
       "\n",
       "    .dataframe tbody tr th {\n",
       "        vertical-align: top;\n",
       "    }\n",
       "\n",
       "    .dataframe thead th {\n",
       "        text-align: right;\n",
       "    }\n",
       "</style>\n",
       "<table border=\"1\" class=\"dataframe\">\n",
       "  <thead>\n",
       "    <tr style=\"text-align: right;\">\n",
       "      <th></th>\n",
       "      <th>AAs</th>\n",
       "      <th>CDs</th>\n",
       "    </tr>\n",
       "  </thead>\n",
       "  <tbody>\n",
       "    <tr>\n",
       "      <th>0</th>\n",
       "      <td>ADCB</td>\n",
       "      <td>aacabaac</td>\n",
       "    </tr>\n",
       "    <tr>\n",
       "      <th>1</th>\n",
       "      <td>ADCB</td>\n",
       "      <td>aacabcac</td>\n",
       "    </tr>\n",
       "    <tr>\n",
       "      <th>2</th>\n",
       "      <td>ACDB</td>\n",
       "      <td>abcbcaac</td>\n",
       "    </tr>\n",
       "    <tr>\n",
       "      <th>3</th>\n",
       "      <td>ADCB</td>\n",
       "      <td>aabbbaac</td>\n",
       "    </tr>\n",
       "    <tr>\n",
       "      <th>4</th>\n",
       "      <td>ADCB</td>\n",
       "      <td>abcabcac</td>\n",
       "    </tr>\n",
       "  </tbody>\n",
       "</table>\n",
       "</div>"
      ],
      "text/plain": [
       "    AAs       CDs\n",
       "0  ADCB  aacabaac\n",
       "1  ADCB  aacabcac\n",
       "2  ACDB  abcbcaac\n",
       "3  ADCB  aabbbaac\n",
       "4  ADCB  abcabcac"
      ]
     },
     "execution_count": 6,
     "metadata": {},
     "output_type": "execute_result"
    }
   ],
   "source": [
    "synthetic_data.head()"
   ]
  },
  {
   "attachments": {},
   "cell_type": "markdown",
   "metadata": {},
   "source": [
    "## Generate synthetic data with conditional dependence on previously translated sequence/patterns"
   ]
  },
  {
   "cell_type": "code",
   "execution_count": 2,
   "metadata": {},
   "outputs": [],
   "source": [
    "conf.constraints_dict = {\n",
    "    r\".*A$\": {\n",
    "        'C': torch.Tensor([1, 0, 0])\n",
    "    },\n",
    "    r\".*B$\": {\n",
    "        'C': torch.Tensor([0, 1, 0])\n",
    "    }\n",
    "}"
   ]
  },
  {
   "cell_type": "code",
   "execution_count": 1,
   "metadata": {},
   "outputs": [
    {
     "ename": "NameError",
     "evalue": "name 'SynCDsGen' is not defined",
     "output_type": "error",
     "traceback": [
      "\u001b[0;31m---------------------------------------------------------------------------\u001b[0m",
      "\u001b[0;31mNameError\u001b[0m                                 Traceback (most recent call last)",
      "Cell \u001b[0;32mIn[1], line 1\u001b[0m\n\u001b[0;32m----> 1\u001b[0m generator \u001b[39m=\u001b[39m SynCDsGen\u001b[39m.\u001b[39mAutoregressiveSynCDsGenerator(conf)\n\u001b[1;32m      3\u001b[0m synthetic_data \u001b[39m=\u001b[39m generator\u001b[39m.\u001b[39msample(n_samples\u001b[39m=\u001b[39m[\u001b[39m5\u001b[39m, \u001b[39m10\u001b[39m])\n",
      "\u001b[0;31mNameError\u001b[0m: name 'SynCDsGen' is not defined"
     ]
    }
   ],
   "source": [
    "generator = SynCDsGen.AutoregressiveSynCDsGenerator(conf)\n",
    "\n",
    "synthetic_data = generator.sample(n_samples=[5, 10])"
   ]
  },
  {
   "cell_type": "code",
   "execution_count": 4,
   "metadata": {},
   "outputs": [
    {
     "data": {
      "text/html": [
       "<div>\n",
       "<style scoped>\n",
       "    .dataframe tbody tr th:only-of-type {\n",
       "        vertical-align: middle;\n",
       "    }\n",
       "\n",
       "    .dataframe tbody tr th {\n",
       "        vertical-align: top;\n",
       "    }\n",
       "\n",
       "    .dataframe thead th {\n",
       "        text-align: right;\n",
       "    }\n",
       "</style>\n",
       "<table border=\"1\" class=\"dataframe\">\n",
       "  <thead>\n",
       "    <tr style=\"text-align: right;\">\n",
       "      <th></th>\n",
       "      <th>AAs</th>\n",
       "      <th>CDs</th>\n",
       "    </tr>\n",
       "  </thead>\n",
       "  <tbody>\n",
       "    <tr>\n",
       "      <th>0</th>\n",
       "      <td>ADBCCCCBCDBCDDCCCCCCDDBBBCDCDCCCBCDCDDCDCDDDBCCDB</td>\n",
       "      <td>abbbacbccbbcbaacbcbbacbccabbbababababacbcacaac...</td>\n",
       "    </tr>\n",
       "    <tr>\n",
       "      <th>1</th>\n",
       "      <td>ACBDDDCCCDCCDCCDBBBCBDCBDBDCBBDBBDCDBDBCDCCCBDDCB</td>\n",
       "      <td>aabaaccacacacbbcbacababacababacaacacacbcaccabc...</td>\n",
       "    </tr>\n",
       "    <tr>\n",
       "      <th>2</th>\n",
       "      <td>ADDBCCCDBDCCDCDBDBDCCDDBBCBCCBDDBCBCBCBDDDDBDCDBB</td>\n",
       "      <td>abbbcaacbcbccbcaaccabacbcababbaccaaccabababbca...</td>\n",
       "    </tr>\n",
       "    <tr>\n",
       "      <th>3</th>\n",
       "      <td>ABCDCDCBCBCCCBBCCCBBBCCBBDBDBCDCCBBCBDBBCBDDDCBDB</td>\n",
       "      <td>aaacbccabacabcacbcacbcbacbacacbcbcbaacacacbcba...</td>\n",
       "    </tr>\n",
       "    <tr>\n",
       "      <th>4</th>\n",
       "      <td>ACBDCBBDCDCBDCDCDDCBBCCCDBCBCDBCBCBDDBCBDDCCCBBDB</td>\n",
       "      <td>abbaaccabcacaccabacabaaccababbbacabbbaacacbcba...</td>\n",
       "    </tr>\n",
       "  </tbody>\n",
       "</table>\n",
       "</div>"
      ],
      "text/plain": [
       "                                                 AAs  \\\n",
       "0  ADBCCCCBCDBCDDCCCCCCDDBBBCDCDCCCBCDCDDCDCDDDBCCDB   \n",
       "1  ACBDDDCCCDCCDCCDBBBCBDCBDBDCBBDBBDCDBDBCDCCCBDDCB   \n",
       "2  ADDBCCCDBDCCDCDBDBDCCDDBBCBCCBDDBCBCBCBDDDDBDCDBB   \n",
       "3  ABCDCDCBCBCCCBBCCCBBBCCBBDBDBCDCCBBCBDBBCBDDDCBDB   \n",
       "4  ACBDCBBDCDCBDCDCDDCBBCCCDBCBCDBCBCBDDBCBDDCCCBBDB   \n",
       "\n",
       "                                                 CDs  \n",
       "0  abbbacbccbbcbaacbcbbacbccabbbababababacbcacaac...  \n",
       "1  aabaaccacacacbbcbacababacababacaacacacbcaccabc...  \n",
       "2  abbbcaacbcbccbcaaccabacbcababbaccaaccabababbca...  \n",
       "3  aaacbccabacabcacbcacbcbacbacacbcbcbaacacacbcba...  \n",
       "4  abbaaccabcacaccabacabaaccababbbacabbbaacacbcba...  "
      ]
     },
     "execution_count": 4,
     "metadata": {},
     "output_type": "execute_result"
    }
   ],
   "source": [
    "synthetic_data.head()"
   ]
  }
 ],
 "metadata": {
  "kernelspec": {
   "display_name": "venv",
   "language": "python",
   "name": "python3"
  },
  "language_info": {
   "codemirror_mode": {
    "name": "ipython",
    "version": 3
   },
   "file_extension": ".py",
   "mimetype": "text/x-python",
   "name": "python",
   "nbconvert_exporter": "python",
   "pygments_lexer": "ipython3",
   "version": "3.8.10"
  },
  "orig_nbformat": 4
 },
 "nbformat": 4,
 "nbformat_minor": 2
}
